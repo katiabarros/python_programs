{
 "cells": [
  {
   "cell_type": "markdown",
   "metadata": {},
   "source": [
    "## What is Prouni"
   ]
  },
  {
   "cell_type": "markdown",
   "metadata": {},
   "source": [
    "The University for All Program, in portuguese, 'Programa Universidade Para Todos (Prouni)' from the brazilian government, according to their website:\n",
    "\n",
    "\"Aims to grant full and partial scholarships for undergraduate courses and specific training in private higher education institutions that offer, in return, tax exemption to those institutions that join the Program.\n",
    "\n",
    "Aimed at students graduating from public or private high schools (with full scholarship) and with a maximum income per capita inside the family of three minimum wages, Prouni has an automatic and impersonal selection system, which provides transparency and security to the process. The candidates are selected by their scores on the National High School Exam (Exame Nacional do Ensino Médio - Enem), thus combining inclusion with the quality and merit of the students with the best academic performance.' (free translation of https://dados.gov.br/dataset/mec-prouni)"
   ]
  },
  {
   "cell_type": "markdown",
   "metadata": {},
   "source": [
    "## Dataset"
   ]
  },
  {
   "cell_type": "markdown",
   "metadata": {},
   "source": [
    "The data is public available at https://dados.gov.br/dataset/mec-prouni. Here I'm using a version already downloaded and  concatenated (each year is a different file) based on columns, found on Kaglle at https://www.kaggle.com/datasets/lfarhat/brasil-students-scholarship-prouni-20052019.\n",
    "\n",
    "The dataset is between the years 2005 and 2019 and contains the following data:\n",
    "\n",
    "- ANO_CONCESSAO_BOLSA: year that the scholarship was grant;\t\n",
    "- CODIGO_EMEC_IES_BOLSA: code of the university given by the government;\n",
    "- NOME_IES_BOLSA: name of the university;\n",
    "- TIPO_BOLSA: kind of scholarship: 25%, 50%, 100%;\n",
    "- MODALIDADE_ENSINO_BOLSA: wether the course is in presence or distance;\n",
    "- NOME_CURSO_BOLSA: name of the course;\t\n",
    "- NOME_TURNO_CURSO_BOLSA: wheter the course is full time, evening, morning, afternoon or distance;\t\n",
    "- CPF_BENEFICIARIO_BOLSA: social security identification;\t\n",
    "- SEXO_BENEFICIARIO_BOLSA: gender;\n",
    "- RACA_BENEFICIARIO_BOLSA: race;\t\n",
    "- DT_NASCIMENTO_BENEFICIARIO: birthdate;\t\n",
    "- BENEFICIARIO_DEFICIENTE_FISICO: wheter the person is physically disabled;\t\n",
    "- REGIAO_BENEFICIARIO_BOLSA: macro-region;\t\n",
    "- SIGLA_UF_BENEFICIARIO_BOLSA: state;\n",
    "- MUNICIPIO_BENEFICIARIO_BOLSA: city;\t\n",
    "- idade: age (I delete this entry because it was calculated at the Kaglle version and it's not on the original file)"
   ]
  },
  {
   "cell_type": "markdown",
   "metadata": {},
   "source": [
    "## Why this analyse"
   ]
  },
  {
   "cell_type": "markdown",
   "metadata": {},
   "source": [
    "After living in Germany for many years and seeing that public university is accessible to all, I would like to understand what is the profile of the brazilian student who don´t have access to public university and still manage to find a way to study. I would like to understand:\n",
    "- the evolution of the benefit over the years;\n",
    "- if there are any universities which grants more scholarships;\n",
    "- what type of grand is mostly rewarded;\n",
    "- if there are more presence or distance, and when in presence, what period of the day is mostly used for the studies;\n",
    "- are there differences between genders and how much;\n",
    "- what race is mosts receives it;\n",
    "- what is the average age of the student;\n",
    "- how many of the students are physically disabled;\n",
    "- which region/state is most helped by the program;\n",
    "- Which courses are most looked for;\n",
    "- can someone be contemplated more than once;\n",
    "- what is the profile of the students who take the most listed course."
   ]
  },
  {
   "cell_type": "markdown",
   "metadata": {},
   "source": [
    "## Data"
   ]
  },
  {
   "cell_type": "code",
   "execution_count": 1,
   "metadata": {},
   "outputs": [
    {
     "name": "stderr",
     "output_type": "stream",
     "text": [
      "C:\\Users\\Mendes\\anaconda3\\lib\\site-packages\\fuzzywuzzy\\fuzz.py:11: UserWarning: Using slow pure-python SequenceMatcher. Install python-Levenshtein to remove this warning\n",
      "  warnings.warn('Using slow pure-python SequenceMatcher. Install python-Levenshtein to remove this warning')\n"
     ]
    }
   ],
   "source": [
    "import numpy as np \n",
    "import pandas as pd \n",
    "import matplotlib.pyplot as plt\n",
    "import seaborn as sns\n",
    "sns.set()\n",
    "import fuzzywuzzy\n",
    "from fuzzywuzzy import process"
   ]
  },
  {
   "cell_type": "code",
   "execution_count": 2,
   "metadata": {},
   "outputs": [
    {
     "data": {
      "text/html": [
       "<div>\n",
       "<style scoped>\n",
       "    .dataframe tbody tr th:only-of-type {\n",
       "        vertical-align: middle;\n",
       "    }\n",
       "\n",
       "    .dataframe tbody tr th {\n",
       "        vertical-align: top;\n",
       "    }\n",
       "\n",
       "    .dataframe thead th {\n",
       "        text-align: right;\n",
       "    }\n",
       "</style>\n",
       "<table border=\"1\" class=\"dataframe\">\n",
       "  <thead>\n",
       "    <tr style=\"text-align: right;\">\n",
       "      <th></th>\n",
       "      <th>ANO_CONCESSAO_BOLSA</th>\n",
       "      <th>CODIGO_EMEC_IES_BOLSA</th>\n",
       "      <th>NOME_IES_BOLSA</th>\n",
       "      <th>TIPO_BOLSA</th>\n",
       "      <th>MODALIDADE_ENSINO_BOLSA</th>\n",
       "      <th>NOME_CURSO_BOLSA</th>\n",
       "      <th>NOME_TURNO_CURSO_BOLSA</th>\n",
       "      <th>CPF_BENEFICIARIO_BOLSA</th>\n",
       "      <th>SEXO_BENEFICIARIO_BOLSA</th>\n",
       "      <th>RACA_BENEFICIARIO_BOLSA</th>\n",
       "      <th>DT_NASCIMENTO_BENEFICIARIO</th>\n",
       "      <th>BENEFICIARIO_DEFICIENTE_FISICO</th>\n",
       "      <th>REGIAO_BENEFICIARIO_BOLSA</th>\n",
       "      <th>SIGLA_UF_BENEFICIARIO_BOLSA</th>\n",
       "      <th>MUNICIPIO_BENEFICIARIO_BOLSA</th>\n",
       "    </tr>\n",
       "  </thead>\n",
       "  <tbody>\n",
       "    <tr>\n",
       "      <th>0</th>\n",
       "      <td>2005</td>\n",
       "      <td>423</td>\n",
       "      <td>UNIVERSIDADE REGIONAL INTEGRADA DO ALTO URUGUA...</td>\n",
       "      <td>BOLSA PARCIAL 50%</td>\n",
       "      <td>PRESENCIAL</td>\n",
       "      <td>Enfermagem</td>\n",
       "      <td>Integral</td>\n",
       "      <td>***264740**</td>\n",
       "      <td>F</td>\n",
       "      <td>Branca</td>\n",
       "      <td>1987-02-17</td>\n",
       "      <td>nao</td>\n",
       "      <td>SUL</td>\n",
       "      <td>RS</td>\n",
       "      <td>santo angelo</td>\n",
       "    </tr>\n",
       "    <tr>\n",
       "      <th>1</th>\n",
       "      <td>2005</td>\n",
       "      <td>423</td>\n",
       "      <td>UNIVERSIDADE REGIONAL INTEGRADA DO ALTO URUGUA...</td>\n",
       "      <td>BOLSA PARCIAL 50%</td>\n",
       "      <td>PRESENCIAL</td>\n",
       "      <td>Servico Social</td>\n",
       "      <td>Noturno</td>\n",
       "      <td>***976940**</td>\n",
       "      <td>F</td>\n",
       "      <td>Parda</td>\n",
       "      <td>1986-06-14</td>\n",
       "      <td>nao</td>\n",
       "      <td>SUL</td>\n",
       "      <td>RS</td>\n",
       "      <td>frederico westphalen</td>\n",
       "    </tr>\n",
       "    <tr>\n",
       "      <th>2</th>\n",
       "      <td>2005</td>\n",
       "      <td>423</td>\n",
       "      <td>UNIVERSIDADE REGIONAL INTEGRADA DO ALTO URUGUA...</td>\n",
       "      <td>BOLSA PARCIAL 50%</td>\n",
       "      <td>PRESENCIAL</td>\n",
       "      <td>Servico Social</td>\n",
       "      <td>Noturno</td>\n",
       "      <td>***045340**</td>\n",
       "      <td>F</td>\n",
       "      <td>Parda</td>\n",
       "      <td>1984-06-03</td>\n",
       "      <td>nao</td>\n",
       "      <td>SUL</td>\n",
       "      <td>RS</td>\n",
       "      <td>frederico westphalen</td>\n",
       "    </tr>\n",
       "    <tr>\n",
       "      <th>3</th>\n",
       "      <td>2005</td>\n",
       "      <td>423</td>\n",
       "      <td>UNIVERSIDADE REGIONAL INTEGRADA DO ALTO URUGUA...</td>\n",
       "      <td>BOLSA PARCIAL 50%</td>\n",
       "      <td>PRESENCIAL</td>\n",
       "      <td>Ciencia Da Computacao</td>\n",
       "      <td>Noturno</td>\n",
       "      <td>***988420**</td>\n",
       "      <td>M</td>\n",
       "      <td>Branca</td>\n",
       "      <td>1987-10-19</td>\n",
       "      <td>nao</td>\n",
       "      <td>SUL</td>\n",
       "      <td>RS</td>\n",
       "      <td>frederico westphalen</td>\n",
       "    </tr>\n",
       "    <tr>\n",
       "      <th>4</th>\n",
       "      <td>2005</td>\n",
       "      <td>423</td>\n",
       "      <td>UNIVERSIDADE REGIONAL INTEGRADA DO ALTO URUGUA...</td>\n",
       "      <td>BOLSA PARCIAL 50%</td>\n",
       "      <td>PRESENCIAL</td>\n",
       "      <td>Ciencia Da Computacao</td>\n",
       "      <td>Noturno</td>\n",
       "      <td>***378080**</td>\n",
       "      <td>M</td>\n",
       "      <td>Amarela</td>\n",
       "      <td>1987-07-20</td>\n",
       "      <td>nao</td>\n",
       "      <td>SUL</td>\n",
       "      <td>RS</td>\n",
       "      <td>frederico westphalen</td>\n",
       "    </tr>\n",
       "  </tbody>\n",
       "</table>\n",
       "</div>"
      ],
      "text/plain": [
       "   ANO_CONCESSAO_BOLSA  CODIGO_EMEC_IES_BOLSA  \\\n",
       "0                 2005                    423   \n",
       "1                 2005                    423   \n",
       "2                 2005                    423   \n",
       "3                 2005                    423   \n",
       "4                 2005                    423   \n",
       "\n",
       "                                      NOME_IES_BOLSA         TIPO_BOLSA  \\\n",
       "0  UNIVERSIDADE REGIONAL INTEGRADA DO ALTO URUGUA...  BOLSA PARCIAL 50%   \n",
       "1  UNIVERSIDADE REGIONAL INTEGRADA DO ALTO URUGUA...  BOLSA PARCIAL 50%   \n",
       "2  UNIVERSIDADE REGIONAL INTEGRADA DO ALTO URUGUA...  BOLSA PARCIAL 50%   \n",
       "3  UNIVERSIDADE REGIONAL INTEGRADA DO ALTO URUGUA...  BOLSA PARCIAL 50%   \n",
       "4  UNIVERSIDADE REGIONAL INTEGRADA DO ALTO URUGUA...  BOLSA PARCIAL 50%   \n",
       "\n",
       "  MODALIDADE_ENSINO_BOLSA       NOME_CURSO_BOLSA NOME_TURNO_CURSO_BOLSA  \\\n",
       "0              PRESENCIAL             Enfermagem               Integral   \n",
       "1              PRESENCIAL         Servico Social                Noturno   \n",
       "2              PRESENCIAL         Servico Social                Noturno   \n",
       "3              PRESENCIAL  Ciencia Da Computacao                Noturno   \n",
       "4              PRESENCIAL  Ciencia Da Computacao                Noturno   \n",
       "\n",
       "  CPF_BENEFICIARIO_BOLSA SEXO_BENEFICIARIO_BOLSA RACA_BENEFICIARIO_BOLSA  \\\n",
       "0            ***264740**                       F                  Branca   \n",
       "1            ***976940**                       F                   Parda   \n",
       "2            ***045340**                       F                   Parda   \n",
       "3            ***988420**                       M                  Branca   \n",
       "4            ***378080**                       M                 Amarela   \n",
       "\n",
       "  DT_NASCIMENTO_BENEFICIARIO BENEFICIARIO_DEFICIENTE_FISICO  \\\n",
       "0                 1987-02-17                            nao   \n",
       "1                 1986-06-14                            nao   \n",
       "2                 1984-06-03                            nao   \n",
       "3                 1987-10-19                            nao   \n",
       "4                 1987-07-20                            nao   \n",
       "\n",
       "  REGIAO_BENEFICIARIO_BOLSA SIGLA_UF_BENEFICIARIO_BOLSA  \\\n",
       "0                       SUL                          RS   \n",
       "1                       SUL                          RS   \n",
       "2                       SUL                          RS   \n",
       "3                       SUL                          RS   \n",
       "4                       SUL                          RS   \n",
       "\n",
       "  MUNICIPIO_BENEFICIARIO_BOLSA  \n",
       "0                 santo angelo  \n",
       "1         frederico westphalen  \n",
       "2         frederico westphalen  \n",
       "3         frederico westphalen  \n",
       "4         frederico westphalen  "
      ]
     },
     "execution_count": 2,
     "metadata": {},
     "output_type": "execute_result"
    }
   ],
   "source": [
    "prouni_raw=pd.read_csv('prouni_2005_2019.csv')#,index_col='index')\n",
    "prouni=prouni_raw.copy()\n",
    "prouni=prouni.drop(['idade'],axis=1)\n",
    "prouni.head()"
   ]
  },
  {
   "cell_type": "code",
   "execution_count": 3,
   "metadata": {},
   "outputs": [
    {
     "data": {
      "text/plain": [
       "ANO_CONCESSAO_BOLSA                  0\n",
       "CODIGO_EMEC_IES_BOLSA                0\n",
       "NOME_IES_BOLSA                     489\n",
       "TIPO_BOLSA                           0\n",
       "MODALIDADE_ENSINO_BOLSA              0\n",
       "NOME_CURSO_BOLSA                  5654\n",
       "NOME_TURNO_CURSO_BOLSA               0\n",
       "CPF_BENEFICIARIO_BOLSA               0\n",
       "SEXO_BENEFICIARIO_BOLSA              0\n",
       "RACA_BENEFICIARIO_BOLSA              0\n",
       "DT_NASCIMENTO_BENEFICIARIO           0\n",
       "BENEFICIARIO_DEFICIENTE_FISICO       0\n",
       "REGIAO_BENEFICIARIO_BOLSA          402\n",
       "SIGLA_UF_BENEFICIARIO_BOLSA        402\n",
       "MUNICIPIO_BENEFICIARIO_BOLSA       402\n",
       "dtype: int64"
      ]
     },
     "execution_count": 3,
     "metadata": {},
     "output_type": "execute_result"
    }
   ],
   "source": [
    "prouni.isnull().sum()"
   ]
  },
  {
   "cell_type": "code",
   "execution_count": 4,
   "metadata": {},
   "outputs": [
    {
     "name": "stdout",
     "output_type": "stream",
     "text": [
      "<class 'pandas.core.frame.DataFrame'>\n",
      "RangeIndex: 2692540 entries, 0 to 2692539\n",
      "Data columns (total 15 columns):\n",
      " #   Column                          Dtype \n",
      "---  ------                          ----- \n",
      " 0   ANO_CONCESSAO_BOLSA             int64 \n",
      " 1   CODIGO_EMEC_IES_BOLSA           int64 \n",
      " 2   NOME_IES_BOLSA                  object\n",
      " 3   TIPO_BOLSA                      object\n",
      " 4   MODALIDADE_ENSINO_BOLSA         object\n",
      " 5   NOME_CURSO_BOLSA                object\n",
      " 6   NOME_TURNO_CURSO_BOLSA          object\n",
      " 7   CPF_BENEFICIARIO_BOLSA          object\n",
      " 8   SEXO_BENEFICIARIO_BOLSA         object\n",
      " 9   RACA_BENEFICIARIO_BOLSA         object\n",
      " 10  DT_NASCIMENTO_BENEFICIARIO      object\n",
      " 11  BENEFICIARIO_DEFICIENTE_FISICO  object\n",
      " 12  REGIAO_BENEFICIARIO_BOLSA       object\n",
      " 13  SIGLA_UF_BENEFICIARIO_BOLSA     object\n",
      " 14  MUNICIPIO_BENEFICIARIO_BOLSA    object\n",
      "dtypes: int64(2), object(13)\n",
      "memory usage: 308.1+ MB\n"
     ]
    }
   ],
   "source": [
    "prouni.info()"
   ]
  },
  {
   "cell_type": "markdown",
   "metadata": {},
   "source": [
    "There is a total of 2.692.540 scholarships given between 2005 and 2019. From all the data, 402 entries miss the location, 5654 miss the name of the course and 489 miss the name of the university."
   ]
  },
  {
   "cell_type": "markdown",
   "metadata": {},
   "source": [
    "### Year"
   ]
  },
  {
   "cell_type": "code",
   "execution_count": 5,
   "metadata": {},
   "outputs": [
    {
     "data": {
      "text/plain": [
       "2005     95629\n",
       "2006    109025\n",
       "2007    105574\n",
       "2008    124621\n",
       "2009    161369\n",
       "2010    152733\n",
       "2011    170766\n",
       "2012    176764\n",
       "2013    177326\n",
       "2014    223598\n",
       "2015    252650\n",
       "2016    239262\n",
       "2017    236636\n",
       "2018    241032\n",
       "2019    225555\n",
       "Name: ANO_CONCESSAO_BOLSA, dtype: int64"
      ]
     },
     "execution_count": 5,
     "metadata": {},
     "output_type": "execute_result"
    }
   ],
   "source": [
    "year=prouni.ANO_CONCESSAO_BOLSA.value_counts().sort_index()\n",
    "year"
   ]
  },
  {
   "cell_type": "code",
   "execution_count": 6,
   "metadata": {},
   "outputs": [
    {
     "data": {
      "image/png": "[encoded data removed]",
      "text/plain": [
       "<Figure size 432x288 with 1 Axes>"
      ]
     },
     "metadata": {},
     "output_type": "display_data"
    }
   ],
   "source": [
    "plt.plot(year)\n",
    "plt.xlabel('Year')\n",
    "plt.ylabel('Scholarships given')\n",
    "plt.show()"
   ]
  },
  {
   "cell_type": "markdown",
   "metadata": {},
   "source": [
    "From the plot above is possible to see that on the first year of the program, almost 100.000 scholarships were granted. This amount increases reaching a maximum of 252.650 in 2015 and started decreasing in the following years."
   ]
  },
  {
   "cell_type": "markdown",
   "metadata": {},
   "source": [
    "### Can someone be contemplated twice?"
   ]
  },
  {
   "cell_type": "markdown",
   "metadata": {},
   "source": [
    "For this check, I'll have a look on the social security identification number together with the birthdate."
   ]
  },
  {
   "cell_type": "code",
   "execution_count": 7,
   "metadata": {},
   "outputs": [
    {
     "data": {
      "text/plain": [
       "***546888**      21\n",
       "***205328**      20\n",
       "***724978**      20\n",
       "***308058**      20\n",
       "***849858**      20\n",
       "                 ..\n",
       "***696900**       1\n",
       "***08394350**     1\n",
       "***91846840**     1\n",
       "***38158925**     1\n",
       "***93368002**     1\n",
       "Name: CPF_BENEFICIARIO_BOLSA, Length: 1316468, dtype: int64"
      ]
     },
     "execution_count": 7,
     "metadata": {},
     "output_type": "execute_result"
    }
   ],
   "source": [
    "prouni.CPF_BENEFICIARIO_BOLSA.value_counts()"
   ]
  },
  {
   "cell_type": "code",
   "execution_count": 8,
   "metadata": {},
   "outputs": [],
   "source": [
    "data_1=prouni[prouni['CPF_BENEFICIARIO_BOLSA']=='***546888**']"
   ]
  },
  {
   "cell_type": "code",
   "execution_count": 9,
   "metadata": {},
   "outputs": [
    {
     "data": {
      "text/plain": [
       "1976-06-15    6\n",
       "1990-03-29    3\n",
       "1994-06-29    2\n",
       "1988-06-16    2\n",
       "1975-06-24    1\n",
       "1978-02-16    1\n",
       "1984-03-04    1\n",
       "1991-06-27    1\n",
       "1987-01-31    1\n",
       "1989-06-11    1\n",
       "1988-01-29    1\n",
       "1982-04-09    1\n",
       "Name: DT_NASCIMENTO_BENEFICIARIO, dtype: int64"
      ]
     },
     "execution_count": 9,
     "metadata": {},
     "output_type": "execute_result"
    }
   ],
   "source": [
    "data_1.DT_NASCIMENTO_BENEFICIARIO.value_counts()"
   ]
  },
  {
   "cell_type": "code",
   "execution_count": 10,
   "metadata": {},
   "outputs": [
    {
     "data": {
      "text/html": [
       "<div>\n",
       "<style scoped>\n",
       "    .dataframe tbody tr th:only-of-type {\n",
       "        vertical-align: middle;\n",
       "    }\n",
       "\n",
       "    .dataframe tbody tr th {\n",
       "        vertical-align: top;\n",
       "    }\n",
       "\n",
       "    .dataframe thead th {\n",
       "        text-align: right;\n",
       "    }\n",
       "</style>\n",
       "<table border=\"1\" class=\"dataframe\">\n",
       "  <thead>\n",
       "    <tr style=\"text-align: right;\">\n",
       "      <th></th>\n",
       "      <th>ANO_CONCESSAO_BOLSA</th>\n",
       "      <th>CODIGO_EMEC_IES_BOLSA</th>\n",
       "      <th>NOME_IES_BOLSA</th>\n",
       "      <th>TIPO_BOLSA</th>\n",
       "      <th>MODALIDADE_ENSINO_BOLSA</th>\n",
       "      <th>NOME_CURSO_BOLSA</th>\n",
       "      <th>NOME_TURNO_CURSO_BOLSA</th>\n",
       "      <th>CPF_BENEFICIARIO_BOLSA</th>\n",
       "      <th>SEXO_BENEFICIARIO_BOLSA</th>\n",
       "      <th>RACA_BENEFICIARIO_BOLSA</th>\n",
       "      <th>DT_NASCIMENTO_BENEFICIARIO</th>\n",
       "      <th>BENEFICIARIO_DEFICIENTE_FISICO</th>\n",
       "      <th>REGIAO_BENEFICIARIO_BOLSA</th>\n",
       "      <th>SIGLA_UF_BENEFICIARIO_BOLSA</th>\n",
       "      <th>MUNICIPIO_BENEFICIARIO_BOLSA</th>\n",
       "    </tr>\n",
       "  </thead>\n",
       "  <tbody>\n",
       "    <tr>\n",
       "      <th>459997</th>\n",
       "      <td>2009</td>\n",
       "      <td>1491</td>\n",
       "      <td>CENTRO UNIVERSITARIO INTERNACIONAL</td>\n",
       "      <td>BOLSA PARCIAL 50%</td>\n",
       "      <td>EAD</td>\n",
       "      <td>Gestao Financeira</td>\n",
       "      <td>A Distancia</td>\n",
       "      <td>***546888**</td>\n",
       "      <td>M</td>\n",
       "      <td>Branca</td>\n",
       "      <td>1976-06-15</td>\n",
       "      <td>nao</td>\n",
       "      <td>SUL</td>\n",
       "      <td>PR</td>\n",
       "      <td>curitiba</td>\n",
       "    </tr>\n",
       "    <tr>\n",
       "      <th>648826</th>\n",
       "      <td>2010</td>\n",
       "      <td>1872</td>\n",
       "      <td>FACULDADES INTEGRADAS SANTA CRUZ DE CURITIBA</td>\n",
       "      <td>BOLSA PARCIAL 50%</td>\n",
       "      <td>PRESENCIAL</td>\n",
       "      <td>Direito</td>\n",
       "      <td>Matutino</td>\n",
       "      <td>***546888**</td>\n",
       "      <td>M</td>\n",
       "      <td>Branca</td>\n",
       "      <td>1976-06-15</td>\n",
       "      <td>nao</td>\n",
       "      <td>SUL</td>\n",
       "      <td>PR</td>\n",
       "      <td>curitiba</td>\n",
       "    </tr>\n",
       "    <tr>\n",
       "      <th>670008</th>\n",
       "      <td>2010</td>\n",
       "      <td>1487</td>\n",
       "      <td>FACULDADE DOM BOSCO</td>\n",
       "      <td>BOLSA INTEGRAL</td>\n",
       "      <td>PRESENCIAL</td>\n",
       "      <td>Direito</td>\n",
       "      <td>Matutino</td>\n",
       "      <td>***546888**</td>\n",
       "      <td>M</td>\n",
       "      <td>Branca</td>\n",
       "      <td>1976-06-15</td>\n",
       "      <td>nao</td>\n",
       "      <td>SUL</td>\n",
       "      <td>PR</td>\n",
       "      <td>curitiba</td>\n",
       "    </tr>\n",
       "    <tr>\n",
       "      <th>1556241</th>\n",
       "      <td>2015</td>\n",
       "      <td>197</td>\n",
       "      <td>FACULDADE DE EDUCACAO SUPERIOR DO PARANA</td>\n",
       "      <td>BOLSA INTEGRAL</td>\n",
       "      <td>PRESENCIAL</td>\n",
       "      <td>Administracao</td>\n",
       "      <td>Matutino</td>\n",
       "      <td>***546888**</td>\n",
       "      <td>M</td>\n",
       "      <td>Branca</td>\n",
       "      <td>1976-06-15</td>\n",
       "      <td>nao</td>\n",
       "      <td>SUL</td>\n",
       "      <td>PR</td>\n",
       "      <td>curitiba</td>\n",
       "    </tr>\n",
       "    <tr>\n",
       "      <th>1679124</th>\n",
       "      <td>2015</td>\n",
       "      <td>5288</td>\n",
       "      <td>FACULDADE ANHANGUERA DE RIBEIRAO PRETO</td>\n",
       "      <td>BOLSA INTEGRAL</td>\n",
       "      <td>PRESENCIAL</td>\n",
       "      <td>Engenharia Mecanica</td>\n",
       "      <td>Noturno</td>\n",
       "      <td>***546888**</td>\n",
       "      <td>M</td>\n",
       "      <td>Branca</td>\n",
       "      <td>1976-06-15</td>\n",
       "      <td>nao</td>\n",
       "      <td>SUL</td>\n",
       "      <td>PR</td>\n",
       "      <td>curitiba</td>\n",
       "    </tr>\n",
       "    <tr>\n",
       "      <th>1940783</th>\n",
       "      <td>2016</td>\n",
       "      <td>1270</td>\n",
       "      <td>CENTRO UNIVERSITARIO ESTACIO DE RIBEIRAO PRETO</td>\n",
       "      <td>BOLSA INTEGRAL</td>\n",
       "      <td>PRESENCIAL</td>\n",
       "      <td>Direito</td>\n",
       "      <td>Noturno</td>\n",
       "      <td>***546888**</td>\n",
       "      <td>M</td>\n",
       "      <td>Branca</td>\n",
       "      <td>1976-06-15</td>\n",
       "      <td>nao</td>\n",
       "      <td>SUL</td>\n",
       "      <td>PR</td>\n",
       "      <td>curitiba</td>\n",
       "    </tr>\n",
       "  </tbody>\n",
       "</table>\n",
       "</div>"
      ],
      "text/plain": [
       "         ANO_CONCESSAO_BOLSA  CODIGO_EMEC_IES_BOLSA  \\\n",
       "459997                  2009                   1491   \n",
       "648826                  2010                   1872   \n",
       "670008                  2010                   1487   \n",
       "1556241                 2015                    197   \n",
       "1679124                 2015                   5288   \n",
       "1940783                 2016                   1270   \n",
       "\n",
       "                                         NOME_IES_BOLSA         TIPO_BOLSA  \\\n",
       "459997               CENTRO UNIVERSITARIO INTERNACIONAL  BOLSA PARCIAL 50%   \n",
       "648826     FACULDADES INTEGRADAS SANTA CRUZ DE CURITIBA  BOLSA PARCIAL 50%   \n",
       "670008                              FACULDADE DOM BOSCO     BOLSA INTEGRAL   \n",
       "1556241        FACULDADE DE EDUCACAO SUPERIOR DO PARANA     BOLSA INTEGRAL   \n",
       "1679124          FACULDADE ANHANGUERA DE RIBEIRAO PRETO     BOLSA INTEGRAL   \n",
       "1940783  CENTRO UNIVERSITARIO ESTACIO DE RIBEIRAO PRETO     BOLSA INTEGRAL   \n",
       "\n",
       "        MODALIDADE_ENSINO_BOLSA     NOME_CURSO_BOLSA NOME_TURNO_CURSO_BOLSA  \\\n",
       "459997                      EAD    Gestao Financeira            A Distancia   \n",
       "648826               PRESENCIAL              Direito               Matutino   \n",
       "670008               PRESENCIAL              Direito               Matutino   \n",
       "1556241              PRESENCIAL        Administracao               Matutino   \n",
       "1679124              PRESENCIAL  Engenharia Mecanica                Noturno   \n",
       "1940783              PRESENCIAL              Direito                Noturno   \n",
       "\n",
       "        CPF_BENEFICIARIO_BOLSA SEXO_BENEFICIARIO_BOLSA  \\\n",
       "459997             ***546888**                       M   \n",
       "648826             ***546888**                       M   \n",
       "670008             ***546888**                       M   \n",
       "1556241            ***546888**                       M   \n",
       "1679124            ***546888**                       M   \n",
       "1940783            ***546888**                       M   \n",
       "\n",
       "        RACA_BENEFICIARIO_BOLSA DT_NASCIMENTO_BENEFICIARIO  \\\n",
       "459997                   Branca                 1976-06-15   \n",
       "648826                   Branca                 1976-06-15   \n",
       "670008                   Branca                 1976-06-15   \n",
       "1556241                  Branca                 1976-06-15   \n",
       "1679124                  Branca                 1976-06-15   \n",
       "1940783                  Branca                 1976-06-15   \n",
       "\n",
       "        BENEFICIARIO_DEFICIENTE_FISICO REGIAO_BENEFICIARIO_BOLSA  \\\n",
       "459997                             nao                       SUL   \n",
       "648826                             nao                       SUL   \n",
       "670008                             nao                       SUL   \n",
       "1556241                            nao                       SUL   \n",
       "1679124                            nao                       SUL   \n",
       "1940783                            nao                       SUL   \n",
       "\n",
       "        SIGLA_UF_BENEFICIARIO_BOLSA MUNICIPIO_BENEFICIARIO_BOLSA  \n",
       "459997                           PR                     curitiba  \n",
       "648826                           PR                     curitiba  \n",
       "670008                           PR                     curitiba  \n",
       "1556241                          PR                     curitiba  \n",
       "1679124                          PR                     curitiba  \n",
       "1940783                          PR                     curitiba  "
      ]
     },
     "execution_count": 10,
     "metadata": {},
     "output_type": "execute_result"
    }
   ],
   "source": [
    "data_2=data_1[data_1['DT_NASCIMENTO_BENEFICIARIO']=='1976-06-15']\n",
    "data_2"
   ]
  },
  {
   "cell_type": "code",
   "execution_count": 11,
   "metadata": {},
   "outputs": [
    {
     "data": {
      "text/html": [
       "<div>\n",
       "<style scoped>\n",
       "    .dataframe tbody tr th:only-of-type {\n",
       "        vertical-align: middle;\n",
       "    }\n",
       "\n",
       "    .dataframe tbody tr th {\n",
       "        vertical-align: top;\n",
       "    }\n",
       "\n",
       "    .dataframe thead th {\n",
       "        text-align: right;\n",
       "    }\n",
       "</style>\n",
       "<table border=\"1\" class=\"dataframe\">\n",
       "  <thead>\n",
       "    <tr style=\"text-align: right;\">\n",
       "      <th></th>\n",
       "      <th>ANO_CONCESSAO_BOLSA</th>\n",
       "      <th>CODIGO_EMEC_IES_BOLSA</th>\n",
       "      <th>NOME_IES_BOLSA</th>\n",
       "      <th>TIPO_BOLSA</th>\n",
       "      <th>MODALIDADE_ENSINO_BOLSA</th>\n",
       "      <th>NOME_CURSO_BOLSA</th>\n",
       "      <th>NOME_TURNO_CURSO_BOLSA</th>\n",
       "      <th>CPF_BENEFICIARIO_BOLSA</th>\n",
       "      <th>SEXO_BENEFICIARIO_BOLSA</th>\n",
       "      <th>RACA_BENEFICIARIO_BOLSA</th>\n",
       "      <th>DT_NASCIMENTO_BENEFICIARIO</th>\n",
       "      <th>BENEFICIARIO_DEFICIENTE_FISICO</th>\n",
       "      <th>REGIAO_BENEFICIARIO_BOLSA</th>\n",
       "      <th>SIGLA_UF_BENEFICIARIO_BOLSA</th>\n",
       "      <th>MUNICIPIO_BENEFICIARIO_BOLSA</th>\n",
       "    </tr>\n",
       "  </thead>\n",
       "  <tbody>\n",
       "    <tr>\n",
       "      <th>754679</th>\n",
       "      <td>2011</td>\n",
       "      <td>375</td>\n",
       "      <td>UNIVERSIDADE DE SANTO AMARO</td>\n",
       "      <td>BOLSA PARCIAL 50%</td>\n",
       "      <td>PRESENCIAL</td>\n",
       "      <td>Engenharia Ambiental</td>\n",
       "      <td>Noturno</td>\n",
       "      <td>***546888**</td>\n",
       "      <td>M</td>\n",
       "      <td>Parda</td>\n",
       "      <td>1990-03-29</td>\n",
       "      <td>nao</td>\n",
       "      <td>SUDESTE</td>\n",
       "      <td>SP</td>\n",
       "      <td>sao paulo</td>\n",
       "    </tr>\n",
       "    <tr>\n",
       "      <th>1103315</th>\n",
       "      <td>2013</td>\n",
       "      <td>375</td>\n",
       "      <td>UNIVERSIDADE DE SANTO AMARO</td>\n",
       "      <td>BOLSA INTEGRAL</td>\n",
       "      <td>PRESENCIAL</td>\n",
       "      <td>Engenharia Ambiental</td>\n",
       "      <td>Noturno</td>\n",
       "      <td>***546888**</td>\n",
       "      <td>M</td>\n",
       "      <td>Parda</td>\n",
       "      <td>1990-03-29</td>\n",
       "      <td>nao</td>\n",
       "      <td>SUDESTE</td>\n",
       "      <td>SP</td>\n",
       "      <td>sao paulo</td>\n",
       "    </tr>\n",
       "    <tr>\n",
       "      <th>1593718</th>\n",
       "      <td>2015</td>\n",
       "      <td>3985</td>\n",
       "      <td>CENTRO UNIVERSITARIO SENAC</td>\n",
       "      <td>BOLSA INTEGRAL</td>\n",
       "      <td>PRESENCIAL</td>\n",
       "      <td>Engenharia Ambiental E Sanitaria</td>\n",
       "      <td>Noturno</td>\n",
       "      <td>***546888**</td>\n",
       "      <td>M</td>\n",
       "      <td>Parda</td>\n",
       "      <td>1990-03-29</td>\n",
       "      <td>nao</td>\n",
       "      <td>SUDESTE</td>\n",
       "      <td>SP</td>\n",
       "      <td>sao paulo</td>\n",
       "    </tr>\n",
       "  </tbody>\n",
       "</table>\n",
       "</div>"
      ],
      "text/plain": [
       "         ANO_CONCESSAO_BOLSA  CODIGO_EMEC_IES_BOLSA  \\\n",
       "754679                  2011                    375   \n",
       "1103315                 2013                    375   \n",
       "1593718                 2015                   3985   \n",
       "\n",
       "                      NOME_IES_BOLSA         TIPO_BOLSA  \\\n",
       "754679   UNIVERSIDADE DE SANTO AMARO  BOLSA PARCIAL 50%   \n",
       "1103315  UNIVERSIDADE DE SANTO AMARO     BOLSA INTEGRAL   \n",
       "1593718   CENTRO UNIVERSITARIO SENAC     BOLSA INTEGRAL   \n",
       "\n",
       "        MODALIDADE_ENSINO_BOLSA                  NOME_CURSO_BOLSA  \\\n",
       "754679               PRESENCIAL              Engenharia Ambiental   \n",
       "1103315              PRESENCIAL              Engenharia Ambiental   \n",
       "1593718              PRESENCIAL  Engenharia Ambiental E Sanitaria   \n",
       "\n",
       "        NOME_TURNO_CURSO_BOLSA CPF_BENEFICIARIO_BOLSA SEXO_BENEFICIARIO_BOLSA  \\\n",
       "754679                 Noturno            ***546888**                       M   \n",
       "1103315                Noturno            ***546888**                       M   \n",
       "1593718                Noturno            ***546888**                       M   \n",
       "\n",
       "        RACA_BENEFICIARIO_BOLSA DT_NASCIMENTO_BENEFICIARIO  \\\n",
       "754679                    Parda                 1990-03-29   \n",
       "1103315                   Parda                 1990-03-29   \n",
       "1593718                   Parda                 1990-03-29   \n",
       "\n",
       "        BENEFICIARIO_DEFICIENTE_FISICO REGIAO_BENEFICIARIO_BOLSA  \\\n",
       "754679                             nao                   SUDESTE   \n",
       "1103315                            nao                   SUDESTE   \n",
       "1593718                            nao                   SUDESTE   \n",
       "\n",
       "        SIGLA_UF_BENEFICIARIO_BOLSA MUNICIPIO_BENEFICIARIO_BOLSA  \n",
       "754679                           SP                    sao paulo  \n",
       "1103315                          SP                    sao paulo  \n",
       "1593718                          SP                    sao paulo  "
      ]
     },
     "execution_count": 11,
     "metadata": {},
     "output_type": "execute_result"
    }
   ],
   "source": [
    "data_3=data_1[data_1['DT_NASCIMENTO_BENEFICIARIO']=='1990-03-29']\n",
    "data_3"
   ]
  },
  {
   "cell_type": "markdown",
   "metadata": {},
   "source": [
    "It seems like it is possible to be contemplated twice. As we only have part of the social security number, for one of the numbers we found 21 cases where they had the same numbers inside it. From those, 6 of them had the same birth date. Although they are all men, white, no disability, from the same city, they had different courses in different universities. For this reason, for this case, we can't claim they are the same person. In this same social number, looking at the second birth date, it seems like the same men went from a partial scholarship in 2011 (50%) to full scholarship in 2013. So this answers the question that yes, it is possible to be contemplated twice, but as our data is limited, we cannot tell how many of them have gotten them more than once."
   ]
  },
  {
   "cell_type": "markdown",
   "metadata": {},
   "source": [
    "### Universities"
   ]
  },
  {
   "cell_type": "code",
   "execution_count": 12,
   "metadata": {},
   "outputs": [
    {
     "data": {
      "text/plain": [
       "322      155486\n",
       "298      111550\n",
       "671       63237\n",
       "1491      60478\n",
       "163       56429\n",
       "          ...  \n",
       "1293          1\n",
       "19787         1\n",
       "19255         1\n",
       "2514          1\n",
       "1301          1\n",
       "Name: CODIGO_EMEC_IES_BOLSA, Length: 2147, dtype: int64"
      ]
     },
     "execution_count": 12,
     "metadata": {},
     "output_type": "execute_result"
    }
   ],
   "source": [
    "prouni.CODIGO_EMEC_IES_BOLSA.value_counts()"
   ]
  },
  {
   "cell_type": "code",
   "execution_count": 13,
   "metadata": {},
   "outputs": [
    {
     "data": {
      "text/plain": [
       "UNIVERSIDADE PAULISTA                                155486\n",
       "UNIVERSIDADE PITAGORAS UNOPAR                        111550\n",
       "CENTRO UNIVERSITARIO INTERNACIONAL                    60478\n",
       "UNIVERSIDADE ESTACIO DE SA                            56429\n",
       "UNIVERSIDADE ANHANGUERA - UNIDERP                     49300\n",
       "                                                      ...  \n",
       "Faculdade Presidente Antonio Carlos de Carmopolis         1\n",
       "FACULDADE PITAGORAS DE BOM JESUS DA LAPA                  1\n",
       "FACULDADE PITAGORAS DE TUCURUA                            1\n",
       "FACULDADE METROPOLITANA DE ITAJAA                         1\n",
       "FACULDADE DE TECNOLOGIA FRANCISCO MORATO                  1\n",
       "Name: NOME_IES_BOLSA, Length: 2767, dtype: int64"
      ]
     },
     "execution_count": 13,
     "metadata": {},
     "output_type": "execute_result"
    }
   ],
   "source": [
    "prouni.NOME_IES_BOLSA.value_counts()"
   ]
  },
  {
   "cell_type": "code",
   "execution_count": 14,
   "metadata": {},
   "outputs": [],
   "source": [
    "la=prouni[prouni['CODIGO_EMEC_IES_BOLSA']==671]"
   ]
  },
  {
   "cell_type": "code",
   "execution_count": 15,
   "metadata": {},
   "outputs": [
    {
     "data": {
      "text/plain": [
       "2044       UNIVERSIDADE ANHANGUERA - UNIDERP\n",
       "2045       UNIVERSIDADE ANHANGUERA - UNIDERP\n",
       "2565       UNIVERSIDADE ANHANGUERA - UNIDERP\n",
       "2566       UNIVERSIDADE ANHANGUERA - UNIDERP\n",
       "2597       UNIVERSIDADE ANHANGUERA - UNIDERP\n",
       "                         ...                \n",
       "2672388              UNIVERSIDADE ANHANGUERA\n",
       "2672389              UNIVERSIDADE ANHANGUERA\n",
       "2672390              UNIVERSIDADE ANHANGUERA\n",
       "2672391              UNIVERSIDADE ANHANGUERA\n",
       "2672392              UNIVERSIDADE ANHANGUERA\n",
       "Name: NOME_IES_BOLSA, Length: 63237, dtype: object"
      ]
     },
     "execution_count": 15,
     "metadata": {},
     "output_type": "execute_result"
    }
   ],
   "source": [
    "la.NOME_IES_BOLSA"
   ]
  },
  {
   "cell_type": "code",
   "execution_count": 16,
   "metadata": {},
   "outputs": [
    {
     "data": {
      "text/plain": [
       "24.292563898772162"
      ]
     },
     "execution_count": 16,
     "metadata": {},
     "output_type": "execute_result"
    }
   ],
   "source": [
    "percent_uni=(prouni.CODIGO_EMEC_IES_BOLSA.value_counts()/len(prouni))*100\n",
    "sum(percent_uni.head(10))"
   ]
  },
  {
   "cell_type": "markdown",
   "metadata": {},
   "source": [
    "Looking at the code and the name of the universities, one sees that there are less codes than names. Looking at the code 671 for example, which was counted 63.237 times but doesn´t show in the names. Looking at the names inside this code, it's easy to understand - some people put just the name \"UNIVERSIDADE ANHANGUERA\" and some people put the name of the university plus the campus \"UNIVERSIDADE ANHANGUERA - UNIDERP\", therefore the difference. So we consider here the generic name, and that there are 2.147 universities granting scholarships through the program.\n",
    "\n",
    "From all the dataset, almost 6% of the grants where given to UNIVERSIDADE PAULISTA, 4% to UNIVERSIDADE PITAGORAS UNOPAR and 2.3% to UNIVERSIDADE ANHANGUERA. 654.087 scholarship grants were given by only 10 universities among 2.147, which represents 24% of all the scholarships!"
   ]
  },
  {
   "cell_type": "markdown",
   "metadata": {},
   "source": [
    "### Type of scholarship"
   ]
  },
  {
   "cell_type": "code",
   "execution_count": 17,
   "metadata": {},
   "outputs": [
    {
     "data": {
      "text/plain": [
       "BOLSA INTEGRAL            1876706\n",
       "BOLSA PARCIAL 50%          813504\n",
       "BOLSA COMPLEMENTAR 25%       2330\n",
       "Name: TIPO_BOLSA, dtype: int64"
      ]
     },
     "execution_count": 17,
     "metadata": {},
     "output_type": "execute_result"
    }
   ],
   "source": [
    "sum_type=prouni.TIPO_BOLSA.value_counts()\n",
    "sum_type"
   ]
  },
  {
   "cell_type": "code",
   "execution_count": 18,
   "metadata": {},
   "outputs": [
    {
     "data": {
      "image/png": "[encoded data removed]",
      "text/plain": [
       "<Figure size 432x288 with 1 Axes>"
      ]
     },
     "metadata": {},
     "output_type": "display_data"
    }
   ],
   "source": [
    "fig1,ax1=plt.subplots()\n",
    "ax1.pie(sum_type,labels=['Full','Partial 50%','Partial 25%'],autopct='%1.1f%%',startangle=90)\n",
    "ax1.axis('equal')\n",
    "plt.show()"
   ]
  },
  {
   "cell_type": "code",
   "execution_count": 19,
   "metadata": {},
   "outputs": [],
   "source": [
    "data_4=prouni[prouni['TIPO_BOLSA']=='BOLSA COMPLEMENTAR 25%']"
   ]
  },
  {
   "cell_type": "code",
   "execution_count": 20,
   "metadata": {},
   "outputs": [
    {
     "data": {
      "text/plain": [
       "array([2008], dtype=int64)"
      ]
     },
     "execution_count": 20,
     "metadata": {},
     "output_type": "execute_result"
    }
   ],
   "source": [
    "data_4.ANO_CONCESSAO_BOLSA.unique()"
   ]
  },
  {
   "cell_type": "markdown",
   "metadata": {},
   "source": [
    "From the piechart, almost 70% are full scholarships, while 30% are 50% scholarships. It seems like 25% were only given in the year of 2008."
   ]
  },
  {
   "cell_type": "markdown",
   "metadata": {},
   "source": [
    "### Modality"
   ]
  },
  {
   "cell_type": "code",
   "execution_count": 21,
   "metadata": {},
   "outputs": [
    {
     "data": {
      "text/plain": [
       "PRESENCIAL    2192014\n",
       "EAD            500526\n",
       "Name: MODALIDADE_ENSINO_BOLSA, dtype: int64"
      ]
     },
     "execution_count": 21,
     "metadata": {},
     "output_type": "execute_result"
    }
   ],
   "source": [
    "sum_mod=prouni['MODALIDADE_ENSINO_BOLSA'].value_counts()\n",
    "sum_mod"
   ]
  },
  {
   "cell_type": "code",
   "execution_count": 22,
   "metadata": {},
   "outputs": [
    {
     "data": {
      "image/png": "[encoded data removed]",
      "text/plain": [
       "<Figure size 432x288 with 1 Axes>"
      ]
     },
     "metadata": {},
     "output_type": "display_data"
    }
   ],
   "source": [
    "fig1,ax1=plt.subplots()\n",
    "ax1.pie(sum_mod,labels=['Presence','Distance'],autopct='%1.1f%%',startangle=90)\n",
    "ax1.axis('equal')\n",
    "plt.show()"
   ]
  },
  {
   "cell_type": "markdown",
   "metadata": {},
   "source": [
    "81.4% of the students are taking presential courses while 18.6% distance courses."
   ]
  },
  {
   "cell_type": "markdown",
   "metadata": {},
   "source": [
    "### Shift"
   ]
  },
  {
   "cell_type": "code",
   "execution_count": 23,
   "metadata": {},
   "outputs": [
    {
     "data": {
      "text/plain": [
       "Noturno       70.739877\n",
       "Matutino      22.346299\n",
       "Integral       3.588161\n",
       "Vespertino     3.325663\n",
       "Name: NOME_TURNO_CURSO_BOLSA, dtype: float64"
      ]
     },
     "execution_count": 23,
     "metadata": {},
     "output_type": "execute_result"
    }
   ],
   "source": [
    "sum_shift=prouni['NOME_TURNO_CURSO_BOLSA'].value_counts()\n",
    "sum_shift=sum_shift.drop(labels = ['A Distancia']) \n",
    "sum_shift=sum_shift/sum(sum_shift)*100\n",
    "sum_shift"
   ]
  },
  {
   "cell_type": "code",
   "execution_count": 24,
   "metadata": {},
   "outputs": [
    {
     "data": {
      "image/png": "[encoded data removed]",
      "text/plain": [
       "<Figure size 432x288 with 1 Axes>"
      ]
     },
     "metadata": {},
     "output_type": "display_data"
    }
   ],
   "source": [
    "fig1,ax1=plt.subplots()\n",
    "ax1.bar(['Night','Morning','Full Time','Afternoon'],sum_shift)\n",
    "plt.show()"
   ]
  },
  {
   "cell_type": "markdown",
   "metadata": {},
   "source": [
    "From all the presential courses, 70% are on night school, 22% morning school and 6% between afternoon and full time school. In Brazil is normal that people will work along the day and attend school at night."
   ]
  },
  {
   "cell_type": "markdown",
   "metadata": {},
   "source": [
    "### Gender"
   ]
  },
  {
   "cell_type": "code",
   "execution_count": 25,
   "metadata": {},
   "outputs": [
    {
     "data": {
      "text/plain": [
       "F    54.178099\n",
       "M    45.821901\n",
       "Name: SEXO_BENEFICIARIO_BOLSA, dtype: float64"
      ]
     },
     "execution_count": 25,
     "metadata": {},
     "output_type": "execute_result"
    }
   ],
   "source": [
    "sum_gender=prouni['SEXO_BENEFICIARIO_BOLSA'].value_counts()\n",
    "sum_gender=sum_gender/sum(sum_gender)*100\n",
    "sum_gender"
   ]
  },
  {
   "cell_type": "code",
   "execution_count": 26,
   "metadata": {},
   "outputs": [
    {
     "data": {
      "image/png": "[encoded data removed]",
      "text/plain": [
       "<Figure size 432x288 with 1 Axes>"
      ]
     },
     "metadata": {},
     "output_type": "display_data"
    }
   ],
   "source": [
    "fig1,ax1=plt.subplots()\n",
    "ax1.bar(['Female','Male'],sum_gender)\n",
    "plt.show()"
   ]
  },
  {
   "cell_type": "markdown",
   "metadata": {},
   "source": [
    "54% of the scholarship holders are woman while 46% are men."
   ]
  },
  {
   "cell_type": "markdown",
   "metadata": {},
   "source": [
    "### Race"
   ]
  },
  {
   "cell_type": "code",
   "execution_count": 27,
   "metadata": {},
   "outputs": [
    {
     "data": {
      "text/plain": [
       "Branca           43.191113\n",
       "Parda            41.373573\n",
       "Preta            12.695485\n",
       "Amarela           1.754997\n",
       "Nao Informada     0.877944\n",
       "Indigena          0.106888\n",
       "Name: RACA_BENEFICIARIO_BOLSA, dtype: float64"
      ]
     },
     "execution_count": 27,
     "metadata": {},
     "output_type": "execute_result"
    }
   ],
   "source": [
    "sum_race=prouni['RACA_BENEFICIARIO_BOLSA'].value_counts()\n",
    "sum_race=sum_race/sum(sum_race)*100\n",
    "sum_race"
   ]
  },
  {
   "cell_type": "code",
   "execution_count": 28,
   "metadata": {},
   "outputs": [
    {
     "data": {
      "image/png": "[encoded data removed]",
      "text/plain": [
       "<Figure size 432x288 with 1 Axes>"
      ]
     },
     "metadata": {},
     "output_type": "display_data"
    }
   ],
   "source": [
    "fig1,ax1=plt.subplots()\n",
    "ax1.bar(['White','Brown','Black','Yellow','Not Informed','Indigenous'],sum_race)\n",
    "plt.show()"
   ]
  },
  {
   "cell_type": "markdown",
   "metadata": {},
   "source": [
    "43% of the students consider themselves white, 41% brown and 13% black. Yellow and indigenous sum less than 2% and less than 1% did not inform their race."
   ]
  },
  {
   "cell_type": "markdown",
   "metadata": {},
   "source": [
    "### Age"
   ]
  },
  {
   "cell_type": "code",
   "execution_count": 29,
   "metadata": {},
   "outputs": [
    {
     "data": {
      "text/plain": [
       "0          1987-02-17\n",
       "1          1986-06-14\n",
       "2          1984-06-03\n",
       "3          1987-10-19\n",
       "4          1987-07-20\n",
       "              ...    \n",
       "2692535    2001-04-05\n",
       "2692536    2001-06-16\n",
       "2692537    1992-12-13\n",
       "2692538    1996-12-27\n",
       "2692539    1985-03-14\n",
       "Name: DT_NASCIMENTO_BENEFICIARIO, Length: 2692540, dtype: object"
      ]
     },
     "execution_count": 29,
     "metadata": {},
     "output_type": "execute_result"
    }
   ],
   "source": [
    "prouni.DT_NASCIMENTO_BENEFICIARIO"
   ]
  },
  {
   "cell_type": "code",
   "execution_count": 30,
   "metadata": {},
   "outputs": [],
   "source": [
    "prouni['DT_NASCIMENTO_BENEFICIARIO']=pd.to_datetime(prouni['DT_NASCIMENTO_BENEFICIARIO'])"
   ]
  },
  {
   "cell_type": "code",
   "execution_count": 31,
   "metadata": {},
   "outputs": [],
   "source": [
    "prouni['birth_year'] = prouni['DT_NASCIMENTO_BENEFICIARIO'].dt.year"
   ]
  },
  {
   "cell_type": "code",
   "execution_count": 32,
   "metadata": {},
   "outputs": [],
   "source": [
    "prouni['age']=prouni['ANO_CONCESSAO_BOLSA']-prouni['birth_year']"
   ]
  },
  {
   "cell_type": "code",
   "execution_count": 33,
   "metadata": {},
   "outputs": [
    {
     "data": {
      "text/plain": [
       "0          18\n",
       "1          19\n",
       "2          21\n",
       "3          18\n",
       "4          18\n",
       "           ..\n",
       "2692535    18\n",
       "2692536    18\n",
       "2692537    27\n",
       "2692538    23\n",
       "2692539    34\n",
       "Name: age, Length: 2692540, dtype: int64"
      ]
     },
     "execution_count": 33,
     "metadata": {},
     "output_type": "execute_result"
    }
   ],
   "source": [
    "prouni['age']"
   ]
  },
  {
   "cell_type": "code",
   "execution_count": 34,
   "metadata": {},
   "outputs": [
    {
     "data": {
      "text/plain": [
       "Text(0, 0.5, 'Count')"
      ]
     },
     "execution_count": 34,
     "metadata": {},
     "output_type": "execute_result"
    },
    {
     "data": {
      "image/png": "[encoded data removed]",
      "text/plain": [
       "<Figure size 432x288 with 1 Axes>"
      ]
     },
     "metadata": {},
     "output_type": "display_data"
    }
   ],
   "source": [
    "plt.hist(prouni['age'],range=[15,55],bins=55-15)\n",
    "plt.xlabel('Age')\n",
    "plt.ylabel('Count')"
   ]
  },
  {
   "cell_type": "code",
   "execution_count": 35,
   "metadata": {},
   "outputs": [
    {
     "data": {
      "text/plain": [
       "18    422808\n",
       "19    413752\n",
       "20    290098\n",
       "21    223577\n",
       "22    178467\n",
       "23    147810\n",
       "24    125991\n",
       "25    108314\n",
       "26     93434\n",
       "27     81205\n",
       "Name: age, dtype: int64"
      ]
     },
     "execution_count": 35,
     "metadata": {},
     "output_type": "execute_result"
    }
   ],
   "source": [
    "idade=prouni['age'].value_counts()\n",
    "idade.head(10)"
   ]
  },
  {
   "cell_type": "code",
   "execution_count": 36,
   "metadata": {},
   "outputs": [
    {
     "data": {
      "text/plain": [
       "0.7745311118869171"
      ]
     },
     "execution_count": 36,
     "metadata": {},
     "output_type": "execute_result"
    }
   ],
   "source": [
    "sum(idade.head(10))/len(prouni['age'])"
   ]
  },
  {
   "cell_type": "markdown",
   "metadata": {},
   "source": [
    "Students enter the program with ages varying from 17 to 51 years old. 31% of them start university with 18 to 19 years old, and 77% of them start between 18 and 27 years old."
   ]
  },
  {
   "cell_type": "markdown",
   "metadata": {},
   "source": [
    "### Physically disabled"
   ]
  },
  {
   "cell_type": "code",
   "execution_count": 37,
   "metadata": {},
   "outputs": [
    {
     "data": {
      "text/plain": [
       "nao    2673367\n",
       "sim      19173\n",
       "Name: BENEFICIARIO_DEFICIENTE_FISICO, dtype: int64"
      ]
     },
     "execution_count": 37,
     "metadata": {},
     "output_type": "execute_result"
    }
   ],
   "source": [
    "prouni['BENEFICIARIO_DEFICIENTE_FISICO'].value_counts()"
   ]
  },
  {
   "cell_type": "code",
   "execution_count": 38,
   "metadata": {},
   "outputs": [
    {
     "data": {
      "text/plain": [
       "0.7120785577930133"
      ]
     },
     "execution_count": 38,
     "metadata": {},
     "output_type": "execute_result"
    }
   ],
   "source": [
    "19173/len(prouni)*100"
   ]
  },
  {
   "cell_type": "markdown",
   "metadata": {},
   "source": [
    "0.7% of the students are physically disabled."
   ]
  },
  {
   "cell_type": "markdown",
   "metadata": {},
   "source": [
    "### Region"
   ]
  },
  {
   "cell_type": "code",
   "execution_count": 39,
   "metadata": {},
   "outputs": [
    {
     "data": {
      "text/plain": [
       "SUDESTE         1289321\n",
       "SUL              491560\n",
       "NORDESTE         486819\n",
       "CENTRO-OESTE     247089\n",
       "NORTE            177349\n",
       "Name: REGIAO_BENEFICIARIO_BOLSA, dtype: int64"
      ]
     },
     "execution_count": 39,
     "metadata": {},
     "output_type": "execute_result"
    }
   ],
   "source": [
    "reg=prouni['REGIAO_BENEFICIARIO_BOLSA'].value_counts()\n",
    "reg"
   ]
  },
  {
   "cell_type": "code",
   "execution_count": 40,
   "metadata": {},
   "outputs": [
    {
     "data": {
      "text/plain": [
       "SUDESTE         47.892084\n",
       "SUL             18.259094\n",
       "NORDESTE        18.082988\n",
       "CENTRO-OESTE     9.178170\n",
       "NORTE            6.587664\n",
       "Name: REGIAO_BENEFICIARIO_BOLSA, dtype: float64"
      ]
     },
     "execution_count": 40,
     "metadata": {},
     "output_type": "execute_result"
    }
   ],
   "source": [
    "reg/sum(reg)*100"
   ]
  },
  {
   "cell_type": "code",
   "execution_count": 41,
   "metadata": {},
   "outputs": [
    {
     "data": {
      "text/html": [
       "<div>\n",
       "<style scoped>\n",
       "    .dataframe tbody tr th:only-of-type {\n",
       "        vertical-align: middle;\n",
       "    }\n",
       "\n",
       "    .dataframe tbody tr th {\n",
       "        vertical-align: top;\n",
       "    }\n",
       "\n",
       "    .dataframe thead th {\n",
       "        text-align: right;\n",
       "    }\n",
       "</style>\n",
       "<table border=\"1\" class=\"dataframe\">\n",
       "  <thead>\n",
       "    <tr style=\"text-align: right;\">\n",
       "      <th></th>\n",
       "      <th>Region</th>\n",
       "      <th>Population</th>\n",
       "    </tr>\n",
       "  </thead>\n",
       "  <tbody>\n",
       "    <tr>\n",
       "      <th>0</th>\n",
       "      <td>Southeast</td>\n",
       "      <td>89632912</td>\n",
       "    </tr>\n",
       "    <tr>\n",
       "      <th>1</th>\n",
       "      <td>South</td>\n",
       "      <td>30402587</td>\n",
       "    </tr>\n",
       "    <tr>\n",
       "      <th>2</th>\n",
       "      <td>Northeast</td>\n",
       "      <td>57667842</td>\n",
       "    </tr>\n",
       "    <tr>\n",
       "      <th>3</th>\n",
       "      <td>Center-West</td>\n",
       "      <td>16707336</td>\n",
       "    </tr>\n",
       "    <tr>\n",
       "      <th>4</th>\n",
       "      <td>North</td>\n",
       "      <td>18906962</td>\n",
       "    </tr>\n",
       "  </tbody>\n",
       "</table>\n",
       "</div>"
      ],
      "text/plain": [
       "        Region  Population\n",
       "0    Southeast    89632912\n",
       "1        South    30402587\n",
       "2    Northeast    57667842\n",
       "3  Center-West    16707336\n",
       "4        North    18906962"
      ]
     },
     "execution_count": 41,
     "metadata": {},
     "output_type": "execute_result"
    }
   ],
   "source": [
    "data=[['Southeast', 89632912], ['South', 30402587], ['Northeast', 57667842], ['Center-West', 16707336],['North', 18906962]]\n",
    "region=pd.DataFrame(data, columns=['Region', 'Population'])\n",
    "region"
   ]
  },
  {
   "cell_type": "code",
   "execution_count": 42,
   "metadata": {},
   "outputs": [
    {
     "data": {
      "image/png": "[encoded data removed]",
      "text/plain": [
       "<Figure size 432x288 with 1 Axes>"
      ]
     },
     "metadata": {},
     "output_type": "display_data"
    }
   ],
   "source": [
    "fig1,ax1=plt.subplots()\n",
    "ax1.pie(region['Population'],labels=region['Region'],autopct='%1.1f%%',startangle=90)\n",
    "ax1.axis('equal')\n",
    "plt.show()"
   ]
  },
  {
   "cell_type": "code",
   "execution_count": 43,
   "metadata": {},
   "outputs": [
    {
     "name": "stdout",
     "output_type": "stream",
     "text": [
      "Southeast 1.4384459583328053\n",
      "South 1.6168360935863781\n",
      "Northeast 0.8441775920798286\n",
      "Center-West 1.4789251859183294\n",
      "North 0.9380089725678827\n"
     ]
    }
   ],
   "source": [
    "for i in range (5):\n",
    " print(region['Region'][i],reg[i]/region['Population'][i]*100)"
   ]
  },
  {
   "cell_type": "markdown",
   "metadata": {},
   "source": [
    "The pie chart above, shows the expected population in each region in Brazil in 2021, according to the Demographic Census\n",
    " of the Brazilian Institute of Geography and Statistics. As seem, 42% of the population live in the Southeast, 27% in the Northeast, 14.3% in the South, 8.9% in the North and 7.8% in the Center-West. Although the Northeast has the second biggest amount of people, it receives the lowest amount of scholarship per person. Southeast is the region with more people and also the one receiving more scholarships, 48% of them goes into this region. The North area receives the least, only 6.6% of scholarships."
   ]
  },
  {
   "cell_type": "code",
   "execution_count": 44,
   "metadata": {
    "scrolled": true
   },
   "outputs": [
    {
     "data": {
      "text/plain": [
       "SP    28.281425\n",
       "MG    12.143657\n",
       "RS     7.684822\n",
       "PR     7.284099\n",
       "BA     5.877039\n",
       "RJ     5.658662\n",
       "GO     3.372004\n",
       "SC     3.290173\n",
       "PE     2.742579\n",
       "DF     2.696110\n",
       "MA     2.461129\n",
       "CE     2.430522\n",
       "PA     2.245502\n",
       "ES     1.808340\n",
       "AM     1.669194\n",
       "MT     1.556607\n",
       "MS     1.553449\n",
       "RN     1.252127\n",
       "RO     1.156627\n",
       "PB     1.054478\n",
       "PI     0.918935\n",
       "SE     0.773512\n",
       "AL     0.572668\n",
       "TO     0.535485\n",
       "AC     0.419444\n",
       "AP     0.355145\n",
       "RR     0.206267\n",
       "Name: SIGLA_UF_BENEFICIARIO_BOLSA, dtype: float64"
      ]
     },
     "execution_count": 44,
     "metadata": {},
     "output_type": "execute_result"
    }
   ],
   "source": [
    "prouni['SIGLA_UF_BENEFICIARIO_BOLSA'].value_counts()/sum(prouni['SIGLA_UF_BENEFICIARIO_BOLSA'].value_counts())*100"
   ]
  },
  {
   "cell_type": "markdown",
   "metadata": {},
   "source": [
    "The state of São Paulo gets 28% of the scholarships, followed by Minas Gerais with 12%. Both are in the Southeast region. The next states are Rio Grande do Sul and Paraná, with 8% and 7% respectivelly, and both countries are in the South region. The 4 first states already explain 55% of the scholarships and the other states in this regions don´t get as much scholarships as this ones."
   ]
  },
  {
   "cell_type": "code",
   "execution_count": 45,
   "metadata": {},
   "outputs": [
    {
     "data": {
      "text/plain": [
       "sao paulo            219247\n",
       "brasilia              72583\n",
       "belo horizonte        67982\n",
       "rio de janeiro        66984\n",
       "curitiba              60692\n",
       "                      ...  \n",
       "pindoba                   1\n",
       "vila alta                 1\n",
       "caraubas do piaui         1\n",
       "uiramuta                  1\n",
       "joao costa                1\n",
       "Name: MUNICIPIO_BENEFICIARIO_BOLSA, Length: 5318, dtype: int64"
      ]
     },
     "execution_count": 45,
     "metadata": {},
     "output_type": "execute_result"
    }
   ],
   "source": [
    "prouni['MUNICIPIO_BENEFICIARIO_BOLSA'].value_counts()"
   ]
  },
  {
   "cell_type": "code",
   "execution_count": 46,
   "metadata": {},
   "outputs": [
    {
     "name": "stdout",
     "output_type": "stream",
     "text": [
      "São Paulo 17.0048420835463\n",
      "Brasiília 29.375245356936162\n",
      "BH 5.272697799849689\n",
      "Rio 5.195292716088546\n",
      "Curitiba 12.346814224102856\n"
     ]
    }
   ],
   "source": [
    "print(\"São Paulo\",219247/1289321*100)\n",
    "print(\"Brasiília\",72583/247089*100)\n",
    "print(\"BH\",67982/1289321*100)\n",
    "print(\"Rio\",66984/1289321*100)\n",
    "print(\"Curitiba\",60692/491560*100)"
   ]
  },
  {
   "cell_type": "markdown",
   "metadata": {},
   "source": [
    "Another interesting fact here is that Brasília holds the second place per city. Located in the the Center-West, just this one city has 29% of the scholarships in the whole region. São Paulo, the city who holds most scholarships, represents 17% of its region."
   ]
  },
  {
   "cell_type": "markdown",
   "metadata": {},
   "source": [
    "### Course"
   ]
  },
  {
   "cell_type": "code",
   "execution_count": 52,
   "metadata": {},
   "outputs": [
    {
     "name": "stdout",
     "output_type": "stream",
     "text": [
      "There are  2265  differente courses listed\n",
      "There are  2265  differente courses listed\n"
     ]
    }
   ],
   "source": [
    "print('There are ', len(prouni['NOME_CURSO_BOLSA'].unique()),' differente courses listed')\n",
    "prouni['NOME_CURSO_BOLSA'] = prouni['NOME_CURSO_BOLSA'].str.split('-').str[0]\n",
    "prouni['NOME_CURSO_BOLSA'] = prouni['NOME_CURSO_BOLSA'].str.split('(').str[0]\n",
    "print('There are ', len(prouni['NOME_CURSO_BOLSA'].unique()),' differente courses listed')"
   ]
  },
  {
   "cell_type": "code",
   "execution_count": 53,
   "metadata": {},
   "outputs": [
    {
     "data": {
      "text/plain": [
       "Administracao                 274695\n",
       "Direito                       225574\n",
       "Pedagogia                     200942\n",
       "Ciencias Contabeis            105991\n",
       "Enfermagem                     99764\n",
       "Engenharia Civil               72551\n",
       "Psicologia                     69730\n",
       "Educacao Fisica                61579\n",
       "Gestao De Recursos Humanos     57878\n",
       "Fisioterapia                   56671\n",
       "AdministraAAo                  53693\n",
       "Letras                         45632\n",
       "Servico Social                 41950\n",
       "Arquitetura E Urbanismo        39980\n",
       "Engenharia De Producao         34351\n",
       "CiAancias ContAbeis            32724\n",
       "Logistica                      32295\n",
       "Marketing                      30570\n",
       "Farmacia                       30370\n",
       "Processos Gerenciais           29665\n",
       "Name: NOME_CURSO_BOLSA, dtype: int64"
      ]
     },
     "execution_count": 53,
     "metadata": {},
     "output_type": "execute_result"
    }
   ],
   "source": [
    "top_courses=prouni['NOME_CURSO_BOLSA'].value_counts()\n",
    "top_courses[:20]"
   ]
  },
  {
   "cell_type": "code",
   "execution_count": 54,
   "metadata": {},
   "outputs": [],
   "source": [
    "# function to replace rows in the provided column of the provided dataframe\n",
    "# that match the provided string above the provided ratio with the provided string\n",
    "def replace_matches_in_column(df, column, string_to_match, min_ratio):\n",
    "    # get a list of unique strings\n",
    "    strings = df[column].unique()\n",
    "    \n",
    "    # get the top 10 closest matches to our input string\n",
    "    matches = fuzzywuzzy.process.extract(string_to_match, strings, \n",
    "                                         limit=30, scorer=fuzzywuzzy.fuzz.token_sort_ratio)\n",
    "\n",
    "    # only get matches with a ratio > 90\n",
    "    close_matches = [matches[0] for matches in matches if matches[1] >= min_ratio]\n",
    "\n",
    "    # get the rows of all the close matches in our dataframe\n",
    "    rows_with_matches = df[column].isin(close_matches)\n",
    "\n",
    "    # replace all rows with close matches with the input matches \n",
    "    df.loc[rows_with_matches, column] = string_to_match\n",
    "    \n",
    "    # let us know the function's done\n",
    "    print(\"All done!\")"
   ]
  },
  {
   "cell_type": "code",
   "execution_count": 64,
   "metadata": {},
   "outputs": [],
   "source": [
    "courses=prouni['NOME_CURSO_BOLSA'].unique()\n",
    "#courses"
   ]
  },
  {
   "cell_type": "code",
   "execution_count": 65,
   "metadata": {},
   "outputs": [
    {
     "data": {
      "text/plain": [
       "[('Administracao', 100),\n",
       " ('Administracao ', 100),\n",
       " ('AdministraAAo', 92),\n",
       " ('AdministraAAo ', 92),\n",
       " ('AdministraAao', 92),\n",
       " ('AdminstraAAo', 88),\n",
       " ('AdmistraAAo', 83),\n",
       " ('Administracao Rural', 81),\n",
       " ('AdministraAAo Ead', 80),\n",
       " ('Administracao Publica', 76),\n",
       " ('Mineracao', 73),\n",
       " ('Administracao Ambiental', 72),\n",
       " ('Gestao Administrativa', 71),\n",
       " ('Administracao Hospitalar', 70),\n",
       " ('Administracao Em Turismo', 70),\n",
       " ('AdministraAAo PAoblica', 69),\n",
       " ('Administracao De Empresas', 68),\n",
       " ('Administracao De Empresas ', 68),\n",
       " ('Administracao Legislativa', 68),\n",
       " ('Administracao Em Marketing', 67),\n",
       " ('AdministraAAo De Empresas ', 63),\n",
       " ('AdministraAAo De Empresas', 63),\n",
       " ('AdministraAAo A DistAncia', 63),\n",
       " ('Gestao Em Administracao Publica', 59),\n",
       " ('Nutricao', 57),\n",
       " ('Administracao De Recursos Humanos', 57),\n",
       " ('Nutricao ', 57),\n",
       " ('Automobilistica', 57),\n",
       " ('NutriAAo', 57),\n",
       " ('NutriAAo ', 57)]"
      ]
     },
     "execution_count": 65,
     "metadata": {},
     "output_type": "execute_result"
    }
   ],
   "source": [
    "matches = fuzzywuzzy.process.extract('Administracao', courses, limit=30, scorer=fuzzywuzzy.fuzz.token_sort_ratio)\n",
    "matches"
   ]
  },
  {
   "cell_type": "code",
   "execution_count": 66,
   "metadata": {},
   "outputs": [
    {
     "name": "stdout",
     "output_type": "stream",
     "text": [
      "All done!\n"
     ]
    }
   ],
   "source": [
    "# use the function we just wrote to replace close matches \n",
    "replace_matches_in_column(df=prouni, column='NOME_CURSO_BOLSA', string_to_match=\"Administracao\", min_ratio = 83)"
   ]
  },
  {
   "cell_type": "code",
   "execution_count": 67,
   "metadata": {},
   "outputs": [
    {
     "data": {
      "text/plain": [
       "Administracao                 334954\n",
       "Direito                       225574\n",
       "Pedagogia                     200942\n",
       "Ciencias Contabeis            105991\n",
       "Enfermagem                     99764\n",
       "Engenharia Civil               72551\n",
       "Psicologia                     69730\n",
       "Educacao Fisica                61579\n",
       "Gestao De Recursos Humanos     57878\n",
       "Fisioterapia                   56671\n",
       "Letras                         45632\n",
       "Servico Social                 41950\n",
       "Arquitetura E Urbanismo        39980\n",
       "Engenharia De Producao         34351\n",
       "CiAancias ContAbeis            32724\n",
       "Logistica                      32295\n",
       "Marketing                      30570\n",
       "Farmacia                       30370\n",
       "Processos Gerenciais           29665\n",
       "Comunicacao Social             28622\n",
       "Name: NOME_CURSO_BOLSA, dtype: int64"
      ]
     },
     "execution_count": 67,
     "metadata": {},
     "output_type": "execute_result"
    }
   ],
   "source": [
    "top_courses=prouni['NOME_CURSO_BOLSA'].value_counts()\n",
    "top_courses[:20]"
   ]
  },
  {
   "cell_type": "code",
   "execution_count": 68,
   "metadata": {},
   "outputs": [
    {
     "data": {
      "text/plain": [
       "[('Ciencias Contabeis', 100),\n",
       " ('Ciencias Contabeis ', 100),\n",
       " ('Ciencias ContAbeis', 100),\n",
       " ('CiAancias ContAbeis', 92),\n",
       " ('CiAancias ContAbeis ', 92),\n",
       " ('CiAancias Contabeis', 92),\n",
       " ('CiAacias ContAbeis', 89),\n",
       " ('CiAancias ContabAis ', 86),\n",
       " ('CiAancias ContAbeis Ead', 83),\n",
       " ('Ciencias Naturais ', 80),\n",
       " ('Ciencias Economicas', 76),\n",
       " ('Ciencias Sociais', 76),\n",
       " ('Ciencias Economicas ', 76),\n",
       " ('CiAancias EconA micas', 72),\n",
       " ('CiAancias EconA micas ', 72),\n",
       " ('Ciencias Equinas', 71),\n",
       " ('CiAancias ContAbeis E Tributos', 71),\n",
       " ('Ciencia Economica', 69),\n",
       " ('CiAancias Sociais', 69),\n",
       " ('CiAancias ContAbeis A DistAncia', 69),\n",
       " ('CiAancias Sociais ', 69),\n",
       " ('Ciencias Politicas', 67),\n",
       " ('Ciencias Estatisticas', 67),\n",
       " ('Ciencias Da Computacao', 65),\n",
       " ('Ciencias Farmaceuticas', 65),\n",
       " ('Ciencias Teologicas', 65),\n",
       " ('CiAancia EconA mica', 65),\n",
       " ('CiAancias Gerenciais', 63),\n",
       " ('Ciencia Da Computacao', 62),\n",
       " ('Ciencias', 62)]"
      ]
     },
     "execution_count": 68,
     "metadata": {},
     "output_type": "execute_result"
    }
   ],
   "source": [
    "matches = fuzzywuzzy.process.extract(\"Ciencias Contabeis\", courses, limit=30, scorer=fuzzywuzzy.fuzz.token_sort_ratio)\n",
    "matches"
   ]
  },
  {
   "cell_type": "code",
   "execution_count": 69,
   "metadata": {},
   "outputs": [
    {
     "name": "stdout",
     "output_type": "stream",
     "text": [
      "All done!\n"
     ]
    }
   ],
   "source": [
    "replace_matches_in_column(df=prouni, column='NOME_CURSO_BOLSA', string_to_match=\"Ciencias Contabeis\", min_ratio = 83)"
   ]
  },
  {
   "cell_type": "code",
   "execution_count": 70,
   "metadata": {},
   "outputs": [
    {
     "data": {
      "text/plain": [
       "Administracao                 334954\n",
       "Direito                       225574\n",
       "Pedagogia                     200942\n",
       "Ciencias Contabeis            141552\n",
       "Enfermagem                     99764\n",
       "Engenharia Civil               72551\n",
       "Psicologia                     69730\n",
       "Educacao Fisica                61579\n",
       "Gestao De Recursos Humanos     57878\n",
       "Fisioterapia                   56671\n",
       "Letras                         45632\n",
       "Servico Social                 41950\n",
       "Arquitetura E Urbanismo        39980\n",
       "Engenharia De Producao         34351\n",
       "Logistica                      32295\n",
       "Marketing                      30570\n",
       "Farmacia                       30370\n",
       "Processos Gerenciais           29665\n",
       "Comunicacao Social             28622\n",
       "EducaAAo FAsica                26861\n",
       "Name: NOME_CURSO_BOLSA, dtype: int64"
      ]
     },
     "execution_count": 70,
     "metadata": {},
     "output_type": "execute_result"
    }
   ],
   "source": [
    "top_courses=prouni['NOME_CURSO_BOLSA'].value_counts()\n",
    "top_courses[:20]"
   ]
  },
  {
   "cell_type": "code",
   "execution_count": 71,
   "metadata": {},
   "outputs": [
    {
     "data": {
      "text/plain": [
       "[('Educacao Fisica', 100),\n",
       " ('Educacao Fisica ', 100),\n",
       " ('EducaAAo Fisica', 93),\n",
       " ('EducaAao FAsica', 87),\n",
       " ('EducaAAo FAsica', 87),\n",
       " ('EducaAAo FAsica ', 87),\n",
       " ('EducaAAo  FAsica', 87),\n",
       " ('EducaAAo FAsica  ', 87),\n",
       " ('EducaAAo FisAca', 87),\n",
       " ('EducaAAo FAsica/B ', 81),\n",
       " ('EducaAAo FAsica/L ', 81),\n",
       " ('Educacao Fisica E Desportos ', 71),\n",
       " ('Bacharelado Em Educacao Fisica', 67),\n",
       " ('EducaAAo FAsica E Esporte', 65),\n",
       " ('Comunicacao Juridica', 63),\n",
       " ('EducaAAo FAsica E Esportes', 63),\n",
       " ('EducaAAo Especial', 62),\n",
       " ('Comunicacao Institucional', 60),\n",
       " ('Comunicacao Digital', 59),\n",
       " ('Comunicacao Digital ', 59),\n",
       " ('Decoracao & Design', 58),\n",
       " ('Automacao Industrial', 57),\n",
       " ('Fisica', 57),\n",
       " ('Fisica ', 57),\n",
       " ('Arte Educacao', 57),\n",
       " ('Licenciatura Em EducaAAo FAsica', 57),\n",
       " ('Filosofia Ead', 57),\n",
       " ('Comunicacao Social', 55),\n",
       " ('Comunicacao Social ', 55),\n",
       " ('Comunicacao Social  ', 55)]"
      ]
     },
     "execution_count": 71,
     "metadata": {},
     "output_type": "execute_result"
    }
   ],
   "source": [
    "matches = fuzzywuzzy.process.extract(\"Educacao Fisica\", courses, limit=30, scorer=fuzzywuzzy.fuzz.token_sort_ratio)\n",
    "matches"
   ]
  },
  {
   "cell_type": "code",
   "execution_count": 72,
   "metadata": {},
   "outputs": [
    {
     "name": "stdout",
     "output_type": "stream",
     "text": [
      "All done!\n"
     ]
    }
   ],
   "source": [
    "replace_matches_in_column(df=prouni, column='NOME_CURSO_BOLSA', string_to_match=\"Educacao Fisica\", min_ratio = 65)"
   ]
  },
  {
   "cell_type": "code",
   "execution_count": 89,
   "metadata": {},
   "outputs": [
    {
     "data": {
      "text/plain": [
       "[('Gestao De Recursos Humanos', 100),\n",
       " ('GestAo De Recursos Humanos', 100),\n",
       " ('GestAo De Recursos Humanos ', 100),\n",
       " ('Gestao Em Recursos Humanos', 96),\n",
       " ('Gestao De Recursos Hidricos', 83),\n",
       " ('Gestao De Relacoes Humanas', 81),\n",
       " ('Recursos Humanos Estrategicos', 80),\n",
       " ('Desenvolvimento De Recursos Humanos', 79),\n",
       " ('Tecnologia Em GestAo De Recursos Humanos', 79),\n",
       " ('Gestao E Planejamento De Recursos Humanos', 78),\n",
       " ('Recursos Humanos', 76),\n",
       " ('Gestao De Negocios Securitarios', 70),\n",
       " ('Superior De Tecnologia GestAo De Recursos Humanos', 69),\n",
       " ('Gestao De Servicos Publicos', 68),\n",
       " ('Gestao De Orgaos Publicos', 67),\n",
       " ('Gestao De Varejo', 67),\n",
       " ('Gestao De Negocios Imobiliarios', 67),\n",
       " ('GestAo De Varejo', 67),\n",
       " ('Superior De Tecnologia Em GestAo De Recursos Humanos', 67),\n",
       " ('GestAo De ServiAos JurAdicos', 67),\n",
       " ('GestAo De NegA3cios ImobiliArios', 66),\n",
       " ('Gestao De Turismo', 65),\n",
       " ('Gestao De Pessoas', 65),\n",
       " ('Gestao De Negocios Em Turismo', 65),\n",
       " ('Gestao De Marketing No Varejo', 65),\n",
       " ('GestAo De Turismo', 65),\n",
       " ('GestAo De Pessoas', 65),\n",
       " ('Administracao De Recursos Humanos', 64),\n",
       " ('Gestao De Turismo Receptivo', 64),\n",
       " ('Gestao De Hoteis E Pousadas', 64)]"
      ]
     },
     "execution_count": 89,
     "metadata": {},
     "output_type": "execute_result"
    }
   ],
   "source": [
    "matches = fuzzywuzzy.process.extract(\"Gestao De Recursos Humanos\", courses, limit=30, scorer=fuzzywuzzy.fuzz.token_sort_ratio)\n",
    "matches"
   ]
  },
  {
   "cell_type": "code",
   "execution_count": 90,
   "metadata": {},
   "outputs": [
    {
     "name": "stdout",
     "output_type": "stream",
     "text": [
      "All done!\n"
     ]
    }
   ],
   "source": [
    "replace_matches_in_column(df=prouni, column='NOME_CURSO_BOLSA', string_to_match=\"Gestao De Recursos Humanos\", min_ratio = 95)"
   ]
  },
  {
   "cell_type": "code",
   "execution_count": 92,
   "metadata": {},
   "outputs": [
    {
     "data": {
      "text/plain": [
       "[('Farmacia', 100),\n",
       " ('FarmAcia', 100),\n",
       " ('FarmAcia ', 100),\n",
       " ('Informatica', 63),\n",
       " ('Informatica  ', 63),\n",
       " ('InformAtica', 63),\n",
       " ('InformAtica ', 63),\n",
       " ('Paramedicina', 60),\n",
       " ('Agronomia', 59),\n",
       " ('Farmacia Bioquimica ', 59),\n",
       " ('Agronomia ', 59),\n",
       " ('FarmAcia Industrial', 59),\n",
       " ('FAsica MAdica', 57),\n",
       " ('FAsica MAdica **', 57),\n",
       " ('Farmacia E Bioquimica ', 55),\n",
       " ('Farmacia E Bioquimica', 55),\n",
       " ('FarmAcia E BioquAmica', 55),\n",
       " ('FarmAcia E BioquAmica ', 55),\n",
       " ('Gastronomia', 53),\n",
       " ('Arteterapia', 53),\n",
       " ('Ciencias Farmaceuticas', 53),\n",
       " ('Gastronomia ', 53),\n",
       " ('MAosica', 53),\n",
       " ('MAosica ', 53),\n",
       " ('Fabricacao Mecanica', 52),\n",
       " ('FabricaAAo MecAnica', 52),\n",
       " ('Medicina', 50),\n",
       " ('Artes Dramaticas', 50),\n",
       " ('Medicina ', 50),\n",
       " ('CiAancias FarmacAauticas', 50)]"
      ]
     },
     "execution_count": 92,
     "metadata": {},
     "output_type": "execute_result"
    }
   ],
   "source": [
    "matches = fuzzywuzzy.process.extract(\"Farmacia\", courses, limit=30, scorer=fuzzywuzzy.fuzz.token_sort_ratio)\n",
    "matches"
   ]
  },
  {
   "cell_type": "code",
   "execution_count": 93,
   "metadata": {},
   "outputs": [
    {
     "name": "stdout",
     "output_type": "stream",
     "text": [
      "All done!\n"
     ]
    }
   ],
   "source": [
    "replace_matches_in_column(df=prouni, column='NOME_CURSO_BOLSA', string_to_match=\"Farmacia\", min_ratio = 95)"
   ]
  },
  {
   "cell_type": "code",
   "execution_count": 95,
   "metadata": {},
   "outputs": [
    {
     "data": {
      "text/plain": [
       "[('Nutricao', 100),\n",
       " ('Nutricao ', 100),\n",
       " ('NutriAAo', 88),\n",
       " ('NutriAAo ', 88),\n",
       " ('NutriAao', 88),\n",
       " ('Mineracao', 59),\n",
       " ('Administracao', 57),\n",
       " ('Administracao ', 57),\n",
       " ('Musica', 57),\n",
       " ('Musica ', 57),\n",
       " ('Agroindustria', 57),\n",
       " ('Computacao', 56),\n",
       " ('Eletronica', 56),\n",
       " ('Quimica Industrial', 54),\n",
       " ('QuAmica Industrial', 54),\n",
       " ('Quimica', 53),\n",
       " ('Turismo', 53),\n",
       " ('Informatica', 53),\n",
       " ('Naturologia', 53),\n",
       " ('Turismo ', 53),\n",
       " ('Mecatronica Industrial', 53),\n",
       " ('Informatica  ', 53),\n",
       " ('Quimica ', 53),\n",
       " ('QuAmica', 53),\n",
       " ('InformAtica', 53),\n",
       " ('InformAtica ', 53),\n",
       " ('Turismo  ', 53),\n",
       " ('QuAmica ', 53),\n",
       " ('Historia', 50),\n",
       " ('Secretariado', 50)]"
      ]
     },
     "execution_count": 95,
     "metadata": {},
     "output_type": "execute_result"
    }
   ],
   "source": [
    "matches = fuzzywuzzy.process.extract(\"Nutricao\", courses, limit=30, scorer=fuzzywuzzy.fuzz.token_sort_ratio)\n",
    "matches"
   ]
  },
  {
   "cell_type": "code",
   "execution_count": 96,
   "metadata": {},
   "outputs": [
    {
     "name": "stdout",
     "output_type": "stream",
     "text": [
      "All done!\n"
     ]
    }
   ],
   "source": [
    "replace_matches_in_column(df=prouni, column='NOME_CURSO_BOLSA', string_to_match=\"Nutricao\", min_ratio = 88)"
   ]
  },
  {
   "cell_type": "code",
   "execution_count": 98,
   "metadata": {},
   "outputs": [
    {
     "data": {
      "text/plain": [
       "[('Servico Social', 100),\n",
       " ('ServiAo Social', 93),\n",
       " ('ServiAo Social ', 93),\n",
       " ('Ecologia Social', 69),\n",
       " ('ServiAo Social E Cidadania', 65),\n",
       " ('Comunicacao Social', 62),\n",
       " ('Comunicacao Social ', 62),\n",
       " ('Comunicacao Social  ', 62),\n",
       " ('ComunicaAAo Social', 62),\n",
       " ('ComunicaAAo Social ', 62),\n",
       " ('ComunicaAao Social', 62),\n",
       " ('ComunicacAo Social', 62),\n",
       " ('ComunicaAAo Social  ', 62),\n",
       " ('Educador Social', 62),\n",
       " ('Aviacao Civil', 59),\n",
       " ('Psicologia', 58),\n",
       " ('Psicologia ', 58),\n",
       " ('EducaAAo Especial', 58),\n",
       " ('Sistemas Eletricos', 56),\n",
       " ('Sistemas ElAtricos', 56),\n",
       " ('Ecologia', 55),\n",
       " ('Estudos Sociais', 55),\n",
       " ('Estudos Sociais ', 55),\n",
       " ('Economia', 55),\n",
       " ('Servicos Penais', 55),\n",
       " ('Economia ', 55),\n",
       " ('Psicomotricidade', 53),\n",
       " ('Filosofia', 52),\n",
       " ('Ciencias Juridicas E Sociais ', 52),\n",
       " ('Filosofia ', 52)]"
      ]
     },
     "execution_count": 98,
     "metadata": {},
     "output_type": "execute_result"
    }
   ],
   "source": [
    "matches = fuzzywuzzy.process.extract(\"Servico Social\", courses, limit=30, scorer=fuzzywuzzy.fuzz.token_sort_ratio)\n",
    "matches"
   ]
  },
  {
   "cell_type": "code",
   "execution_count": 99,
   "metadata": {},
   "outputs": [
    {
     "name": "stdout",
     "output_type": "stream",
     "text": [
      "All done!\n"
     ]
    }
   ],
   "source": [
    "replace_matches_in_column(df=prouni, column='NOME_CURSO_BOLSA', string_to_match=\"Servico Social\", min_ratio = 93)"
   ]
  },
  {
   "cell_type": "code",
   "execution_count": 100,
   "metadata": {},
   "outputs": [
    {
     "data": {
      "text/plain": [
       "Administracao                            334954\n",
       "Direito                                  225574\n",
       "Pedagogia                                200942\n",
       "Ciencias Contabeis                       141552\n",
       "Enfermagem                                99764\n",
       "Educacao Fisica                           96884\n",
       "Gestao De Recursos Humanos                75578\n",
       "Engenharia Civil                          72551\n",
       "Psicologia                                69730\n",
       "Fisioterapia                              56671\n",
       "Servico Social                            54582\n",
       "Letras                                    45632\n",
       "Farmacia                                  43056\n",
       "Arquitetura E Urbanismo                   39980\n",
       "Nutricao                                  38106\n",
       "Engenharia De Producao                    34351\n",
       "Logistica                                 32295\n",
       "Marketing                                 30570\n",
       "Processos Gerenciais                      29665\n",
       "Comunicacao Social                        28622\n",
       "Sistemas De Informacao                    26201\n",
       "Biomedicina                               25058\n",
       "Ciencias Biologicas                       24521\n",
       "Analise E Desenvolvimento De Sistemas     24389\n",
       "Odontologia                               24020\n",
       "Engenharia Mecanica                       22245\n",
       "Engenharia Eletrica                       20748\n",
       "Historia                                  19023\n",
       "Ciencia Da Computacao                     18500\n",
       "Gestao Financeira                         17430\n",
       "Medicina                                  16815\n",
       "Gestao Ambiental                          14956\n",
       "Matematica                                14399\n",
       "Jornalismo                                14049\n",
       "Redes De Computadores                     13763\n",
       "Medicina Veterinaria                      12924\n",
       "Turismo                                   12158\n",
       "Publicidade E Propaganda                  11682\n",
       "Gastronomia                               11648\n",
       "Geografia                                 10422\n",
       "Name: NOME_CURSO_BOLSA, dtype: int64"
      ]
     },
     "execution_count": 100,
     "metadata": {},
     "output_type": "execute_result"
    }
   ],
   "source": [
    "top_courses=prouni['NOME_CURSO_BOLSA'].value_counts()\n",
    "top_courses[:40]"
   ]
  },
  {
   "cell_type": "code",
   "execution_count": 102,
   "metadata": {},
   "outputs": [
    {
     "data": {
      "image/png": "[encoded data removed]",
      "text/plain": [
       "<Figure size 432x288 with 1 Axes>"
      ]
     },
     "metadata": {},
     "output_type": "display_data"
    }
   ],
   "source": [
    "fig1,ax1=plt.subplots()\n",
    "ax1.pie(top_courses[:40],labels=top_courses.index[:40],autopct='%1.1f%%',startangle=90)\n",
    "ax1.axis('equal')\n",
    "plt.show()"
   ]
  },
  {
   "cell_type": "code",
   "execution_count": 103,
   "metadata": {},
   "outputs": [
    {
     "data": {
      "text/plain": [
       "2226"
      ]
     },
     "execution_count": 103,
     "metadata": {},
     "output_type": "execute_result"
    }
   ],
   "source": [
    "top_sum2=top_courses.cumsum()/top_courses.sum()*100\n",
    "len(top_courses)"
   ]
  },
  {
   "cell_type": "code",
   "execution_count": 104,
   "metadata": {},
   "outputs": [
    {
     "data": {
      "image/png": "[encoded data removed]",
      "text/plain": [
       "<Figure size 1152x432 with 2 Axes>"
      ]
     },
     "metadata": {},
     "output_type": "display_data"
    }
   ],
   "source": [
    "n=30\n",
    "fig, ax = plt.subplots(figsize=(16,6))\n",
    "ax.bar(top_courses.index[:n],top_courses[:n], color=\"C0\")\n",
    "ax2 = ax.twinx()\n",
    "ax2.plot(top_courses.index[:n],top_sum2[:n], color=\"C1\", marker=\"D\", ms=9)\n",
    "ax.set_xticklabels(top_courses.index[:n], rotation=45, ha='right', size=15)\n",
    "ax.set_title('Pareto chart of the main courses', size=20)\n",
    "ax.set_ylabel('Sum', color=\"C0\", size=15)\n",
    "ax2.set_ylabel('Percentage [%]', color=\"C1\", size=15)\n",
    "#ax2.yaxis.set_major_formatter(PercentFormatter())\n",
    "\n",
    "ax.tick_params(axis=\"y\", colors=\"C0\", size=15)\n",
    "ax2.tick_params(axis=\"y\", colors=\"C1\", size=15)\n",
    "sns.set_style(\"white\")\n",
    "plt.show()"
   ]
  },
  {
   "cell_type": "code",
   "execution_count": 105,
   "metadata": {},
   "outputs": [
    {
     "data": {
      "text/plain": [
       "74.0637674988816"
      ]
     },
     "execution_count": 105,
     "metadata": {},
     "output_type": "execute_result"
    }
   ],
   "source": [
    "top_sum2[30]"
   ]
  },
  {
   "cell_type": "markdown",
   "metadata": {},
   "source": [
    "The courses most looked for are Management, Law, Teaching, Accounting and Nursing. The exactly amount is hard to tell, because in each school they use a different name for the same course and therefore there are 2226 different courses listed, after a deep cleaning in the data. Still, 30 of the most looked courses already represent than 74% of all courses listed. "
   ]
  },
  {
   "cell_type": "markdown",
   "metadata": {},
   "source": [
    "### Profile of the student attending the top course"
   ]
  },
  {
   "cell_type": "code",
   "execution_count": 112,
   "metadata": {},
   "outputs": [
    {
     "data": {
      "text/html": [
       "<div>\n",
       "<style scoped>\n",
       "    .dataframe tbody tr th:only-of-type {\n",
       "        vertical-align: middle;\n",
       "    }\n",
       "\n",
       "    .dataframe tbody tr th {\n",
       "        vertical-align: top;\n",
       "    }\n",
       "\n",
       "    .dataframe thead th {\n",
       "        text-align: right;\n",
       "    }\n",
       "</style>\n",
       "<table border=\"1\" class=\"dataframe\">\n",
       "  <thead>\n",
       "    <tr style=\"text-align: right;\">\n",
       "      <th></th>\n",
       "      <th>ANO_CONCESSAO_BOLSA</th>\n",
       "      <th>CODIGO_EMEC_IES_BOLSA</th>\n",
       "      <th>NOME_IES_BOLSA</th>\n",
       "      <th>TIPO_BOLSA</th>\n",
       "      <th>MODALIDADE_ENSINO_BOLSA</th>\n",
       "      <th>NOME_CURSO_BOLSA</th>\n",
       "      <th>NOME_TURNO_CURSO_BOLSA</th>\n",
       "      <th>CPF_BENEFICIARIO_BOLSA</th>\n",
       "      <th>SEXO_BENEFICIARIO_BOLSA</th>\n",
       "      <th>RACA_BENEFICIARIO_BOLSA</th>\n",
       "      <th>DT_NASCIMENTO_BENEFICIARIO</th>\n",
       "      <th>BENEFICIARIO_DEFICIENTE_FISICO</th>\n",
       "      <th>REGIAO_BENEFICIARIO_BOLSA</th>\n",
       "      <th>SIGLA_UF_BENEFICIARIO_BOLSA</th>\n",
       "      <th>MUNICIPIO_BENEFICIARIO_BOLSA</th>\n",
       "      <th>birth_year</th>\n",
       "      <th>age</th>\n",
       "    </tr>\n",
       "  </thead>\n",
       "  <tbody>\n",
       "    <tr>\n",
       "      <th>0</th>\n",
       "      <td>2005</td>\n",
       "      <td>10</td>\n",
       "      <td>PONTIFICIA UNIVERSIDADE CATOLICA DO PARANA</td>\n",
       "      <td>BOLSA INTEGRAL</td>\n",
       "      <td>PRESENCIAL</td>\n",
       "      <td>Administracao</td>\n",
       "      <td>Noturno</td>\n",
       "      <td>***209879**</td>\n",
       "      <td>M</td>\n",
       "      <td>Parda</td>\n",
       "      <td>1985-02-13</td>\n",
       "      <td>nao</td>\n",
       "      <td>SUL</td>\n",
       "      <td>PR</td>\n",
       "      <td>sao jose dos pinhais</td>\n",
       "      <td>1985</td>\n",
       "      <td>20</td>\n",
       "    </tr>\n",
       "    <tr>\n",
       "      <th>1</th>\n",
       "      <td>2005</td>\n",
       "      <td>10</td>\n",
       "      <td>PONTIFICIA UNIVERSIDADE CATOLICA DO PARANA</td>\n",
       "      <td>BOLSA INTEGRAL</td>\n",
       "      <td>PRESENCIAL</td>\n",
       "      <td>Administracao</td>\n",
       "      <td>Noturno</td>\n",
       "      <td>***083259**</td>\n",
       "      <td>F</td>\n",
       "      <td>Branca</td>\n",
       "      <td>1987-07-20</td>\n",
       "      <td>nao</td>\n",
       "      <td>SUL</td>\n",
       "      <td>PR</td>\n",
       "      <td>sao jose dos pinhais</td>\n",
       "      <td>1987</td>\n",
       "      <td>18</td>\n",
       "    </tr>\n",
       "    <tr>\n",
       "      <th>2</th>\n",
       "      <td>2005</td>\n",
       "      <td>10</td>\n",
       "      <td>PONTIFICIA UNIVERSIDADE CATOLICA DO PARANA</td>\n",
       "      <td>BOLSA INTEGRAL</td>\n",
       "      <td>PRESENCIAL</td>\n",
       "      <td>Administracao</td>\n",
       "      <td>Noturno</td>\n",
       "      <td>***529669**</td>\n",
       "      <td>F</td>\n",
       "      <td>Amarela</td>\n",
       "      <td>1987-09-06</td>\n",
       "      <td>nao</td>\n",
       "      <td>SUL</td>\n",
       "      <td>PR</td>\n",
       "      <td>sao jose dos pinhais</td>\n",
       "      <td>1987</td>\n",
       "      <td>18</td>\n",
       "    </tr>\n",
       "    <tr>\n",
       "      <th>3</th>\n",
       "      <td>2005</td>\n",
       "      <td>10</td>\n",
       "      <td>PONTIFICIA UNIVERSIDADE CATOLICA DO PARANA</td>\n",
       "      <td>BOLSA INTEGRAL</td>\n",
       "      <td>PRESENCIAL</td>\n",
       "      <td>Administracao</td>\n",
       "      <td>Noturno</td>\n",
       "      <td>***869569**</td>\n",
       "      <td>F</td>\n",
       "      <td>Parda</td>\n",
       "      <td>1987-12-27</td>\n",
       "      <td>nao</td>\n",
       "      <td>SUL</td>\n",
       "      <td>PR</td>\n",
       "      <td>sao jose dos pinhais</td>\n",
       "      <td>1987</td>\n",
       "      <td>18</td>\n",
       "    </tr>\n",
       "    <tr>\n",
       "      <th>4</th>\n",
       "      <td>2005</td>\n",
       "      <td>10</td>\n",
       "      <td>PONTIFICIA UNIVERSIDADE CATOLICA DO PARANA</td>\n",
       "      <td>BOLSA INTEGRAL</td>\n",
       "      <td>PRESENCIAL</td>\n",
       "      <td>Administracao</td>\n",
       "      <td>Noturno</td>\n",
       "      <td>***866769**</td>\n",
       "      <td>M</td>\n",
       "      <td>Branca</td>\n",
       "      <td>1987-04-04</td>\n",
       "      <td>nao</td>\n",
       "      <td>SUL</td>\n",
       "      <td>PR</td>\n",
       "      <td>sao jose dos pinhais</td>\n",
       "      <td>1987</td>\n",
       "      <td>18</td>\n",
       "    </tr>\n",
       "  </tbody>\n",
       "</table>\n",
       "</div>"
      ],
      "text/plain": [
       "   ANO_CONCESSAO_BOLSA  CODIGO_EMEC_IES_BOLSA  \\\n",
       "0                 2005                     10   \n",
       "1                 2005                     10   \n",
       "2                 2005                     10   \n",
       "3                 2005                     10   \n",
       "4                 2005                     10   \n",
       "\n",
       "                               NOME_IES_BOLSA      TIPO_BOLSA  \\\n",
       "0  PONTIFICIA UNIVERSIDADE CATOLICA DO PARANA  BOLSA INTEGRAL   \n",
       "1  PONTIFICIA UNIVERSIDADE CATOLICA DO PARANA  BOLSA INTEGRAL   \n",
       "2  PONTIFICIA UNIVERSIDADE CATOLICA DO PARANA  BOLSA INTEGRAL   \n",
       "3  PONTIFICIA UNIVERSIDADE CATOLICA DO PARANA  BOLSA INTEGRAL   \n",
       "4  PONTIFICIA UNIVERSIDADE CATOLICA DO PARANA  BOLSA INTEGRAL   \n",
       "\n",
       "  MODALIDADE_ENSINO_BOLSA NOME_CURSO_BOLSA NOME_TURNO_CURSO_BOLSA  \\\n",
       "0              PRESENCIAL    Administracao                Noturno   \n",
       "1              PRESENCIAL    Administracao                Noturno   \n",
       "2              PRESENCIAL    Administracao                Noturno   \n",
       "3              PRESENCIAL    Administracao                Noturno   \n",
       "4              PRESENCIAL    Administracao                Noturno   \n",
       "\n",
       "  CPF_BENEFICIARIO_BOLSA SEXO_BENEFICIARIO_BOLSA RACA_BENEFICIARIO_BOLSA  \\\n",
       "0            ***209879**                       M                   Parda   \n",
       "1            ***083259**                       F                  Branca   \n",
       "2            ***529669**                       F                 Amarela   \n",
       "3            ***869569**                       F                   Parda   \n",
       "4            ***866769**                       M                  Branca   \n",
       "\n",
       "  DT_NASCIMENTO_BENEFICIARIO BENEFICIARIO_DEFICIENTE_FISICO  \\\n",
       "0                 1985-02-13                            nao   \n",
       "1                 1987-07-20                            nao   \n",
       "2                 1987-09-06                            nao   \n",
       "3                 1987-12-27                            nao   \n",
       "4                 1987-04-04                            nao   \n",
       "\n",
       "  REGIAO_BENEFICIARIO_BOLSA SIGLA_UF_BENEFICIARIO_BOLSA  \\\n",
       "0                       SUL                          PR   \n",
       "1                       SUL                          PR   \n",
       "2                       SUL                          PR   \n",
       "3                       SUL                          PR   \n",
       "4                       SUL                          PR   \n",
       "\n",
       "  MUNICIPIO_BENEFICIARIO_BOLSA  birth_year  age  \n",
       "0         sao jose dos pinhais        1985   20  \n",
       "1         sao jose dos pinhais        1987   18  \n",
       "2         sao jose dos pinhais        1987   18  \n",
       "3         sao jose dos pinhais        1987   18  \n",
       "4         sao jose dos pinhais        1987   18  "
      ]
     },
     "execution_count": 112,
     "metadata": {},
     "output_type": "execute_result"
    }
   ],
   "source": [
    "manag_student = prouni.loc[prouni.NOME_CURSO_BOLSA.isin(['Administracao'])]\n",
    "manag_student=manag_student.reset_index(drop=True)\n",
    "manag_student.head()"
   ]
  },
  {
   "cell_type": "code",
   "execution_count": 163,
   "metadata": {},
   "outputs": [
    {
     "data": {
      "text/plain": [
       "Noturno       81.600718\n",
       "Matutino      17.019120\n",
       "Vespertino     1.117095\n",
       "Integral       0.263068\n",
       "Name: NOME_TURNO_CURSO_BOLSA, dtype: float64"
      ]
     },
     "execution_count": 163,
     "metadata": {},
     "output_type": "execute_result"
    }
   ],
   "source": [
    "sum_shift=manag_student['NOME_TURNO_CURSO_BOLSA'].value_counts()\n",
    "sum_shift=sum_shift.drop(labels = ['A Distancia']) \n",
    "sum_shift=sum_shift/sum(sum_shift)*100\n",
    "sum_shift"
   ]
  },
  {
   "cell_type": "code",
   "execution_count": 166,
   "metadata": {},
   "outputs": [
    {
     "data": {
      "image/png": "[encoded data removed]",
      "text/plain": [
       "<Figure size 1080x360 with 5 Axes>"
      ]
     },
     "metadata": {},
     "output_type": "display_data"
    }
   ],
   "source": [
    "fig,(ax1, ax2,ax3,ax4,ax5)=plt.subplots(1,5,figsize=(15,5))\n",
    "\n",
    "#type\n",
    "\n",
    "ax1.bar(['Full','Partial 50%','Partial 25%'],manag_student['TIPO_BOLSA'].value_counts()/sum(manag_student['TIPO_BOLSA'].value_counts())*100)\n",
    "ax1.set_title('Type')\n",
    "ax1.set_ylabel('Percentage %')\n",
    "\n",
    "\n",
    "#presence or distance\n",
    "ax2.bar(['Presential','Distance'],manag_student['MODALIDADE_ENSINO_BOLSA'].value_counts()/sum(manag_student['MODALIDADE_ENSINO_BOLSA'].value_counts())*100)\n",
    "ax2.set_title('Modality')\n",
    "\n",
    "#shift\n",
    "ax3.bar(['Night','Morning','Afternoon','Full Time'],sum_shift)\n",
    "ax3.set_title('Shift')\n",
    "\n",
    "\n",
    "#gender\n",
    "ax4.bar(['Female','Male'],manag_student['SEXO_BENEFICIARIO_BOLSA'].value_counts()/sum(manag_student['SEXO_BENEFICIARIO_BOLSA'].value_counts())*100)\n",
    "ax4.set_title('Gender')\n",
    "\n",
    "#race\n",
    "ax5.bar(['White','Brown','Black','Yellow','Not Informed','Indigenous'],manag_student['RACA_BENEFICIARIO_BOLSA'].value_counts()/sum(manag_student['RACA_BENEFICIARIO_BOLSA'].value_counts())*100)\n",
    "ax5.set_title('Race')\n",
    "#ax4.set_ylabel('Percentage %')\n",
    "plt.show()\n",
    "\n"
   ]
  },
  {
   "cell_type": "markdown",
   "metadata": {},
   "source": [
    "The Management fstudent:\n",
    "- Almost 70% with full scholarship;\n",
    "- Almost 80% presential classes;\n",
    "- Around 80% are on the night classes - the most difference with the general profile, which are 70% of night classes.\n",
    "- Prevalescece of woman;\n",
    "- Around 45% are white, followed by approximatelly 40% of brown people. "
   ]
  },
  {
   "cell_type": "markdown",
   "metadata": {},
   "source": [
    "## Conclusion"
   ]
  },
  {
   "cell_type": "markdown",
   "metadata": {},
   "source": [
    "- the evolution of the benefit over the years;  <br/>\n",
    " From the beggining of the program in 2005, 2.692.540 scholarships were granted. In the first 4 years, less than 150.000 scholarships a year, and after 2009 the number increased reaching a maximum of 252.650 scholarships in 2015, when the numbers started decreasing again, closing 2019 with 225.555 scholarships granted.\n",
    "\n",
    "\n",
    "- if there are any universities which grants more scholarships;<br/>\n",
    " Yes. 4% of the scholarships comes from 10 universities. The other 76% is divided between 2.137 universities.\n",
    "\n",
    "\n",
    "- what type of grand is mostly rewarded;<br/>\n",
    " Almost 70% of the grands are full scholarships, while 30% are partial ones of 50%. Partials of 25% were only given in the year of 2008. \n",
    "\n",
    "\n",
    "- if there are more presence or distance, and when in presence, what period of the day is mostly used for the studies;<br/>\n",
    "There are more presential students. 81.4% of them are taking presential courses while 18.6% distance courses. From the presential courses, 70% are night classes while 22% are morning classes.\n",
    "\n",
    "\n",
    "- are there differences between genders and how much;<br/>\n",
    "54% of the scholarship holders are woman while 46% are men.\n",
    "\n",
    "\n",
    "- what race is mosts receives it;<br/>\n",
    "43% of the students consider themselves white, 41% brown and 13% black.\n",
    "\n",
    "\n",
    "- what is the average age of the student;<br/>\n",
    "Students enter the program with ages varying from 17 to 51 years old. Almost 16% of them start university with 18 years old, and 77% of them start between 18 and 27 years old.\n",
    "\n",
    "\n",
    "- how many of the students are physically disabled;<br/>\n",
    "Only 0.7% of the students are physically disabled.\n",
    "\n",
    "\n",
    "- which region/state is most helped by the program;<br/>\n",
    "Southeast receives almost 48% of the scholarships, followed by South and Northeast with 18% each, Center-West with 9% and North with 6.6%. As Southeast concentrates 42% of Brazilian population, the region which receives most grants per person is the South, which has 14.3% of the population but receives 18% of the scholarships. The Northeast region is the one with less help, having 27% of the population.<br/>\n",
    "The states of São Paulo and Minas Gerais are the ones who most receives scholarships, followed by Rio Grande do Sul and Paraná. <br/>\n",
    "The city of São Paulo receives more than any other city, followed by Brasilia, which alone receives 29% of the Center-West area.\n",
    "\n",
    "\n",
    "- Which courses are most looked for;<br/>\n",
    "The courses most looked for are Management, Law, Teaching, Accounting and Nursing. The top 30 most looked courses represent more 74% of all courses listed.\n",
    "\n",
    "\n",
    "- can someone be contemplated more than once;<br/>\n",
    " Yes. As our database is limited, we cannot find how many times the same person can be contemplated, but it was possible to see that you can at least change the scholarship from partial to full.\n",
    " \n",
    " \n",
    "- what is the profile of the students who take the most listed course.<br/>\n",
    " The profile of the student of Management follows the general profile:\n",
    "    - Almost 70% have full scholarship;\n",
    "    - Almost 80% go to the universty instead of taking online classes;\n",
    "    - Around 80% are on the night classes;\n",
    "    - Prevalescece of woman;\n",
    "    - Around 45% are white, followed by approximatelly 40% of brown people. "
   ]
  },
  {
   "cell_type": "code",
   "execution_count": null,
   "metadata": {},
   "outputs": [],
   "source": []
  },
  {
   "cell_type": "code",
   "execution_count": null,
   "metadata": {},
   "outputs": [],
   "source": []
  }
 ],
 "metadata": {
  "kernelspec": {
   "display_name": "Python 3",
   "language": "python",
   "name": "python3"
  },
  "language_info": {
   "codemirror_mode": {
    "name": "ipython",
    "version": 3
   },
   "file_extension": ".py",
   "mimetype": "text/x-python",
   "name": "python",
   "nbconvert_exporter": "python",
   "pygments_lexer": "ipython3",
   "version": "3.7.6"
  }
 },
 "nbformat": 4,
 "nbformat_minor": 4
}
