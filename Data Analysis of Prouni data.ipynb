{
 "cells": [
  {
   "cell_type": "markdown",
   "id": "9375950f",
   "metadata": {},
   "source": [
    "# What is Prouni"
   ]
  },
  {
   "cell_type": "markdown",
   "id": "9494f61c",
   "metadata": {},
   "source": [
    "The University for All Program, in portuguese, 'Programa Universidade Para Todos (Prouni)' from the brazilian government, according to their website:\n",
    "\n",
    "\"Aims to grant full and partial scholarships for undergraduate courses and specific training in private higher education institutions that offer, in return, tax exemption to those institutions that join the Program.\n",
    "\n",
    "Aimed at students graduating from public or private high schools (with full scholarship) and with a maximum income per capita inside the family of three minimum wages, Prouni has an automatic and impersonal selection system, which provides transparency and security to the process. The candidates are selected by their scores on the National High School Exam (Exame Nacional do Ensino Médio - Enem), thus combining inclusion with the quality and merit of the students with the best academic performance.' (free translation of https://dados.gov.br/dataset/mec-prouni)"
   ]
  },
  {
   "cell_type": "markdown",
   "id": "0fb73cdd",
   "metadata": {},
   "source": [
    "## Dataset"
   ]
  },
  {
   "cell_type": "markdown",
   "id": "c1b6aef5",
   "metadata": {},
   "source": [
    "The data is public available at https://dados.gov.br/dataset/mec-prouni. Here I'm using a version already downloaded and concatenated (each year is a different file) based on columns, found on Kaglle at https://www.kaggle.com/datasets/lfarhat/brasil-students-scholarship-prouni-20052019.\n",
    "\n",
    "The dataset is between the years 2005 and 2019 and contains the following data:\n",
    "\n",
    "ANO_CONCESSAO_BOLSA: year that the scholarship was grant;\n",
    "CODIGO_EMEC_IES_BOLSA: code of the university given by the government;\n",
    "NOME_IES_BOLSA: name of the university;\n",
    "TIPO_BOLSA: kind of scholarship: 25%, 50%, 100%;\n",
    "MODALIDADE_ENSINO_BOLSA: wether the course is in presence or distance;\n",
    "NOME_CURSO_BOLSA: name of the course;\n",
    "NOME_TURNO_CURSO_BOLSA: wheter the course is full time, evening, morning, afternoon or distance;\n",
    "CPF_BENEFICIARIO_BOLSA: social security identification;\n",
    "SEXO_BENEFICIARIO_BOLSA: gender;\n",
    "RACA_BENEFICIARIO_BOLSA: race;\n",
    "DT_NASCIMENTO_BENEFICIARIO: birthdate;\n",
    "BENEFICIARIO_DEFICIENTE_FISICO: wheter the person is physically disabled;\n",
    "REGIAO_BENEFICIARIO_BOLSA: macro-region;\n",
    "SIGLA_UF_BENEFICIARIO_BOLSA: state;\n",
    "MUNICIPIO_BENEFICIARIO_BOLSA: city;\n",
    "idade: age (I delete this entry because it was calculated at the Kaglle version and it's not on the original file)"
   ]
  },
  {
   "cell_type": "markdown",
   "id": "24237169",
   "metadata": {},
   "source": [
    "## Why this analyse"
   ]
  },
  {
   "cell_type": "markdown",
   "id": "463f77e9",
   "metadata": {},
   "source": [
    "After living in Germany for many years and seeing that public university is accessible to all, I would like to understand what is the profile of the brazilian student who don´t have access to public university and still manage to find a way to study. I would like to understand:\n",
    "\n",
    "   - the evolution of the benefit over the years;\n",
    "   - if there are any universities which grants more scholarships;\n",
    "   - what type of grand is mostly rewarded;\n",
    "   - if there are more presence or distance, and when in presence, what period of the day is mostly used for the studies;\n",
    "   - are there differences between genders and how much;\n",
    "   - what race is mosts receives it;\n",
    "   - what is the average age of the student;\n",
    "   - how many of the students are physically disabled;\n",
    "   - which region/state is most helped by the program;\n",
    "   - Which courses are most looked for;\n",
    "   - can someone be contemplated more than once;\n",
    "   - what is the profile of the students who take the most listed course."
   ]
  },
  {
   "cell_type": "markdown",
   "id": "78f089b8",
   "metadata": {},
   "source": [
    "## Data"
   ]
  },
  {
   "cell_type": "code",
   "execution_count": 1,
   "id": "400a44e5",
   "metadata": {},
   "outputs": [],
   "source": [
    "import numpy as np \n",
    "import pandas as pd \n",
    "import matplotlib.pyplot as plt\n",
    "from matplotlib import ticker\n",
    "import seaborn as sns\n",
    "sns.set()\n",
    "import fuzzywuzzy\n",
    "from fuzzywuzzy import process"
   ]
  },
  {
   "cell_type": "code",
   "execution_count": 2,
   "id": "1398cc79",
   "metadata": {},
   "outputs": [
    {
     "data": {
      "text/html": [
       "<div>\n",
       "<style scoped>\n",
       "    .dataframe tbody tr th:only-of-type {\n",
       "        vertical-align: middle;\n",
       "    }\n",
       "\n",
       "    .dataframe tbody tr th {\n",
       "        vertical-align: top;\n",
       "    }\n",
       "\n",
       "    .dataframe thead th {\n",
       "        text-align: right;\n",
       "    }\n",
       "</style>\n",
       "<table border=\"1\" class=\"dataframe\">\n",
       "  <thead>\n",
       "    <tr style=\"text-align: right;\">\n",
       "      <th></th>\n",
       "      <th>ANO_CONCESSAO_BOLSA</th>\n",
       "      <th>CODIGO_EMEC_IES_BOLSA</th>\n",
       "      <th>NOME_IES_BOLSA</th>\n",
       "      <th>TIPO_BOLSA</th>\n",
       "      <th>MODALIDADE_ENSINO_BOLSA</th>\n",
       "      <th>NOME_CURSO_BOLSA</th>\n",
       "      <th>NOME_TURNO_CURSO_BOLSA</th>\n",
       "      <th>CPF_BENEFICIARIO_BOLSA</th>\n",
       "      <th>SEXO_BENEFICIARIO_BOLSA</th>\n",
       "      <th>RACA_BENEFICIARIO_BOLSA</th>\n",
       "      <th>DT_NASCIMENTO_BENEFICIARIO</th>\n",
       "      <th>BENEFICIARIO_DEFICIENTE_FISICO</th>\n",
       "      <th>REGIAO_BENEFICIARIO_BOLSA</th>\n",
       "      <th>SIGLA_UF_BENEFICIARIO_BOLSA</th>\n",
       "      <th>MUNICIPIO_BENEFICIARIO_BOLSA</th>\n",
       "    </tr>\n",
       "  </thead>\n",
       "  <tbody>\n",
       "    <tr>\n",
       "      <th>0</th>\n",
       "      <td>2005</td>\n",
       "      <td>423</td>\n",
       "      <td>UNIVERSIDADE REGIONAL INTEGRADA DO ALTO URUGUA...</td>\n",
       "      <td>BOLSA PARCIAL 50%</td>\n",
       "      <td>PRESENCIAL</td>\n",
       "      <td>Enfermagem</td>\n",
       "      <td>Integral</td>\n",
       "      <td>***264740**</td>\n",
       "      <td>F</td>\n",
       "      <td>Branca</td>\n",
       "      <td>1987-02-17</td>\n",
       "      <td>nao</td>\n",
       "      <td>SUL</td>\n",
       "      <td>RS</td>\n",
       "      <td>santo angelo</td>\n",
       "    </tr>\n",
       "    <tr>\n",
       "      <th>1</th>\n",
       "      <td>2005</td>\n",
       "      <td>423</td>\n",
       "      <td>UNIVERSIDADE REGIONAL INTEGRADA DO ALTO URUGUA...</td>\n",
       "      <td>BOLSA PARCIAL 50%</td>\n",
       "      <td>PRESENCIAL</td>\n",
       "      <td>Servico Social</td>\n",
       "      <td>Noturno</td>\n",
       "      <td>***976940**</td>\n",
       "      <td>F</td>\n",
       "      <td>Parda</td>\n",
       "      <td>1986-06-14</td>\n",
       "      <td>nao</td>\n",
       "      <td>SUL</td>\n",
       "      <td>RS</td>\n",
       "      <td>frederico westphalen</td>\n",
       "    </tr>\n",
       "    <tr>\n",
       "      <th>2</th>\n",
       "      <td>2005</td>\n",
       "      <td>423</td>\n",
       "      <td>UNIVERSIDADE REGIONAL INTEGRADA DO ALTO URUGUA...</td>\n",
       "      <td>BOLSA PARCIAL 50%</td>\n",
       "      <td>PRESENCIAL</td>\n",
       "      <td>Servico Social</td>\n",
       "      <td>Noturno</td>\n",
       "      <td>***045340**</td>\n",
       "      <td>F</td>\n",
       "      <td>Parda</td>\n",
       "      <td>1984-06-03</td>\n",
       "      <td>nao</td>\n",
       "      <td>SUL</td>\n",
       "      <td>RS</td>\n",
       "      <td>frederico westphalen</td>\n",
       "    </tr>\n",
       "    <tr>\n",
       "      <th>3</th>\n",
       "      <td>2005</td>\n",
       "      <td>423</td>\n",
       "      <td>UNIVERSIDADE REGIONAL INTEGRADA DO ALTO URUGUA...</td>\n",
       "      <td>BOLSA PARCIAL 50%</td>\n",
       "      <td>PRESENCIAL</td>\n",
       "      <td>Ciencia Da Computacao</td>\n",
       "      <td>Noturno</td>\n",
       "      <td>***988420**</td>\n",
       "      <td>M</td>\n",
       "      <td>Branca</td>\n",
       "      <td>1987-10-19</td>\n",
       "      <td>nao</td>\n",
       "      <td>SUL</td>\n",
       "      <td>RS</td>\n",
       "      <td>frederico westphalen</td>\n",
       "    </tr>\n",
       "    <tr>\n",
       "      <th>4</th>\n",
       "      <td>2005</td>\n",
       "      <td>423</td>\n",
       "      <td>UNIVERSIDADE REGIONAL INTEGRADA DO ALTO URUGUA...</td>\n",
       "      <td>BOLSA PARCIAL 50%</td>\n",
       "      <td>PRESENCIAL</td>\n",
       "      <td>Ciencia Da Computacao</td>\n",
       "      <td>Noturno</td>\n",
       "      <td>***378080**</td>\n",
       "      <td>M</td>\n",
       "      <td>Amarela</td>\n",
       "      <td>1987-07-20</td>\n",
       "      <td>nao</td>\n",
       "      <td>SUL</td>\n",
       "      <td>RS</td>\n",
       "      <td>frederico westphalen</td>\n",
       "    </tr>\n",
       "  </tbody>\n",
       "</table>\n",
       "</div>"
      ],
      "text/plain": [
       "   ANO_CONCESSAO_BOLSA  CODIGO_EMEC_IES_BOLSA  \\\n",
       "0                 2005                    423   \n",
       "1                 2005                    423   \n",
       "2                 2005                    423   \n",
       "3                 2005                    423   \n",
       "4                 2005                    423   \n",
       "\n",
       "                                      NOME_IES_BOLSA         TIPO_BOLSA  \\\n",
       "0  UNIVERSIDADE REGIONAL INTEGRADA DO ALTO URUGUA...  BOLSA PARCIAL 50%   \n",
       "1  UNIVERSIDADE REGIONAL INTEGRADA DO ALTO URUGUA...  BOLSA PARCIAL 50%   \n",
       "2  UNIVERSIDADE REGIONAL INTEGRADA DO ALTO URUGUA...  BOLSA PARCIAL 50%   \n",
       "3  UNIVERSIDADE REGIONAL INTEGRADA DO ALTO URUGUA...  BOLSA PARCIAL 50%   \n",
       "4  UNIVERSIDADE REGIONAL INTEGRADA DO ALTO URUGUA...  BOLSA PARCIAL 50%   \n",
       "\n",
       "  MODALIDADE_ENSINO_BOLSA       NOME_CURSO_BOLSA NOME_TURNO_CURSO_BOLSA  \\\n",
       "0              PRESENCIAL             Enfermagem               Integral   \n",
       "1              PRESENCIAL         Servico Social                Noturno   \n",
       "2              PRESENCIAL         Servico Social                Noturno   \n",
       "3              PRESENCIAL  Ciencia Da Computacao                Noturno   \n",
       "4              PRESENCIAL  Ciencia Da Computacao                Noturno   \n",
       "\n",
       "  CPF_BENEFICIARIO_BOLSA SEXO_BENEFICIARIO_BOLSA RACA_BENEFICIARIO_BOLSA  \\\n",
       "0            ***264740**                       F                  Branca   \n",
       "1            ***976940**                       F                   Parda   \n",
       "2            ***045340**                       F                   Parda   \n",
       "3            ***988420**                       M                  Branca   \n",
       "4            ***378080**                       M                 Amarela   \n",
       "\n",
       "  DT_NASCIMENTO_BENEFICIARIO BENEFICIARIO_DEFICIENTE_FISICO  \\\n",
       "0                 1987-02-17                            nao   \n",
       "1                 1986-06-14                            nao   \n",
       "2                 1984-06-03                            nao   \n",
       "3                 1987-10-19                            nao   \n",
       "4                 1987-07-20                            nao   \n",
       "\n",
       "  REGIAO_BENEFICIARIO_BOLSA SIGLA_UF_BENEFICIARIO_BOLSA  \\\n",
       "0                       SUL                          RS   \n",
       "1                       SUL                          RS   \n",
       "2                       SUL                          RS   \n",
       "3                       SUL                          RS   \n",
       "4                       SUL                          RS   \n",
       "\n",
       "  MUNICIPIO_BENEFICIARIO_BOLSA  \n",
       "0                 santo angelo  \n",
       "1         frederico westphalen  \n",
       "2         frederico westphalen  \n",
       "3         frederico westphalen  \n",
       "4         frederico westphalen  "
      ]
     },
     "execution_count": 2,
     "metadata": {},
     "output_type": "execute_result"
    }
   ],
   "source": [
    "prouni_raw=pd.read_csv('prouni_2005_2019.csv')#,index_col='index')\n",
    "prouni=prouni_raw.copy()\n",
    "prouni=prouni.drop(['idade'],axis=1)\n",
    "prouni.head()"
   ]
  },
  {
   "cell_type": "code",
   "execution_count": 3,
   "id": "9e54aa30",
   "metadata": {},
   "outputs": [
    {
     "data": {
      "text/plain": [
       "ANO_CONCESSAO_BOLSA                  0\n",
       "CODIGO_EMEC_IES_BOLSA                0\n",
       "NOME_IES_BOLSA                     489\n",
       "TIPO_BOLSA                           0\n",
       "MODALIDADE_ENSINO_BOLSA              0\n",
       "NOME_CURSO_BOLSA                  5654\n",
       "NOME_TURNO_CURSO_BOLSA               0\n",
       "CPF_BENEFICIARIO_BOLSA               0\n",
       "SEXO_BENEFICIARIO_BOLSA              0\n",
       "RACA_BENEFICIARIO_BOLSA              0\n",
       "DT_NASCIMENTO_BENEFICIARIO           0\n",
       "BENEFICIARIO_DEFICIENTE_FISICO       0\n",
       "REGIAO_BENEFICIARIO_BOLSA          402\n",
       "SIGLA_UF_BENEFICIARIO_BOLSA        402\n",
       "MUNICIPIO_BENEFICIARIO_BOLSA       402\n",
       "dtype: int64"
      ]
     },
     "execution_count": 3,
     "metadata": {},
     "output_type": "execute_result"
    }
   ],
   "source": [
    "prouni.isnull().sum()"
   ]
  },
  {
   "cell_type": "code",
   "execution_count": 4,
   "id": "c41033cc",
   "metadata": {},
   "outputs": [
    {
     "name": "stdout",
     "output_type": "stream",
     "text": [
      "<class 'pandas.core.frame.DataFrame'>\n",
      "RangeIndex: 2692540 entries, 0 to 2692539\n",
      "Data columns (total 15 columns):\n",
      " #   Column                          Dtype \n",
      "---  ------                          ----- \n",
      " 0   ANO_CONCESSAO_BOLSA             int64 \n",
      " 1   CODIGO_EMEC_IES_BOLSA           int64 \n",
      " 2   NOME_IES_BOLSA                  object\n",
      " 3   TIPO_BOLSA                      object\n",
      " 4   MODALIDADE_ENSINO_BOLSA         object\n",
      " 5   NOME_CURSO_BOLSA                object\n",
      " 6   NOME_TURNO_CURSO_BOLSA          object\n",
      " 7   CPF_BENEFICIARIO_BOLSA          object\n",
      " 8   SEXO_BENEFICIARIO_BOLSA         object\n",
      " 9   RACA_BENEFICIARIO_BOLSA         object\n",
      " 10  DT_NASCIMENTO_BENEFICIARIO      object\n",
      " 11  BENEFICIARIO_DEFICIENTE_FISICO  object\n",
      " 12  REGIAO_BENEFICIARIO_BOLSA       object\n",
      " 13  SIGLA_UF_BENEFICIARIO_BOLSA     object\n",
      " 14  MUNICIPIO_BENEFICIARIO_BOLSA    object\n",
      "dtypes: int64(2), object(13)\n",
      "memory usage: 308.1+ MB\n"
     ]
    }
   ],
   "source": [
    "prouni.info()"
   ]
  },
  {
   "cell_type": "markdown",
   "id": "53ac1896",
   "metadata": {},
   "source": [
    "There is a total of 2.692.540 scholarships given between 2005 and 2019. From all the data, 402 entries miss the location, 5654 miss the name of the course and 489 miss the name of the university."
   ]
  },
  {
   "cell_type": "markdown",
   "id": "2771e731",
   "metadata": {},
   "source": [
    "### Year"
   ]
  },
  {
   "cell_type": "code",
   "execution_count": 5,
   "id": "3bf6c97e",
   "metadata": {},
   "outputs": [
    {
     "data": {
      "text/plain": [
       "2005     95629\n",
       "2006    109025\n",
       "2007    105574\n",
       "2008    124621\n",
       "2009    161369\n",
       "2010    152733\n",
       "2011    170766\n",
       "2012    176764\n",
       "2013    177326\n",
       "2014    223598\n",
       "2015    252650\n",
       "2016    239262\n",
       "2017    236636\n",
       "2018    241032\n",
       "2019    225555\n",
       "Name: ANO_CONCESSAO_BOLSA, dtype: int64"
      ]
     },
     "execution_count": 5,
     "metadata": {},
     "output_type": "execute_result"
    }
   ],
   "source": [
    "year=prouni.ANO_CONCESSAO_BOLSA.value_counts().sort_index()\n",
    "year"
   ]
  },
  {
   "cell_type": "code",
   "execution_count": 6,
   "id": "507d5e91",
   "metadata": {},
   "outputs": [
    {
     "data": {
      "image/png": "[encoded data removed]",
      "text/plain": [
       "<Figure size 640x480 with 1 Axes>"
      ]
     },
     "metadata": {},
     "output_type": "display_data"
    }
   ],
   "source": [
    "plt.plot(year)\n",
    "plt.xlabel('Year')\n",
    "plt.ylabel('Scholarships given')\n",
    "plt.grid(False)\n",
    "plt.show()"
   ]
  },
  {
   "cell_type": "markdown",
   "id": "5e56a9f8",
   "metadata": {},
   "source": [
    "From the plot above is possible to see that on the first year of the program, almost 100.000 scholarships were granted. This amount increases reaching a maximum of 252.650 in 2015 and started decreasing in the following years."
   ]
  },
  {
   "cell_type": "markdown",
   "id": "5b3e4170",
   "metadata": {},
   "source": [
    "### Can someone be contemplated twice?"
   ]
  },
  {
   "cell_type": "markdown",
   "id": "9fcffe62",
   "metadata": {},
   "source": [
    "For this check, I'll have a look on the social security identification number together with the birthdate."
   ]
  },
  {
   "cell_type": "code",
   "execution_count": 7,
   "id": "ea753a1c",
   "metadata": {},
   "outputs": [
    {
     "data": {
      "text/plain": [
       "***546888**      21\n",
       "***308058**      20\n",
       "***205328**      20\n",
       "***724978**      20\n",
       "***849858**      20\n",
       "                 ..\n",
       "***27534627**     1\n",
       "***76419622**     1\n",
       "***07788648**     1\n",
       "***794079**       1\n",
       "***34469421**     1\n",
       "Name: CPF_BENEFICIARIO_BOLSA, Length: 1316468, dtype: int64"
      ]
     },
     "execution_count": 7,
     "metadata": {},
     "output_type": "execute_result"
    }
   ],
   "source": [
    "prouni.CPF_BENEFICIARIO_BOLSA.value_counts()"
   ]
  },
  {
   "cell_type": "code",
   "execution_count": 8,
   "id": "0906403a",
   "metadata": {},
   "outputs": [],
   "source": [
    "data_1=prouni[prouni['CPF_BENEFICIARIO_BOLSA']=='***546888**']"
   ]
  },
  {
   "cell_type": "code",
   "execution_count": 9,
   "id": "012b08cb",
   "metadata": {},
   "outputs": [
    {
     "data": {
      "text/plain": [
       "1976-06-15    6\n",
       "1990-03-29    3\n",
       "1994-06-29    2\n",
       "1988-06-16    2\n",
       "1978-02-16    1\n",
       "1988-01-29    1\n",
       "1989-06-11    1\n",
       "1991-06-27    1\n",
       "1987-01-31    1\n",
       "1984-03-04    1\n",
       "1975-06-24    1\n",
       "1982-04-09    1\n",
       "Name: DT_NASCIMENTO_BENEFICIARIO, dtype: int64"
      ]
     },
     "execution_count": 9,
     "metadata": {},
     "output_type": "execute_result"
    }
   ],
   "source": [
    "data_1.DT_NASCIMENTO_BENEFICIARIO.value_counts()"
   ]
  },
  {
   "cell_type": "code",
   "execution_count": 10,
   "id": "a3e89223",
   "metadata": {},
   "outputs": [
    {
     "data": {
      "text/html": [
       "<div>\n",
       "<style scoped>\n",
       "    .dataframe tbody tr th:only-of-type {\n",
       "        vertical-align: middle;\n",
       "    }\n",
       "\n",
       "    .dataframe tbody tr th {\n",
       "        vertical-align: top;\n",
       "    }\n",
       "\n",
       "    .dataframe thead th {\n",
       "        text-align: right;\n",
       "    }\n",
       "</style>\n",
       "<table border=\"1\" class=\"dataframe\">\n",
       "  <thead>\n",
       "    <tr style=\"text-align: right;\">\n",
       "      <th></th>\n",
       "      <th>ANO_CONCESSAO_BOLSA</th>\n",
       "      <th>CODIGO_EMEC_IES_BOLSA</th>\n",
       "      <th>NOME_IES_BOLSA</th>\n",
       "      <th>TIPO_BOLSA</th>\n",
       "      <th>MODALIDADE_ENSINO_BOLSA</th>\n",
       "      <th>NOME_CURSO_BOLSA</th>\n",
       "      <th>NOME_TURNO_CURSO_BOLSA</th>\n",
       "      <th>CPF_BENEFICIARIO_BOLSA</th>\n",
       "      <th>SEXO_BENEFICIARIO_BOLSA</th>\n",
       "      <th>RACA_BENEFICIARIO_BOLSA</th>\n",
       "      <th>DT_NASCIMENTO_BENEFICIARIO</th>\n",
       "      <th>BENEFICIARIO_DEFICIENTE_FISICO</th>\n",
       "      <th>REGIAO_BENEFICIARIO_BOLSA</th>\n",
       "      <th>SIGLA_UF_BENEFICIARIO_BOLSA</th>\n",
       "      <th>MUNICIPIO_BENEFICIARIO_BOLSA</th>\n",
       "    </tr>\n",
       "  </thead>\n",
       "  <tbody>\n",
       "    <tr>\n",
       "      <th>459997</th>\n",
       "      <td>2009</td>\n",
       "      <td>1491</td>\n",
       "      <td>CENTRO UNIVERSITARIO INTERNACIONAL</td>\n",
       "      <td>BOLSA PARCIAL 50%</td>\n",
       "      <td>EAD</td>\n",
       "      <td>Gestao Financeira</td>\n",
       "      <td>A Distancia</td>\n",
       "      <td>***546888**</td>\n",
       "      <td>M</td>\n",
       "      <td>Branca</td>\n",
       "      <td>1976-06-15</td>\n",
       "      <td>nao</td>\n",
       "      <td>SUL</td>\n",
       "      <td>PR</td>\n",
       "      <td>curitiba</td>\n",
       "    </tr>\n",
       "    <tr>\n",
       "      <th>648826</th>\n",
       "      <td>2010</td>\n",
       "      <td>1872</td>\n",
       "      <td>FACULDADES INTEGRADAS SANTA CRUZ DE CURITIBA</td>\n",
       "      <td>BOLSA PARCIAL 50%</td>\n",
       "      <td>PRESENCIAL</td>\n",
       "      <td>Direito</td>\n",
       "      <td>Matutino</td>\n",
       "      <td>***546888**</td>\n",
       "      <td>M</td>\n",
       "      <td>Branca</td>\n",
       "      <td>1976-06-15</td>\n",
       "      <td>nao</td>\n",
       "      <td>SUL</td>\n",
       "      <td>PR</td>\n",
       "      <td>curitiba</td>\n",
       "    </tr>\n",
       "    <tr>\n",
       "      <th>670008</th>\n",
       "      <td>2010</td>\n",
       "      <td>1487</td>\n",
       "      <td>FACULDADE DOM BOSCO</td>\n",
       "      <td>BOLSA INTEGRAL</td>\n",
       "      <td>PRESENCIAL</td>\n",
       "      <td>Direito</td>\n",
       "      <td>Matutino</td>\n",
       "      <td>***546888**</td>\n",
       "      <td>M</td>\n",
       "      <td>Branca</td>\n",
       "      <td>1976-06-15</td>\n",
       "      <td>nao</td>\n",
       "      <td>SUL</td>\n",
       "      <td>PR</td>\n",
       "      <td>curitiba</td>\n",
       "    </tr>\n",
       "    <tr>\n",
       "      <th>1556241</th>\n",
       "      <td>2015</td>\n",
       "      <td>197</td>\n",
       "      <td>FACULDADE DE EDUCACAO SUPERIOR DO PARANA</td>\n",
       "      <td>BOLSA INTEGRAL</td>\n",
       "      <td>PRESENCIAL</td>\n",
       "      <td>Administracao</td>\n",
       "      <td>Matutino</td>\n",
       "      <td>***546888**</td>\n",
       "      <td>M</td>\n",
       "      <td>Branca</td>\n",
       "      <td>1976-06-15</td>\n",
       "      <td>nao</td>\n",
       "      <td>SUL</td>\n",
       "      <td>PR</td>\n",
       "      <td>curitiba</td>\n",
       "    </tr>\n",
       "    <tr>\n",
       "      <th>1679124</th>\n",
       "      <td>2015</td>\n",
       "      <td>5288</td>\n",
       "      <td>FACULDADE ANHANGUERA DE RIBEIRAO PRETO</td>\n",
       "      <td>BOLSA INTEGRAL</td>\n",
       "      <td>PRESENCIAL</td>\n",
       "      <td>Engenharia Mecanica</td>\n",
       "      <td>Noturno</td>\n",
       "      <td>***546888**</td>\n",
       "      <td>M</td>\n",
       "      <td>Branca</td>\n",
       "      <td>1976-06-15</td>\n",
       "      <td>nao</td>\n",
       "      <td>SUL</td>\n",
       "      <td>PR</td>\n",
       "      <td>curitiba</td>\n",
       "    </tr>\n",
       "    <tr>\n",
       "      <th>1940783</th>\n",
       "      <td>2016</td>\n",
       "      <td>1270</td>\n",
       "      <td>CENTRO UNIVERSITARIO ESTACIO DE RIBEIRAO PRETO</td>\n",
       "      <td>BOLSA INTEGRAL</td>\n",
       "      <td>PRESENCIAL</td>\n",
       "      <td>Direito</td>\n",
       "      <td>Noturno</td>\n",
       "      <td>***546888**</td>\n",
       "      <td>M</td>\n",
       "      <td>Branca</td>\n",
       "      <td>1976-06-15</td>\n",
       "      <td>nao</td>\n",
       "      <td>SUL</td>\n",
       "      <td>PR</td>\n",
       "      <td>curitiba</td>\n",
       "    </tr>\n",
       "  </tbody>\n",
       "</table>\n",
       "</div>"
      ],
      "text/plain": [
       "         ANO_CONCESSAO_BOLSA  CODIGO_EMEC_IES_BOLSA  \\\n",
       "459997                  2009                   1491   \n",
       "648826                  2010                   1872   \n",
       "670008                  2010                   1487   \n",
       "1556241                 2015                    197   \n",
       "1679124                 2015                   5288   \n",
       "1940783                 2016                   1270   \n",
       "\n",
       "                                         NOME_IES_BOLSA         TIPO_BOLSA  \\\n",
       "459997               CENTRO UNIVERSITARIO INTERNACIONAL  BOLSA PARCIAL 50%   \n",
       "648826     FACULDADES INTEGRADAS SANTA CRUZ DE CURITIBA  BOLSA PARCIAL 50%   \n",
       "670008                              FACULDADE DOM BOSCO     BOLSA INTEGRAL   \n",
       "1556241        FACULDADE DE EDUCACAO SUPERIOR DO PARANA     BOLSA INTEGRAL   \n",
       "1679124          FACULDADE ANHANGUERA DE RIBEIRAO PRETO     BOLSA INTEGRAL   \n",
       "1940783  CENTRO UNIVERSITARIO ESTACIO DE RIBEIRAO PRETO     BOLSA INTEGRAL   \n",
       "\n",
       "        MODALIDADE_ENSINO_BOLSA     NOME_CURSO_BOLSA NOME_TURNO_CURSO_BOLSA  \\\n",
       "459997                      EAD    Gestao Financeira            A Distancia   \n",
       "648826               PRESENCIAL              Direito               Matutino   \n",
       "670008               PRESENCIAL              Direito               Matutino   \n",
       "1556241              PRESENCIAL        Administracao               Matutino   \n",
       "1679124              PRESENCIAL  Engenharia Mecanica                Noturno   \n",
       "1940783              PRESENCIAL              Direito                Noturno   \n",
       "\n",
       "        CPF_BENEFICIARIO_BOLSA SEXO_BENEFICIARIO_BOLSA  \\\n",
       "459997             ***546888**                       M   \n",
       "648826             ***546888**                       M   \n",
       "670008             ***546888**                       M   \n",
       "1556241            ***546888**                       M   \n",
       "1679124            ***546888**                       M   \n",
       "1940783            ***546888**                       M   \n",
       "\n",
       "        RACA_BENEFICIARIO_BOLSA DT_NASCIMENTO_BENEFICIARIO  \\\n",
       "459997                   Branca                 1976-06-15   \n",
       "648826                   Branca                 1976-06-15   \n",
       "670008                   Branca                 1976-06-15   \n",
       "1556241                  Branca                 1976-06-15   \n",
       "1679124                  Branca                 1976-06-15   \n",
       "1940783                  Branca                 1976-06-15   \n",
       "\n",
       "        BENEFICIARIO_DEFICIENTE_FISICO REGIAO_BENEFICIARIO_BOLSA  \\\n",
       "459997                             nao                       SUL   \n",
       "648826                             nao                       SUL   \n",
       "670008                             nao                       SUL   \n",
       "1556241                            nao                       SUL   \n",
       "1679124                            nao                       SUL   \n",
       "1940783                            nao                       SUL   \n",
       "\n",
       "        SIGLA_UF_BENEFICIARIO_BOLSA MUNICIPIO_BENEFICIARIO_BOLSA  \n",
       "459997                           PR                     curitiba  \n",
       "648826                           PR                     curitiba  \n",
       "670008                           PR                     curitiba  \n",
       "1556241                          PR                     curitiba  \n",
       "1679124                          PR                     curitiba  \n",
       "1940783                          PR                     curitiba  "
      ]
     },
     "execution_count": 10,
     "metadata": {},
     "output_type": "execute_result"
    }
   ],
   "source": [
    "data_2=data_1[data_1['DT_NASCIMENTO_BENEFICIARIO']=='1976-06-15']\n",
    "data_2"
   ]
  },
  {
   "cell_type": "code",
   "execution_count": 11,
   "id": "edc65e4c",
   "metadata": {},
   "outputs": [
    {
     "data": {
      "text/html": [
       "<div>\n",
       "<style scoped>\n",
       "    .dataframe tbody tr th:only-of-type {\n",
       "        vertical-align: middle;\n",
       "    }\n",
       "\n",
       "    .dataframe tbody tr th {\n",
       "        vertical-align: top;\n",
       "    }\n",
       "\n",
       "    .dataframe thead th {\n",
       "        text-align: right;\n",
       "    }\n",
       "</style>\n",
       "<table border=\"1\" class=\"dataframe\">\n",
       "  <thead>\n",
       "    <tr style=\"text-align: right;\">\n",
       "      <th></th>\n",
       "      <th>ANO_CONCESSAO_BOLSA</th>\n",
       "      <th>CODIGO_EMEC_IES_BOLSA</th>\n",
       "      <th>NOME_IES_BOLSA</th>\n",
       "      <th>TIPO_BOLSA</th>\n",
       "      <th>MODALIDADE_ENSINO_BOLSA</th>\n",
       "      <th>NOME_CURSO_BOLSA</th>\n",
       "      <th>NOME_TURNO_CURSO_BOLSA</th>\n",
       "      <th>CPF_BENEFICIARIO_BOLSA</th>\n",
       "      <th>SEXO_BENEFICIARIO_BOLSA</th>\n",
       "      <th>RACA_BENEFICIARIO_BOLSA</th>\n",
       "      <th>DT_NASCIMENTO_BENEFICIARIO</th>\n",
       "      <th>BENEFICIARIO_DEFICIENTE_FISICO</th>\n",
       "      <th>REGIAO_BENEFICIARIO_BOLSA</th>\n",
       "      <th>SIGLA_UF_BENEFICIARIO_BOLSA</th>\n",
       "      <th>MUNICIPIO_BENEFICIARIO_BOLSA</th>\n",
       "    </tr>\n",
       "  </thead>\n",
       "  <tbody>\n",
       "    <tr>\n",
       "      <th>754679</th>\n",
       "      <td>2011</td>\n",
       "      <td>375</td>\n",
       "      <td>UNIVERSIDADE DE SANTO AMARO</td>\n",
       "      <td>BOLSA PARCIAL 50%</td>\n",
       "      <td>PRESENCIAL</td>\n",
       "      <td>Engenharia Ambiental</td>\n",
       "      <td>Noturno</td>\n",
       "      <td>***546888**</td>\n",
       "      <td>M</td>\n",
       "      <td>Parda</td>\n",
       "      <td>1990-03-29</td>\n",
       "      <td>nao</td>\n",
       "      <td>SUDESTE</td>\n",
       "      <td>SP</td>\n",
       "      <td>sao paulo</td>\n",
       "    </tr>\n",
       "    <tr>\n",
       "      <th>1103315</th>\n",
       "      <td>2013</td>\n",
       "      <td>375</td>\n",
       "      <td>UNIVERSIDADE DE SANTO AMARO</td>\n",
       "      <td>BOLSA INTEGRAL</td>\n",
       "      <td>PRESENCIAL</td>\n",
       "      <td>Engenharia Ambiental</td>\n",
       "      <td>Noturno</td>\n",
       "      <td>***546888**</td>\n",
       "      <td>M</td>\n",
       "      <td>Parda</td>\n",
       "      <td>1990-03-29</td>\n",
       "      <td>nao</td>\n",
       "      <td>SUDESTE</td>\n",
       "      <td>SP</td>\n",
       "      <td>sao paulo</td>\n",
       "    </tr>\n",
       "    <tr>\n",
       "      <th>1593718</th>\n",
       "      <td>2015</td>\n",
       "      <td>3985</td>\n",
       "      <td>CENTRO UNIVERSITARIO SENAC</td>\n",
       "      <td>BOLSA INTEGRAL</td>\n",
       "      <td>PRESENCIAL</td>\n",
       "      <td>Engenharia Ambiental E Sanitaria</td>\n",
       "      <td>Noturno</td>\n",
       "      <td>***546888**</td>\n",
       "      <td>M</td>\n",
       "      <td>Parda</td>\n",
       "      <td>1990-03-29</td>\n",
       "      <td>nao</td>\n",
       "      <td>SUDESTE</td>\n",
       "      <td>SP</td>\n",
       "      <td>sao paulo</td>\n",
       "    </tr>\n",
       "  </tbody>\n",
       "</table>\n",
       "</div>"
      ],
      "text/plain": [
       "         ANO_CONCESSAO_BOLSA  CODIGO_EMEC_IES_BOLSA  \\\n",
       "754679                  2011                    375   \n",
       "1103315                 2013                    375   \n",
       "1593718                 2015                   3985   \n",
       "\n",
       "                      NOME_IES_BOLSA         TIPO_BOLSA  \\\n",
       "754679   UNIVERSIDADE DE SANTO AMARO  BOLSA PARCIAL 50%   \n",
       "1103315  UNIVERSIDADE DE SANTO AMARO     BOLSA INTEGRAL   \n",
       "1593718   CENTRO UNIVERSITARIO SENAC     BOLSA INTEGRAL   \n",
       "\n",
       "        MODALIDADE_ENSINO_BOLSA                  NOME_CURSO_BOLSA  \\\n",
       "754679               PRESENCIAL              Engenharia Ambiental   \n",
       "1103315              PRESENCIAL              Engenharia Ambiental   \n",
       "1593718              PRESENCIAL  Engenharia Ambiental E Sanitaria   \n",
       "\n",
       "        NOME_TURNO_CURSO_BOLSA CPF_BENEFICIARIO_BOLSA SEXO_BENEFICIARIO_BOLSA  \\\n",
       "754679                 Noturno            ***546888**                       M   \n",
       "1103315                Noturno            ***546888**                       M   \n",
       "1593718                Noturno            ***546888**                       M   \n",
       "\n",
       "        RACA_BENEFICIARIO_BOLSA DT_NASCIMENTO_BENEFICIARIO  \\\n",
       "754679                    Parda                 1990-03-29   \n",
       "1103315                   Parda                 1990-03-29   \n",
       "1593718                   Parda                 1990-03-29   \n",
       "\n",
       "        BENEFICIARIO_DEFICIENTE_FISICO REGIAO_BENEFICIARIO_BOLSA  \\\n",
       "754679                             nao                   SUDESTE   \n",
       "1103315                            nao                   SUDESTE   \n",
       "1593718                            nao                   SUDESTE   \n",
       "\n",
       "        SIGLA_UF_BENEFICIARIO_BOLSA MUNICIPIO_BENEFICIARIO_BOLSA  \n",
       "754679                           SP                    sao paulo  \n",
       "1103315                          SP                    sao paulo  \n",
       "1593718                          SP                    sao paulo  "
      ]
     },
     "execution_count": 11,
     "metadata": {},
     "output_type": "execute_result"
    }
   ],
   "source": [
    "data_3=data_1[data_1['DT_NASCIMENTO_BENEFICIARIO']=='1990-03-29']\n",
    "data_3"
   ]
  },
  {
   "cell_type": "markdown",
   "id": "3cb2e2d2",
   "metadata": {},
   "source": [
    "It seems like it is possible to be contemplated twice. As we only have part of the social security number, for one of the numbers we found 21 cases where they had the same numbers inside it. From those, 6 of them had the same birth date. Although they are all men, white, no disability, from the same city, they had different courses in different universities. For this reason, for this case, we can't claim they are the same person. In this same social number, looking at the second birth date, it seems like the same men went from a partial scholarship in 2011 (50%) to full scholarship in 2013. So this answers the question that yes, it is possible to be contemplated twice, but as our data is limited, we cannot tell how many of them have gotten them more than once."
   ]
  },
  {
   "cell_type": "markdown",
   "id": "c669b53a",
   "metadata": {},
   "source": [
    "### Universities"
   ]
  },
  {
   "cell_type": "code",
   "execution_count": 12,
   "id": "e9ed3239",
   "metadata": {},
   "outputs": [
    {
     "data": {
      "text/plain": [
       "322      155486\n",
       "298      111550\n",
       "671       63237\n",
       "1491      60478\n",
       "163       56429\n",
       "          ...  \n",
       "22000         1\n",
       "19866         1\n",
       "19787         1\n",
       "14160         1\n",
       "14858         1\n",
       "Name: CODIGO_EMEC_IES_BOLSA, Length: 2147, dtype: int64"
      ]
     },
     "execution_count": 12,
     "metadata": {},
     "output_type": "execute_result"
    }
   ],
   "source": [
    "prouni.CODIGO_EMEC_IES_BOLSA.value_counts()"
   ]
  },
  {
   "cell_type": "code",
   "execution_count": 13,
   "id": "84db9237",
   "metadata": {},
   "outputs": [
    {
     "data": {
      "text/plain": [
       "UNIVERSIDADE PAULISTA                       155486\n",
       "UNIVERSIDADE PITAGORAS UNOPAR               111550\n",
       "CENTRO UNIVERSITARIO INTERNACIONAL           60478\n",
       "UNIVERSIDADE ESTACIO DE SA                   56429\n",
       "UNIVERSIDADE ANHANGUERA                      49300\n",
       "                                             ...  \n",
       "FACULDADE DE TECNOLOGIA DE PALMAS                1\n",
       "FACULDADE UNINABUCO MACEIA                       1\n",
       "FACULDADE EDUCAREMT                              1\n",
       "FACULDADE DE JAAs                                1\n",
       "FACULDADE DE TECNOLOGIA FRANCISCO MORATO         1\n",
       "Name: NOME_IES_BOLSA, Length: 2719, dtype: int64"
      ]
     },
     "execution_count": 13,
     "metadata": {},
     "output_type": "execute_result"
    }
   ],
   "source": [
    "prouni['NOME_IES_BOLSA'] = prouni['NOME_IES_BOLSA'].str.split('-').str[0]\n",
    "prouni.NOME_IES_BOLSA.value_counts()"
   ]
  },
  {
   "cell_type": "code",
   "execution_count": 14,
   "id": "463c9b89",
   "metadata": {},
   "outputs": [],
   "source": [
    "la=prouni[prouni['CODIGO_EMEC_IES_BOLSA']==671]"
   ]
  },
  {
   "cell_type": "code",
   "execution_count": 15,
   "id": "eb3dfa06",
   "metadata": {},
   "outputs": [
    {
     "data": {
      "text/plain": [
       "2044    UNIVERSIDADE ANHANGUERA \n",
       "Name: NOME_IES_BOLSA, dtype: object"
      ]
     },
     "execution_count": 15,
     "metadata": {},
     "output_type": "execute_result"
    }
   ],
   "source": [
    "la['NOME_IES_BOLSA'].head(1)"
   ]
  },
  {
   "cell_type": "code",
   "execution_count": 16,
   "id": "5841431b",
   "metadata": {},
   "outputs": [
    {
     "data": {
      "text/plain": [
       "24.292563898772162"
      ]
     },
     "execution_count": 16,
     "metadata": {},
     "output_type": "execute_result"
    }
   ],
   "source": [
    "percent_uni=(prouni.CODIGO_EMEC_IES_BOLSA.value_counts()/len(prouni))*100\n",
    "sum(percent_uni.head(10))"
   ]
  },
  {
   "cell_type": "markdown",
   "id": "ce5e3bea",
   "metadata": {},
   "source": [
    "There are 2.147 universities granting scholarships through the program.\n",
    "\n",
    "From all the dataset, almost 6% of the grants where given to UNIVERSIDADE PAULISTA, 4% to UNIVERSIDADE PITAGORAS UNOPAR and 2.3% to UNIVERSIDADE ANHANGUERA. 654.087 scholarship grants were given by only 10 universities among 2.147, which represents 24% of all the scholarships!"
   ]
  },
  {
   "cell_type": "markdown",
   "id": "6196a866",
   "metadata": {},
   "source": [
    "### Type of scholarship"
   ]
  },
  {
   "cell_type": "code",
   "execution_count": 17,
   "id": "ac0f2d62",
   "metadata": {},
   "outputs": [
    {
     "data": {
      "text/plain": [
       "BOLSA INTEGRAL            1876706\n",
       "BOLSA PARCIAL 50%          813504\n",
       "BOLSA COMPLEMENTAR 25%       2330\n",
       "Name: TIPO_BOLSA, dtype: int64"
      ]
     },
     "execution_count": 17,
     "metadata": {},
     "output_type": "execute_result"
    }
   ],
   "source": [
    "sum_type=prouni.TIPO_BOLSA.value_counts()\n",
    "sum_type"
   ]
  },
  {
   "cell_type": "code",
   "execution_count": 18,
   "id": "7f6f193b",
   "metadata": {},
   "outputs": [
    {
     "data": {
      "image/png": "[encoded data removed]",
      "text/plain": [
       "<Figure size 640x480 with 1 Axes>"
      ]
     },
     "metadata": {},
     "output_type": "display_data"
    }
   ],
   "source": [
    "fig1,ax1=plt.subplots()\n",
    "ax1.bar(['Full','Partial 50%'],sum_type[:2])\n",
    "formatter = ticker.ScalarFormatter()\n",
    "formatter.set_scientific(False)\n",
    "ax1.yaxis.set_major_formatter(formatter)\n",
    "plt.grid(False)\n",
    "plt.show()"
   ]
  },
  {
   "cell_type": "code",
   "execution_count": 19,
   "id": "100dd2ee",
   "metadata": {},
   "outputs": [],
   "source": [
    "data_4=prouni[prouni['TIPO_BOLSA']=='BOLSA COMPLEMENTAR 25%']"
   ]
  },
  {
   "cell_type": "code",
   "execution_count": 20,
   "id": "0cc3a82b",
   "metadata": {},
   "outputs": [
    {
     "data": {
      "text/plain": [
       "array([2008], dtype=int64)"
      ]
     },
     "execution_count": 20,
     "metadata": {},
     "output_type": "execute_result"
    }
   ],
   "source": [
    "data_4.ANO_CONCESSAO_BOLSA.unique()"
   ]
  },
  {
   "cell_type": "markdown",
   "id": "4aac646d",
   "metadata": {},
   "source": [
    "Almost 70% are full scholarships, while 30% are 50% scholarships. It seems like 25% scholarships were only given in the year of 2008 and only 2330 scholarships."
   ]
  },
  {
   "cell_type": "markdown",
   "id": "e4b99d2b",
   "metadata": {},
   "source": [
    "### Modality"
   ]
  },
  {
   "cell_type": "code",
   "execution_count": 21,
   "id": "2107e201",
   "metadata": {},
   "outputs": [
    {
     "data": {
      "text/plain": [
       "PRESENCIAL    2192014\n",
       "EAD            500526\n",
       "Name: MODALIDADE_ENSINO_BOLSA, dtype: int64"
      ]
     },
     "execution_count": 21,
     "metadata": {},
     "output_type": "execute_result"
    }
   ],
   "source": [
    "sum_mod=prouni['MODALIDADE_ENSINO_BOLSA'].value_counts()\n",
    "sum_mod"
   ]
  },
  {
   "cell_type": "code",
   "execution_count": 22,
   "id": "a88341c4",
   "metadata": {},
   "outputs": [
    {
     "data": {
      "image/png": "[encoded data removed]",
      "text/plain": [
       "<Figure size 640x480 with 1 Axes>"
      ]
     },
     "metadata": {},
     "output_type": "display_data"
    }
   ],
   "source": [
    "fig1,ax1=plt.subplots()\n",
    "ax1.bar(['Presence','Distance'],sum_mod)\n",
    "formatter = ticker.ScalarFormatter()\n",
    "formatter.set_scientific(False)\n",
    "ax1.yaxis.set_major_formatter(formatter)\n",
    "plt.grid(False)\n",
    "plt.show()"
   ]
  },
  {
   "cell_type": "markdown",
   "id": "6d20b4d1",
   "metadata": {},
   "source": [
    "81.4% of the students are taking presential courses while 18.6% distance courses."
   ]
  },
  {
   "cell_type": "markdown",
   "id": "c8bf9178",
   "metadata": {},
   "source": [
    "### Shift"
   ]
  },
  {
   "cell_type": "code",
   "execution_count": 23,
   "id": "44e4b0c1",
   "metadata": {},
   "outputs": [
    {
     "data": {
      "text/plain": [
       "Noturno       70.739877\n",
       "Matutino      22.346299\n",
       "Integral       3.588161\n",
       "Vespertino     3.325663\n",
       "Name: NOME_TURNO_CURSO_BOLSA, dtype: float64"
      ]
     },
     "execution_count": 23,
     "metadata": {},
     "output_type": "execute_result"
    }
   ],
   "source": [
    "sum_shift=prouni['NOME_TURNO_CURSO_BOLSA'].value_counts()\n",
    "sum_shift=sum_shift.drop(labels = ['A Distancia']) \n",
    "sum_shift=sum_shift/sum(sum_shift)*100\n",
    "sum_shift"
   ]
  },
  {
   "cell_type": "code",
   "execution_count": 24,
   "id": "f73dacf4",
   "metadata": {},
   "outputs": [
    {
     "data": {
      "image/png": "[encoded data removed]",
      "text/plain": [
       "<Figure size 640x480 with 1 Axes>"
      ]
     },
     "metadata": {},
     "output_type": "display_data"
    }
   ],
   "source": [
    "fig1,ax=plt.subplots()\n",
    "graf = ax.bar(['Night','Morning','Full Time','Afternoon'],sum_shift) \n",
    "ax.bar_label(graf, fmt=\"%.01f\", size=10, label_type=\"edge\")\n",
    "plt.yticks([])\n",
    "plt.grid(False)\n",
    "plt.show()"
   ]
  },
  {
   "cell_type": "markdown",
   "id": "f9e9ce69",
   "metadata": {},
   "source": [
    "From all the presential courses, 70% are on night school, 22% morning school and 6% between afternoon and full time school. In Brazil is normal that people will work along the day and attend school at night."
   ]
  },
  {
   "cell_type": "markdown",
   "id": "5580654e",
   "metadata": {},
   "source": [
    "### Gender"
   ]
  },
  {
   "cell_type": "code",
   "execution_count": 25,
   "id": "a4ba9660",
   "metadata": {},
   "outputs": [
    {
     "data": {
      "text/plain": [
       "F    54.178099\n",
       "M    45.821901\n",
       "Name: SEXO_BENEFICIARIO_BOLSA, dtype: float64"
      ]
     },
     "execution_count": 25,
     "metadata": {},
     "output_type": "execute_result"
    }
   ],
   "source": [
    "sum_gender=prouni['SEXO_BENEFICIARIO_BOLSA'].value_counts()\n",
    "sum_gender=sum_gender/sum(sum_gender)*100\n",
    "sum_gender"
   ]
  },
  {
   "cell_type": "code",
   "execution_count": 26,
   "id": "98d11408",
   "metadata": {},
   "outputs": [
    {
     "data": {
      "image/png": "[encoded data removed]",
      "text/plain": [
       "<Figure size 640x480 with 1 Axes>"
      ]
     },
     "metadata": {},
     "output_type": "display_data"
    }
   ],
   "source": [
    "fig1,ax1=plt.subplots()\n",
    "graf=ax1.bar(['Female','Male'],sum_gender)\n",
    "ax1.bar_label(graf, fmt=\"%.01f\", size=10, label_type=\"edge\")\n",
    "plt.yticks([])\n",
    "plt.grid(False)\n",
    "plt.show()"
   ]
  },
  {
   "cell_type": "markdown",
   "id": "4f9a48b0",
   "metadata": {},
   "source": [
    "54% of the scholarship holders are woman while 46% are men."
   ]
  },
  {
   "cell_type": "markdown",
   "id": "80ffcfae",
   "metadata": {},
   "source": [
    "### Race"
   ]
  },
  {
   "cell_type": "code",
   "execution_count": 27,
   "id": "e2718575",
   "metadata": {},
   "outputs": [
    {
     "data": {
      "text/plain": [
       "Branca           43.191113\n",
       "Parda            41.373573\n",
       "Preta            12.695485\n",
       "Amarela           1.754997\n",
       "Nao Informada     0.877944\n",
       "Indigena          0.106888\n",
       "Name: RACA_BENEFICIARIO_BOLSA, dtype: float64"
      ]
     },
     "execution_count": 27,
     "metadata": {},
     "output_type": "execute_result"
    }
   ],
   "source": [
    "sum_race=prouni['RACA_BENEFICIARIO_BOLSA'].value_counts()\n",
    "sum_race=sum_race/sum(sum_race)*100\n",
    "sum_race"
   ]
  },
  {
   "cell_type": "code",
   "execution_count": 28,
   "id": "47f3632a",
   "metadata": {},
   "outputs": [
    {
     "data": {
      "image/png": "[encoded data removed]",
      "text/plain": [
       "<Figure size 640x480 with 1 Axes>"
      ]
     },
     "metadata": {},
     "output_type": "display_data"
    }
   ],
   "source": [
    "fig1,ax1=plt.subplots()\n",
    "graf=ax1.bar(['White','Brown','Black','Yellow','Not Informed','Indigenous'],sum_race)\n",
    "ax1.bar_label(graf, fmt=\"%.01f\", size=10, label_type=\"edge\")\n",
    "plt.yticks([])\n",
    "plt.grid(False)\n",
    "plt.show()"
   ]
  },
  {
   "cell_type": "markdown",
   "id": "42cd9063",
   "metadata": {},
   "source": [
    "43% of the students consider themselves white, 41% brown and 13% black. Yellow and indigenous sum less than 2% and less than 1% did not inform their race."
   ]
  },
  {
   "cell_type": "markdown",
   "id": "750dbd90",
   "metadata": {},
   "source": [
    "### Age"
   ]
  },
  {
   "cell_type": "code",
   "execution_count": 29,
   "id": "21fedef6",
   "metadata": {},
   "outputs": [
    {
     "data": {
      "text/plain": [
       "0          1987-02-17\n",
       "1          1986-06-14\n",
       "2          1984-06-03\n",
       "3          1987-10-19\n",
       "4          1987-07-20\n",
       "              ...    \n",
       "2692535    2001-04-05\n",
       "2692536    2001-06-16\n",
       "2692537    1992-12-13\n",
       "2692538    1996-12-27\n",
       "2692539    1985-03-14\n",
       "Name: DT_NASCIMENTO_BENEFICIARIO, Length: 2692540, dtype: object"
      ]
     },
     "execution_count": 29,
     "metadata": {},
     "output_type": "execute_result"
    }
   ],
   "source": [
    "prouni.DT_NASCIMENTO_BENEFICIARIO"
   ]
  },
  {
   "cell_type": "code",
   "execution_count": 30,
   "id": "ca45dae1",
   "metadata": {},
   "outputs": [],
   "source": [
    "prouni['DT_NASCIMENTO_BENEFICIARIO']=pd.to_datetime(prouni['DT_NASCIMENTO_BENEFICIARIO'])"
   ]
  },
  {
   "cell_type": "code",
   "execution_count": 31,
   "id": "63446849",
   "metadata": {},
   "outputs": [],
   "source": [
    "prouni['birth_year'] = prouni['DT_NASCIMENTO_BENEFICIARIO'].dt.year"
   ]
  },
  {
   "cell_type": "code",
   "execution_count": 32,
   "id": "1ff71661",
   "metadata": {},
   "outputs": [],
   "source": [
    "prouni['age']=prouni['ANO_CONCESSAO_BOLSA']-prouni['birth_year']"
   ]
  },
  {
   "cell_type": "code",
   "execution_count": 33,
   "id": "eeb6e5f1",
   "metadata": {},
   "outputs": [
    {
     "data": {
      "text/plain": [
       "0          18\n",
       "1          19\n",
       "2          21\n",
       "3          18\n",
       "4          18\n",
       "           ..\n",
       "2692535    18\n",
       "2692536    18\n",
       "2692537    27\n",
       "2692538    23\n",
       "2692539    34\n",
       "Name: age, Length: 2692540, dtype: int64"
      ]
     },
     "execution_count": 33,
     "metadata": {},
     "output_type": "execute_result"
    }
   ],
   "source": [
    "prouni['age']"
   ]
  },
  {
   "cell_type": "code",
   "execution_count": 34,
   "id": "7e39990f",
   "metadata": {},
   "outputs": [
    {
     "data": {
      "image/png": "[encoded data removed]",
      "text/plain": [
       "<Figure size 640x480 with 1 Axes>"
      ]
     },
     "metadata": {},
     "output_type": "display_data"
    }
   ],
   "source": [
    "plt.hist(prouni['age'],range=[15,55],bins=55-15)\n",
    "plt.xlabel('Age')\n",
    "plt.ylabel('Count')\n",
    "plt.grid(False)"
   ]
  },
  {
   "cell_type": "code",
   "execution_count": 35,
   "id": "41bcf0b4",
   "metadata": {},
   "outputs": [
    {
     "data": {
      "text/plain": [
       "18    422808\n",
       "19    413752\n",
       "20    290098\n",
       "21    223577\n",
       "22    178467\n",
       "23    147810\n",
       "24    125991\n",
       "25    108314\n",
       "26     93434\n",
       "27     81205\n",
       "Name: age, dtype: int64"
      ]
     },
     "execution_count": 35,
     "metadata": {},
     "output_type": "execute_result"
    }
   ],
   "source": [
    "idade=prouni['age'].value_counts()\n",
    "idade.head(10)"
   ]
  },
  {
   "cell_type": "code",
   "execution_count": 36,
   "id": "ab243ffe",
   "metadata": {},
   "outputs": [
    {
     "data": {
      "text/plain": [
       "0.7745311118869171"
      ]
     },
     "execution_count": 36,
     "metadata": {},
     "output_type": "execute_result"
    }
   ],
   "source": [
    "sum(idade.head(10))/len(prouni['age'])"
   ]
  },
  {
   "cell_type": "markdown",
   "id": "4568e23b",
   "metadata": {},
   "source": [
    "Students enter the program with ages varying from 17 to 51 years old. 31% of them start university with 18 to 19 years old, and 77% of them start between 18 and 27 years old."
   ]
  },
  {
   "cell_type": "markdown",
   "id": "15057bbb",
   "metadata": {},
   "source": [
    "### Physically disabled"
   ]
  },
  {
   "cell_type": "code",
   "execution_count": 37,
   "id": "617d156d",
   "metadata": {},
   "outputs": [
    {
     "data": {
      "text/plain": [
       "nao    2673367\n",
       "sim      19173\n",
       "Name: BENEFICIARIO_DEFICIENTE_FISICO, dtype: int64"
      ]
     },
     "execution_count": 37,
     "metadata": {},
     "output_type": "execute_result"
    }
   ],
   "source": [
    "prouni['BENEFICIARIO_DEFICIENTE_FISICO'].value_counts()"
   ]
  },
  {
   "cell_type": "code",
   "execution_count": 38,
   "id": "e87d51e6",
   "metadata": {},
   "outputs": [
    {
     "data": {
      "text/plain": [
       "0.7120785577930133"
      ]
     },
     "execution_count": 38,
     "metadata": {},
     "output_type": "execute_result"
    }
   ],
   "source": [
    "19173/len(prouni)*100"
   ]
  },
  {
   "cell_type": "markdown",
   "id": "6e858464",
   "metadata": {},
   "source": [
    "0.7% of the students are physically disabled."
   ]
  },
  {
   "cell_type": "markdown",
   "id": "b99407de",
   "metadata": {},
   "source": [
    "### Region"
   ]
  },
  {
   "cell_type": "code",
   "execution_count": 39,
   "id": "0ae87be9",
   "metadata": {},
   "outputs": [
    {
     "data": {
      "text/plain": [
       "SUDESTE         1289321\n",
       "SUL              491560\n",
       "NORDESTE         486819\n",
       "CENTRO-OESTE     247089\n",
       "NORTE            177349\n",
       "Name: REGIAO_BENEFICIARIO_BOLSA, dtype: int64"
      ]
     },
     "execution_count": 39,
     "metadata": {},
     "output_type": "execute_result"
    }
   ],
   "source": [
    "reg=prouni['REGIAO_BENEFICIARIO_BOLSA'].value_counts()\n",
    "reg"
   ]
  },
  {
   "cell_type": "code",
   "execution_count": 40,
   "id": "77ffd4de",
   "metadata": {},
   "outputs": [
    {
     "data": {
      "text/plain": [
       "SUDESTE         47.892084\n",
       "SUL             18.259094\n",
       "NORDESTE        18.082988\n",
       "CENTRO-OESTE     9.178170\n",
       "NORTE            6.587664\n",
       "Name: REGIAO_BENEFICIARIO_BOLSA, dtype: float64"
      ]
     },
     "execution_count": 40,
     "metadata": {},
     "output_type": "execute_result"
    }
   ],
   "source": [
    "perc=reg/sum(reg)*100\n",
    "perc"
   ]
  },
  {
   "cell_type": "code",
   "execution_count": 41,
   "id": "c99eddc3",
   "metadata": {},
   "outputs": [
    {
     "data": {
      "text/html": [
       "<div>\n",
       "<style scoped>\n",
       "    .dataframe tbody tr th:only-of-type {\n",
       "        vertical-align: middle;\n",
       "    }\n",
       "\n",
       "    .dataframe tbody tr th {\n",
       "        vertical-align: top;\n",
       "    }\n",
       "\n",
       "    .dataframe thead th {\n",
       "        text-align: right;\n",
       "    }\n",
       "</style>\n",
       "<table border=\"1\" class=\"dataframe\">\n",
       "  <thead>\n",
       "    <tr style=\"text-align: right;\">\n",
       "      <th></th>\n",
       "      <th>Region</th>\n",
       "      <th>Population</th>\n",
       "    </tr>\n",
       "  </thead>\n",
       "  <tbody>\n",
       "    <tr>\n",
       "      <th>0</th>\n",
       "      <td>Southeast</td>\n",
       "      <td>89632912</td>\n",
       "    </tr>\n",
       "    <tr>\n",
       "      <th>1</th>\n",
       "      <td>South</td>\n",
       "      <td>30402587</td>\n",
       "    </tr>\n",
       "    <tr>\n",
       "      <th>2</th>\n",
       "      <td>Northeast</td>\n",
       "      <td>57667842</td>\n",
       "    </tr>\n",
       "    <tr>\n",
       "      <th>3</th>\n",
       "      <td>Center-West</td>\n",
       "      <td>16707336</td>\n",
       "    </tr>\n",
       "    <tr>\n",
       "      <th>4</th>\n",
       "      <td>North</td>\n",
       "      <td>18906962</td>\n",
       "    </tr>\n",
       "  </tbody>\n",
       "</table>\n",
       "</div>"
      ],
      "text/plain": [
       "        Region  Population\n",
       "0    Southeast    89632912\n",
       "1        South    30402587\n",
       "2    Northeast    57667842\n",
       "3  Center-West    16707336\n",
       "4        North    18906962"
      ]
     },
     "execution_count": 41,
     "metadata": {},
     "output_type": "execute_result"
    }
   ],
   "source": [
    "# expected population in each region in Brazil in 2021, according to the Demographic Census of the Brazilian Institute of\n",
    "#Geography and Statistics\n",
    "data=[['Southeast', 89632912], ['South', 30402587], ['Northeast', 57667842], ['Center-West', 16707336],['North', 18906962]]\n",
    "region=pd.DataFrame(data, columns=['Region', 'Population'])\n",
    "region"
   ]
  },
  {
   "cell_type": "code",
   "execution_count": 42,
   "id": "fb0f7789",
   "metadata": {},
   "outputs": [
    {
     "data": {
      "image/png": "[encoded data removed]",
      "text/plain": [
       "<Figure size 640x480 with 1 Axes>"
      ]
     },
     "metadata": {},
     "output_type": "display_data"
    }
   ],
   "source": [
    "fig1,ax1=plt.subplots()\n",
    "graph=ax1.bar(region['Region'],perc)\n",
    "ax1.bar_label(graph, fmt=\"%.01f\", size=10, label_type=\"edge\")\n",
    "plt.yticks([])\n",
    "plt.grid(False)\n",
    "plt.title(\"Scholarships divided into the 5 regions, in %\")\n",
    "plt.show()"
   ]
  },
  {
   "cell_type": "code",
   "execution_count": 43,
   "id": "b3b98c0a",
   "metadata": {},
   "outputs": [
    {
     "name": "stdout",
     "output_type": "stream",
     "text": [
      "Southeast 1.4384459583328053\n",
      "South 1.6168360935863781\n",
      "Northeast 0.8441775920798286\n",
      "Center-West 1.4789251859183294\n",
      "North 0.9380089725678827\n"
     ]
    }
   ],
   "source": [
    "for i in range (5):\n",
    " print(region['Region'][i],reg[i]/region['Population'][i]*100)"
   ]
  },
  {
   "cell_type": "markdown",
   "id": "f41016af",
   "metadata": {},
   "source": [
    "42% of the population live in the Southeast, 27% in the Northeast, 14.3% in the South, 8.9% in the North and 7.8% in the Center-West. Although the Northeast has the second biggest amount of people, it receives the lowest amount of scholarship per person. Southeast is the region with more people and also the one receiving more scholarships, 48% of them goes into this region. The North area receives the least, only 6.6% of scholarships."
   ]
  },
  {
   "cell_type": "code",
   "execution_count": 44,
   "id": "5ce80815",
   "metadata": {},
   "outputs": [
    {
     "data": {
      "text/plain": [
       "SP    28.281425\n",
       "MG    12.143657\n",
       "RS     7.684822\n",
       "PR     7.284099\n",
       "BA     5.877039\n",
       "RJ     5.658662\n",
       "GO     3.372004\n",
       "SC     3.290173\n",
       "PE     2.742579\n",
       "DF     2.696110\n",
       "MA     2.461129\n",
       "CE     2.430522\n",
       "PA     2.245502\n",
       "ES     1.808340\n",
       "AM     1.669194\n",
       "MT     1.556607\n",
       "MS     1.553449\n",
       "RN     1.252127\n",
       "RO     1.156627\n",
       "PB     1.054478\n",
       "PI     0.918935\n",
       "SE     0.773512\n",
       "AL     0.572668\n",
       "TO     0.535485\n",
       "AC     0.419444\n",
       "AP     0.355145\n",
       "RR     0.206267\n",
       "Name: SIGLA_UF_BENEFICIARIO_BOLSA, dtype: float64"
      ]
     },
     "execution_count": 44,
     "metadata": {},
     "output_type": "execute_result"
    }
   ],
   "source": [
    "prouni['SIGLA_UF_BENEFICIARIO_BOLSA'].value_counts()/sum(prouni['SIGLA_UF_BENEFICIARIO_BOLSA'].value_counts())*100"
   ]
  },
  {
   "cell_type": "markdown",
   "id": "89e7ca81",
   "metadata": {},
   "source": [
    "The state of São Paulo gets 28% of the scholarships, followed by Minas Gerais with 12%. Both are in the Southeast region. The next states are Rio Grande do Sul and Paraná, with 8% and 7% respectivelly, and both countries are in the South region. The 4 first states already explain 55% of the scholarships and the other states in this regions don´t get as much scholarships as this ones."
   ]
  },
  {
   "cell_type": "code",
   "execution_count": 45,
   "id": "a6d5cb37",
   "metadata": {},
   "outputs": [
    {
     "data": {
      "text/plain": [
       "sao paulo              219247\n",
       "brasilia                72583\n",
       "belo horizonte          67982\n",
       "rio de janeiro          66984\n",
       "curitiba                60692\n",
       "                        ...  \n",
       "uarini                      1\n",
       "serra nova dourada          1\n",
       "paraiso das aguas           1\n",
       "cajazeiras do piaui         1\n",
       "vila alta                   1\n",
       "Name: MUNICIPIO_BENEFICIARIO_BOLSA, Length: 5318, dtype: int64"
      ]
     },
     "execution_count": 45,
     "metadata": {},
     "output_type": "execute_result"
    }
   ],
   "source": [
    "prouni['MUNICIPIO_BENEFICIARIO_BOLSA'].value_counts()"
   ]
  },
  {
   "cell_type": "code",
   "execution_count": 46,
   "id": "6a0320d9",
   "metadata": {},
   "outputs": [
    {
     "name": "stdout",
     "output_type": "stream",
     "text": [
      "São Paulo 17.0048420835463\n",
      "Brasiília 29.375245356936162\n",
      "BH 5.272697799849689\n",
      "Rio 5.195292716088546\n",
      "Curitiba 12.346814224102856\n"
     ]
    }
   ],
   "source": [
    "print(\"São Paulo\",219247/1289321*100)\n",
    "print(\"Brasiília\",72583/247089*100)\n",
    "print(\"BH\",67982/1289321*100)\n",
    "print(\"Rio\",66984/1289321*100)\n",
    "print(\"Curitiba\",60692/491560*100)"
   ]
  },
  {
   "cell_type": "markdown",
   "id": "47458507",
   "metadata": {},
   "source": [
    "Another interesting fact here is that Brasília holds the second place per city. Located in the the Center-West, just this one city has 29% of the scholarships in the whole region. São Paulo, the city who holds most scholarships, represents 17% of its region."
   ]
  },
  {
   "cell_type": "markdown",
   "id": "04b94537",
   "metadata": {},
   "source": [
    "### Course"
   ]
  },
  {
   "cell_type": "code",
   "execution_count": 47,
   "id": "addc103a",
   "metadata": {},
   "outputs": [
    {
     "name": "stdout",
     "output_type": "stream",
     "text": [
      "There are  3645  differente courses listed\n"
     ]
    }
   ],
   "source": [
    "print('There are ', len(prouni['NOME_CURSO_BOLSA'].unique()),' differente courses listed')"
   ]
  },
  {
   "cell_type": "code",
   "execution_count": 48,
   "id": "aa06e4dc",
   "metadata": {},
   "outputs": [
    {
     "name": "stdout",
     "output_type": "stream",
     "text": [
      "There are  2265  differente courses listed\n"
     ]
    }
   ],
   "source": [
    "prouni['NOME_CURSO_BOLSA'] = prouni['NOME_CURSO_BOLSA'].str.split('-').str[0]\n",
    "prouni['NOME_CURSO_BOLSA'] = prouni['NOME_CURSO_BOLSA'].str.split('(').str[0]\n",
    "print('There are ', len(prouni['NOME_CURSO_BOLSA'].unique()),' differente courses listed')"
   ]
  },
  {
   "cell_type": "code",
   "execution_count": 49,
   "id": "c694f6a7",
   "metadata": {},
   "outputs": [
    {
     "data": {
      "text/plain": [
       "Administracao                 274695\n",
       "Direito                       225574\n",
       "Pedagogia                     200942\n",
       "Ciencias Contabeis            105991\n",
       "Enfermagem                     99764\n",
       "Engenharia Civil               72551\n",
       "Psicologia                     69730\n",
       "Educacao Fisica                61579\n",
       "Gestao De Recursos Humanos     57878\n",
       "Fisioterapia                   56671\n",
       "AdministraAAo                  53693\n",
       "Letras                         45632\n",
       "Servico Social                 41950\n",
       "Arquitetura E Urbanismo        39980\n",
       "Engenharia De Producao         34351\n",
       "CiAancias ContAbeis            32724\n",
       "Logistica                      32295\n",
       "Marketing                      30570\n",
       "Farmacia                       30370\n",
       "Processos Gerenciais           29665\n",
       "Name: NOME_CURSO_BOLSA, dtype: int64"
      ]
     },
     "execution_count": 49,
     "metadata": {},
     "output_type": "execute_result"
    }
   ],
   "source": [
    "top_courses=prouni['NOME_CURSO_BOLSA'].value_counts()\n",
    "top_courses[:20]"
   ]
  },
  {
   "cell_type": "code",
   "execution_count": 50,
   "id": "e0190dcc",
   "metadata": {},
   "outputs": [],
   "source": [
    "# function to replace rows in the provided column of the provided dataframe\n",
    "# that match the provided string above the provided ratio with the provided string\n",
    "def replace_matches_in_column(df, column, string_to_match, min_ratio):\n",
    "    # get a list of unique strings\n",
    "    strings = df[column].unique()\n",
    "    \n",
    "    # get the top 10 closest matches to our input string\n",
    "    matches = fuzzywuzzy.process.extract(string_to_match, strings, \n",
    "                                         limit=30, scorer=fuzzywuzzy.fuzz.token_sort_ratio)\n",
    "\n",
    "    # only get matches with a ratio > 90\n",
    "    close_matches = [matches[0] for matches in matches if matches[1] >= min_ratio]\n",
    "\n",
    "    # get the rows of all the close matches in our dataframe\n",
    "    rows_with_matches = df[column].isin(close_matches)\n",
    "\n",
    "    # replace all rows with close matches with the input matches \n",
    "    df.loc[rows_with_matches, column] = string_to_match\n",
    "    \n",
    "    # let us know the function's done\n",
    "    print(\"All done!\")"
   ]
  },
  {
   "cell_type": "code",
   "execution_count": 51,
   "id": "a4a0a34d",
   "metadata": {},
   "outputs": [],
   "source": [
    "courses=prouni['NOME_CURSO_BOLSA'].unique()\n",
    "#courses"
   ]
  },
  {
   "cell_type": "code",
   "execution_count": 52,
   "id": "506162f8",
   "metadata": {},
   "outputs": [
    {
     "data": {
      "text/plain": [
       "[('Administracao', 100),\n",
       " ('Administracao ', 100),\n",
       " ('AdministraAAo', 92),\n",
       " ('AdministraAAo ', 92),\n",
       " ('AdministraAao', 92),\n",
       " ('AdminstraAAo', 88),\n",
       " ('AdmistraAAo', 83),\n",
       " ('Administracao Rural', 81),\n",
       " ('AdministraAAo Ead', 80),\n",
       " ('Administracao Publica', 76),\n",
       " ('Mineracao', 73),\n",
       " ('Administracao Ambiental', 72),\n",
       " ('Gestao Administrativa', 71),\n",
       " ('Administracao Hospitalar', 70),\n",
       " ('Administracao Em Turismo', 70),\n",
       " ('AdministraAAo PAoblica', 69),\n",
       " ('Administracao De Empresas', 68),\n",
       " ('Administracao De Empresas ', 68),\n",
       " ('Administracao Legislativa', 68),\n",
       " ('Administracao Em Marketing', 67),\n",
       " ('AdministraAAo De Empresas ', 63),\n",
       " ('AdministraAAo De Empresas', 63),\n",
       " ('AdministraAAo A DistAncia', 63),\n",
       " ('Gestao Em Administracao Publica', 59),\n",
       " ('Nutricao', 57),\n",
       " ('Administracao De Recursos Humanos', 57),\n",
       " ('Nutricao ', 57),\n",
       " ('Automobilistica', 57),\n",
       " ('NutriAAo', 57),\n",
       " ('NutriAAo ', 57)]"
      ]
     },
     "execution_count": 52,
     "metadata": {},
     "output_type": "execute_result"
    }
   ],
   "source": [
    "matches = fuzzywuzzy.process.extract('Administracao', courses, limit=30, scorer=fuzzywuzzy.fuzz.token_sort_ratio)\n",
    "matches"
   ]
  },
  {
   "cell_type": "code",
   "execution_count": 53,
   "id": "5b8ed18f",
   "metadata": {},
   "outputs": [
    {
     "name": "stdout",
     "output_type": "stream",
     "text": [
      "All done!\n"
     ]
    }
   ],
   "source": [
    "# use the function we just wrote to replace close matches \n",
    "replace_matches_in_column(df=prouni, column='NOME_CURSO_BOLSA', string_to_match=\"Administracao\", min_ratio = 83)"
   ]
  },
  {
   "cell_type": "code",
   "execution_count": 54,
   "id": "8cf2c62a",
   "metadata": {},
   "outputs": [
    {
     "data": {
      "text/plain": [
       "[('Direito', 100),\n",
       " ('Direito ', 100),\n",
       " ('Direito  ', 100),\n",
       " ('Direrito  ', 93),\n",
       " ('Dierito', 86),\n",
       " ('Administracao', 50),\n",
       " ('Administracao ', 50),\n",
       " ('Alimentos', 50),\n",
       " ('AdministraAAo', 50),\n",
       " ('AdministraAAo ', 50)]"
      ]
     },
     "execution_count": 54,
     "metadata": {},
     "output_type": "execute_result"
    }
   ],
   "source": [
    "matches = fuzzywuzzy.process.extract(\"Direito\", courses, limit=10, scorer=fuzzywuzzy.fuzz.token_sort_ratio)\n",
    "matches"
   ]
  },
  {
   "cell_type": "code",
   "execution_count": 55,
   "id": "447ec8c6",
   "metadata": {},
   "outputs": [
    {
     "name": "stdout",
     "output_type": "stream",
     "text": [
      "All done!\n"
     ]
    }
   ],
   "source": [
    "replace_matches_in_column(df=prouni, column='NOME_CURSO_BOLSA', string_to_match=\"Direito\", min_ratio = 83)"
   ]
  },
  {
   "cell_type": "code",
   "execution_count": 56,
   "id": "049d2a2d",
   "metadata": {},
   "outputs": [
    {
     "data": {
      "text/plain": [
       "[('Pedagogia', 100),\n",
       " ('Pedagogia ', 100),\n",
       " ('Pedagogia  ', 100),\n",
       " ('Pegagogia ', 89),\n",
       " ('Padagogia', 89),\n",
       " ('Pegagogia', 89),\n",
       " ('Pedagogia Ed', 86),\n",
       " ('Psicopedagogia', 78),\n",
       " ('Podologia', 67),\n",
       " ('Curso De Pedagogia', 67)]"
      ]
     },
     "execution_count": 56,
     "metadata": {},
     "output_type": "execute_result"
    }
   ],
   "source": [
    "matches = fuzzywuzzy.process.extract(\"Pedagogia\", courses, limit=10, scorer=fuzzywuzzy.fuzz.token_sort_ratio)\n",
    "matches"
   ]
  },
  {
   "cell_type": "code",
   "execution_count": 57,
   "id": "571d4f1e",
   "metadata": {},
   "outputs": [
    {
     "name": "stdout",
     "output_type": "stream",
     "text": [
      "All done!\n"
     ]
    }
   ],
   "source": [
    "replace_matches_in_column(df=prouni, column='NOME_CURSO_BOLSA', string_to_match=\"Pedagogia\", min_ratio = 77)"
   ]
  },
  {
   "cell_type": "code",
   "execution_count": 58,
   "id": "08f63ab1",
   "metadata": {},
   "outputs": [
    {
     "data": {
      "text/plain": [
       "[('Ciencias Contabeis', 100),\n",
       " ('Ciencias Contabeis ', 100),\n",
       " ('Ciencias ContAbeis', 100),\n",
       " ('CiAancias ContAbeis', 92),\n",
       " ('CiAancias ContAbeis ', 92),\n",
       " ('CiAancias Contabeis', 92),\n",
       " ('CiAacias ContAbeis', 89),\n",
       " ('CiAancias ContabAis ', 86),\n",
       " ('CiAancias ContAbeis Ead', 83),\n",
       " ('Ciencias Naturais ', 80),\n",
       " ('Ciencias Economicas', 76),\n",
       " ('Ciencias Sociais', 76),\n",
       " ('Ciencias Economicas ', 76),\n",
       " ('Ciencias Politicas', 72),\n",
       " ('CiAancias EconA micas', 72),\n",
       " ('CiAancias EconA micas ', 72),\n",
       " ('Ciencias Equinas', 71),\n",
       " ('CiAancias ContAbeis E Tributos', 71),\n",
       " ('Ciencias Teologicas', 70),\n",
       " ('Ciencia Economica', 69),\n",
       " ('CiAancias Sociais', 69),\n",
       " ('CiAancias ContAbeis A DistAncia', 69),\n",
       " ('CiAancias Sociais ', 69),\n",
       " ('Ciencias Estatisticas', 67),\n",
       " ('Ciencia Politica', 65),\n",
       " ('Ciencias Da Computacao', 65),\n",
       " ('Ciencias Farmaceuticas', 65),\n",
       " ('CiAancia EconA mica', 65),\n",
       " ('CiAancias PolAticas', 65),\n",
       " ('Ciencias Da Religiao', 63)]"
      ]
     },
     "execution_count": 58,
     "metadata": {},
     "output_type": "execute_result"
    }
   ],
   "source": [
    "matches = fuzzywuzzy.process.extract(\"Ciencias Contabeis\", courses, limit=30, scorer=fuzzywuzzy.fuzz.token_sort_ratio)\n",
    "matches"
   ]
  },
  {
   "cell_type": "code",
   "execution_count": 59,
   "id": "7a17a3bb",
   "metadata": {},
   "outputs": [
    {
     "name": "stdout",
     "output_type": "stream",
     "text": [
      "All done!\n"
     ]
    }
   ],
   "source": [
    "replace_matches_in_column(df=prouni, column='NOME_CURSO_BOLSA', string_to_match=\"Ciencias Contabeis\", min_ratio = 82)"
   ]
  },
  {
   "cell_type": "code",
   "execution_count": 60,
   "id": "2b4e1237",
   "metadata": {},
   "outputs": [
    {
     "data": {
      "text/plain": [
       "[('Enfermagem', 100),\n",
       " ('Enfermagem ', 100),\n",
       " ('Enfernagem', 90),\n",
       " ('Enfermagem E Obstetricia', 59),\n",
       " ('Enfermagem E ObstetrAcia', 59),\n",
       " ('Sistema De Informacao', 52),\n",
       " ('Sistema De InformaAAo', 52),\n",
       " ('Sistemas De Informacao', 50),\n",
       " ('Engenharia', 50),\n",
       " ('Sistemas De Informacao ', 50)]"
      ]
     },
     "execution_count": 60,
     "metadata": {},
     "output_type": "execute_result"
    }
   ],
   "source": [
    "matches = fuzzywuzzy.process.extract(\"Enfermagem\", courses, limit=10, scorer=fuzzywuzzy.fuzz.token_sort_ratio)\n",
    "matches"
   ]
  },
  {
   "cell_type": "code",
   "execution_count": 61,
   "id": "f10888a9",
   "metadata": {},
   "outputs": [
    {
     "name": "stdout",
     "output_type": "stream",
     "text": [
      "All done!\n"
     ]
    }
   ],
   "source": [
    "replace_matches_in_column(df=prouni, column='NOME_CURSO_BOLSA', string_to_match=\"Enfermagem\", min_ratio = 58)"
   ]
  },
  {
   "cell_type": "code",
   "execution_count": 62,
   "id": "6227e90d",
   "metadata": {},
   "outputs": [
    {
     "data": {
      "text/plain": [
       "[('Engenharia Civil', 100),\n",
       " ('Engenharia Civil ', 100),\n",
       " ('Engenharia CAvil', 94),\n",
       " ('Engenharia', 77),\n",
       " ('Engenharia ', 77),\n",
       " ('Engenharia  ', 77),\n",
       " ('Engenharia Agricola', 74),\n",
       " ('Engenharia AgrAcola', 74),\n",
       " ('Engenharia Civil E Ambiental', 73),\n",
       " ('Engenharia De ProduAAo Civil', 73)]"
      ]
     },
     "execution_count": 62,
     "metadata": {},
     "output_type": "execute_result"
    }
   ],
   "source": [
    "matches = fuzzywuzzy.process.extract(\"Engenharia Civil\", courses, limit=10, scorer=fuzzywuzzy.fuzz.token_sort_ratio)\n",
    "matches"
   ]
  },
  {
   "cell_type": "code",
   "execution_count": 63,
   "id": "88a38081",
   "metadata": {},
   "outputs": [
    {
     "name": "stdout",
     "output_type": "stream",
     "text": [
      "All done!\n"
     ]
    }
   ],
   "source": [
    "replace_matches_in_column(df=prouni, column='NOME_CURSO_BOLSA', string_to_match=\"Engenharia Civil\", min_ratio = 90)"
   ]
  },
  {
   "cell_type": "code",
   "execution_count": 64,
   "id": "0d560af8",
   "metadata": {},
   "outputs": [
    {
     "data": {
      "text/plain": [
       "[('Psicologia', 100),\n",
       " ('Psicologia ', 100),\n",
       " ('Ontopsicologia', 83),\n",
       " ('Sociologia', 80),\n",
       " ('Ecologia', 78),\n",
       " ('Biologia', 78),\n",
       " ('Biologia ', 78),\n",
       " ('Psicopedagogia', 75),\n",
       " ('Podologia', 74),\n",
       " ('Radiologia', 70)]"
      ]
     },
     "execution_count": 64,
     "metadata": {},
     "output_type": "execute_result"
    }
   ],
   "source": [
    "matches = fuzzywuzzy.process.extract(\"Psicologia\", courses, limit=10, scorer=fuzzywuzzy.fuzz.token_sort_ratio)\n",
    "matches"
   ]
  },
  {
   "cell_type": "code",
   "execution_count": 65,
   "id": "b11d7685",
   "metadata": {},
   "outputs": [
    {
     "name": "stdout",
     "output_type": "stream",
     "text": [
      "All done!\n"
     ]
    }
   ],
   "source": [
    "replace_matches_in_column(df=prouni, column='NOME_CURSO_BOLSA', string_to_match=\"Psicologia\", min_ratio = 99)"
   ]
  },
  {
   "cell_type": "code",
   "execution_count": 66,
   "id": "a0f4c9bc",
   "metadata": {},
   "outputs": [
    {
     "data": {
      "text/plain": [
       "[('Educacao Fisica', 100),\n",
       " ('Educacao Fisica ', 100),\n",
       " ('EducaAAo Fisica', 93),\n",
       " ('EducaAao FAsica', 87),\n",
       " ('EducaAAo FAsica', 87),\n",
       " ('EducaAAo FAsica ', 87),\n",
       " ('EducaAAo  FAsica', 87),\n",
       " ('EducaAAo FAsica  ', 87),\n",
       " ('EducaAAo FisAca', 87),\n",
       " ('EducaAAo FAsica/B ', 81),\n",
       " ('EducaAAo FAsica/L ', 81),\n",
       " ('Educacao Fisica E Desportos ', 71),\n",
       " ('EducaAAo Especial', 69),\n",
       " ('Bacharelado Em Educacao Fisica', 67),\n",
       " ('Educador Social', 67),\n",
       " ('EducaAAo FAsica E Esporte', 65),\n",
       " ('Comunicacao Juridica', 63),\n",
       " ('EducaAAo FAsica E Esportes', 63),\n",
       " ('Comunicacao Social', 61),\n",
       " ('Comunicacao Social ', 61)]"
      ]
     },
     "execution_count": 66,
     "metadata": {},
     "output_type": "execute_result"
    }
   ],
   "source": [
    "matches = fuzzywuzzy.process.extract(\"Educacao Fisica\", courses, limit=20, scorer=fuzzywuzzy.fuzz.token_sort_ratio)\n",
    "matches"
   ]
  },
  {
   "cell_type": "code",
   "execution_count": 67,
   "id": "e5017ad7",
   "metadata": {},
   "outputs": [
    {
     "name": "stdout",
     "output_type": "stream",
     "text": [
      "All done!\n"
     ]
    }
   ],
   "source": [
    "replace_matches_in_column(df=prouni, column='NOME_CURSO_BOLSA', string_to_match=\"Educacao Fisica\", min_ratio = 70)"
   ]
  },
  {
   "cell_type": "code",
   "execution_count": 68,
   "id": "8c5f3192",
   "metadata": {},
   "outputs": [
    {
     "data": {
      "text/plain": [
       "[('Gestao De Recursos Humanos', 100),\n",
       " ('GestAo De Recursos Humanos', 100),\n",
       " ('GestAo De Recursos Humanos ', 100),\n",
       " ('Gestao Em Recursos Humanos', 96),\n",
       " ('Gestao De Relacoes Humanas', 85),\n",
       " ('Gestao De Recursos Hidricos', 83),\n",
       " ('Recursos Humanos Estrategicos', 80),\n",
       " ('Desenvolvimento De Recursos Humanos', 79),\n",
       " ('Tecnologia Em GestAo De Recursos Humanos', 79),\n",
       " ('Gestao E Planejamento De Recursos Humanos', 78)]"
      ]
     },
     "execution_count": 68,
     "metadata": {},
     "output_type": "execute_result"
    }
   ],
   "source": [
    "matches = fuzzywuzzy.process.extract(\"Gestao De Recursos Humanos\", courses, limit=10, scorer=fuzzywuzzy.fuzz.token_sort_ratio)\n",
    "matches"
   ]
  },
  {
   "cell_type": "code",
   "execution_count": 69,
   "id": "13ffb6e0",
   "metadata": {},
   "outputs": [
    {
     "name": "stdout",
     "output_type": "stream",
     "text": [
      "All done!\n"
     ]
    }
   ],
   "source": [
    "replace_matches_in_column(df=prouni, column='NOME_CURSO_BOLSA', string_to_match=\"Gestao de Recursos Humanos\", min_ratio = 82)"
   ]
  },
  {
   "cell_type": "code",
   "execution_count": 70,
   "id": "7d2656d3",
   "metadata": {},
   "outputs": [
    {
     "data": {
      "text/plain": [
       "[('Fisioterapia', 100),\n",
       " ('Fisioterapia ', 100),\n",
       " ('Musicoterapia', 80),\n",
       " ('Fotografia', 64),\n",
       " ('Arteterapia', 61),\n",
       " ('Historia', 60),\n",
       " ('Historia ', 60),\n",
       " ('Terapia Ocupacional', 58),\n",
       " ('Matematica E Fisica', 58),\n",
       " ('Filosofia', 57)]"
      ]
     },
     "execution_count": 70,
     "metadata": {},
     "output_type": "execute_result"
    }
   ],
   "source": [
    "matches = fuzzywuzzy.process.extract(\"Fisioterapia\", courses, limit=10, scorer=fuzzywuzzy.fuzz.token_sort_ratio)\n",
    "matches"
   ]
  },
  {
   "cell_type": "code",
   "execution_count": 71,
   "id": "064e30fd",
   "metadata": {},
   "outputs": [
    {
     "name": "stdout",
     "output_type": "stream",
     "text": [
      "All done!\n"
     ]
    }
   ],
   "source": [
    "replace_matches_in_column(df=prouni, column='NOME_CURSO_BOLSA', string_to_match=\"Fisioterapia\", min_ratio = 90)"
   ]
  },
  {
   "cell_type": "code",
   "execution_count": 72,
   "id": "15f1bb99",
   "metadata": {},
   "outputs": [
    {
     "data": {
      "text/plain": [
       "[('Letras ', 100),\n",
       " ('Letras', 100),\n",
       " ('Letras Ead', 75),\n",
       " ('Lic. Em Letras ', 63),\n",
       " ('Eletronica', 62),\n",
       " ('Letras InglAas', 60),\n",
       " ('Materiais', 53),\n",
       " ('Polimeros', 53),\n",
       " ('Alimentos', 53),\n",
       " ('PolAmeros', 53)]"
      ]
     },
     "execution_count": 72,
     "metadata": {},
     "output_type": "execute_result"
    }
   ],
   "source": [
    "matches = fuzzywuzzy.process.extract(\"Letras\", courses, limit=10, scorer=fuzzywuzzy.fuzz.token_sort_ratio)\n",
    "matches"
   ]
  },
  {
   "cell_type": "code",
   "execution_count": 73,
   "id": "5151e2b2",
   "metadata": {},
   "outputs": [
    {
     "name": "stdout",
     "output_type": "stream",
     "text": [
      "All done!\n"
     ]
    }
   ],
   "source": [
    "replace_matches_in_column(df=prouni, column='NOME_CURSO_BOLSA', string_to_match=\"Letras\", min_ratio = 64)"
   ]
  },
  {
   "cell_type": "code",
   "execution_count": 74,
   "id": "b4255b99",
   "metadata": {},
   "outputs": [
    {
     "data": {
      "text/plain": [
       "[('Servico Social', 100),\n",
       " ('ServiAo Social', 93),\n",
       " ('ServiAo Social ', 93),\n",
       " ('Ecologia Social', 69),\n",
       " ('Educador Social', 69),\n",
       " ('ServiAo Social E Cidadania', 65),\n",
       " ('Comunicacao Social', 62),\n",
       " ('Comunicacao Social ', 62),\n",
       " ('Comunicacao Social  ', 62),\n",
       " ('ComunicaAAo Social', 62),\n",
       " ('ComunicaAAo Social ', 62),\n",
       " ('ComunicaAao Social', 62),\n",
       " ('ComunicacAo Social', 62),\n",
       " ('ComunicaAAo Social  ', 62),\n",
       " ('Aviacao Civil', 59),\n",
       " ('Psicologia', 58),\n",
       " ('Psicologia ', 58),\n",
       " ('EducaAAo Especial', 58),\n",
       " ('Sistemas Eletricos', 56),\n",
       " ('Sistemas ElAtricos', 56)]"
      ]
     },
     "execution_count": 74,
     "metadata": {},
     "output_type": "execute_result"
    }
   ],
   "source": [
    "matches = fuzzywuzzy.process.extract(\"Servico Social \", courses, limit=20, scorer=fuzzywuzzy.fuzz.token_sort_ratio)\n",
    "matches"
   ]
  },
  {
   "cell_type": "code",
   "execution_count": 75,
   "id": "0491d722",
   "metadata": {},
   "outputs": [
    {
     "name": "stdout",
     "output_type": "stream",
     "text": [
      "All done!\n"
     ]
    }
   ],
   "source": [
    "replace_matches_in_column(df=prouni, column='NOME_CURSO_BOLSA', string_to_match=\"Servico Social\", min_ratio = 90)"
   ]
  },
  {
   "cell_type": "code",
   "execution_count": 76,
   "id": "4bda45e4",
   "metadata": {},
   "outputs": [
    {
     "data": {
      "text/plain": [
       "[('Arquitetura E Urbanismo', 100),\n",
       " ('Arquitetura E Urbanismo ', 100),\n",
       " ('Arquitetura  E Urbanismo', 100),\n",
       " ('Arquitetura', 65),\n",
       " ('Turismo Cultural', 62),\n",
       " ('Administracao Em Turismo', 60),\n",
       " ('Arteterapia', 53),\n",
       " ('Turismo E Hotelaria', 52),\n",
       " ('Artes E MAdias Digitais', 52),\n",
       " ('Transporte Terrestre', 51)]"
      ]
     },
     "execution_count": 76,
     "metadata": {},
     "output_type": "execute_result"
    }
   ],
   "source": [
    "matches = fuzzywuzzy.process.extract(\"Arquitetura E Urbanismo\", courses, limit=10, scorer=fuzzywuzzy.fuzz.token_sort_ratio)\n",
    "matches"
   ]
  },
  {
   "cell_type": "code",
   "execution_count": 77,
   "id": "d93bdaec",
   "metadata": {},
   "outputs": [
    {
     "name": "stdout",
     "output_type": "stream",
     "text": [
      "All done!\n"
     ]
    }
   ],
   "source": [
    "replace_matches_in_column(df=prouni, column='NOME_CURSO_BOLSA', string_to_match=\"Arquitetura E Urbanismo\", min_ratio = 64)"
   ]
  },
  {
   "cell_type": "code",
   "execution_count": 78,
   "id": "8a95cefc",
   "metadata": {},
   "outputs": [
    {
     "data": {
      "text/plain": [
       "[('Engenharia De Producao', 100),\n",
       " ('Engenharia De Producao ', 100),\n",
       " ('Engenharia De ProduAAo', 95),\n",
       " ('Engenharia De ProduAAo ', 95),\n",
       " ('Engenharia Da ProduAAo', 91),\n",
       " ('Engenharia De Producao Quimica', 85),\n",
       " ('Engenharia De ProduAAo Civil', 84),\n",
       " ('Engenharia De Producao Mecanica', 83),\n",
       " ('Engenharia De Pesca', 83),\n",
       " ('Engenharia De Petroleo', 82),\n",
       " ('Engenharia De ProduAAo QuAmica', 81),\n",
       " ('Engenharia De PetrA3leo', 80),\n",
       " ('Engenharia De PetrA3leo ', 80),\n",
       " ('Engenharia Da ProduAAo Civil', 80),\n",
       " ('Engenharia De Producao E Qualidade', 79),\n",
       " ('Engenharia De ProduAAo MecAnica', 79),\n",
       " ('Engenharia De ProduAAo MecAnica ', 79),\n",
       " ('Engenharia De ProduAAo ElAtrica', 79),\n",
       " ('Producao De Graos', 77),\n",
       " ('Engenharia De Plasticos', 76),\n",
       " ('Engenharia De Seguranca', 76),\n",
       " ('Engenharia De Producao Agroindustrial', 75),\n",
       " ('Gestao De Producao', 75),\n",
       " ('Engenharia Da ProduAAo E Qualidade', 75),\n",
       " ('Engenharia De ProduAAo E Qualidade', 75),\n",
       " (' Engenharia Da ProduAAo E Qualidade', 75),\n",
       " (' Engenharia Em Processos De ProduAAo', 74),\n",
       " ('Engenharia Em Processos De ProduAAo', 74),\n",
       " ('Engenharia De Telecomunicacoes', 73),\n",
       " ('Engenharia De Minas', 73)]"
      ]
     },
     "execution_count": 78,
     "metadata": {},
     "output_type": "execute_result"
    }
   ],
   "source": [
    "matches = fuzzywuzzy.process.extract(\"Engenharia De Producao\", courses, limit=30, scorer=fuzzywuzzy.fuzz.token_sort_ratio)\n",
    "matches"
   ]
  },
  {
   "cell_type": "code",
   "execution_count": 79,
   "id": "f74c76e5",
   "metadata": {},
   "outputs": [
    {
     "name": "stdout",
     "output_type": "stream",
     "text": [
      "All done!\n"
     ]
    }
   ],
   "source": [
    "replace_matches_in_column(df=prouni, column='NOME_CURSO_BOLSA', string_to_match=\"Engenharia De Producao\", min_ratio = 90)"
   ]
  },
  {
   "cell_type": "code",
   "execution_count": 80,
   "id": "fc8f7ba1",
   "metadata": {},
   "outputs": [],
   "source": [
    "top_courses=prouni['NOME_CURSO_BOLSA'].value_counts()"
   ]
  },
  {
   "cell_type": "code",
   "execution_count": 81,
   "id": "e7c0c0f3",
   "metadata": {},
   "outputs": [
    {
     "data": {
      "image/png": "[encoded data removed]",
      "text/plain": [
       "<Figure size 640x480 with 1 Axes>"
      ]
     },
     "metadata": {},
     "output_type": "display_data"
    }
   ],
   "source": [
    "fig1,ax=plt.subplots()\n",
    "graf = ax.bar(top_courses.index[:5],top_courses[:5]) \n",
    "ax.bar_label(graf, fmt=\"%.01f\", size=10, label_type=\"edge\")\n",
    "plt.yticks([])\n",
    "plt.grid(False)\n",
    "plt.show()"
   ]
  },
  {
   "cell_type": "code",
   "execution_count": 82,
   "id": "5e47713c",
   "metadata": {},
   "outputs": [
    {
     "data": {
      "text/plain": [
       "2204"
      ]
     },
     "execution_count": 82,
     "metadata": {},
     "output_type": "execute_result"
    }
   ],
   "source": [
    "top_sum2=top_courses.cumsum()/top_courses.sum()*100\n",
    "len(top_courses)"
   ]
  },
  {
   "cell_type": "code",
   "execution_count": 83,
   "id": "d34f4baf",
   "metadata": {},
   "outputs": [
    {
     "name": "stderr",
     "output_type": "stream",
     "text": [
      "C:\\Users\\Katita\\AppData\\Local\\Temp\\ipykernel_6488\\2655989054.py:6: UserWarning: FixedFormatter should only be used together with FixedLocator\n",
      "  ax.set_xticklabels(top_courses.index[:n], rotation=45, ha='right', size=15)\n"
     ]
    },
    {
     "data": {
      "image/png": "[encoded data removed]",
      "text/plain": [
       "<Figure size 1600x600 with 2 Axes>"
      ]
     },
     "metadata": {},
     "output_type": "display_data"
    }
   ],
   "source": [
    "n=20\n",
    "fig, ax = plt.subplots(figsize=(16,6))\n",
    "ax.bar(top_courses.index[:n],top_courses[:n], color=\"C0\")\n",
    "ax2 = ax.twinx()\n",
    "ax2.plot(top_courses.index[:n],top_sum2[:n], color=\"C1\", marker=\"D\", ms=9)\n",
    "ax.set_xticklabels(top_courses.index[:n], rotation=45, ha='right', size=15)\n",
    "ax.set_title('Pareto chart of the main courses', size=20)\n",
    "ax.set_ylabel('Sum', color=\"C0\", size=15)\n",
    "ax2.set_ylabel('Percentage [%]', color=\"C1\", size=15)\n",
    "#ax2.yaxis.set_major_formatter(PercentFormatter())\n",
    "\n",
    "ax.tick_params(axis=\"y\", colors=\"C0\", size=15)\n",
    "ax2.tick_params(axis=\"y\", colors=\"C1\", size=15)\n",
    "sns.set_style(\"white\")\n",
    "plt.grid(False)\n",
    "plt.show()"
   ]
  },
  {
   "cell_type": "code",
   "execution_count": 84,
   "id": "ad47948f",
   "metadata": {},
   "outputs": [
    {
     "data": {
      "text/plain": [
       "74.23489496763167"
      ]
     },
     "execution_count": 84,
     "metadata": {},
     "output_type": "execute_result"
    }
   ],
   "source": [
    "top_sum2[30]"
   ]
  },
  {
   "cell_type": "markdown",
   "id": "f729acb1",
   "metadata": {},
   "source": [
    "The courses most looked for are Management, Law, Teaching, Accounting and Nursing. The exactly amount is hard to tell, because in each school they use a different name for the same course and therefore there are 2204 different courses listed, after a deep cleaning in the data. Still, 30 of the most looked courses already represent more than 74% of all courses listed."
   ]
  },
  {
   "cell_type": "markdown",
   "id": "af578d2c",
   "metadata": {},
   "source": [
    "### Profile of the student attending the top course"
   ]
  },
  {
   "cell_type": "code",
   "execution_count": 85,
   "id": "d645553d",
   "metadata": {},
   "outputs": [
    {
     "data": {
      "text/html": [
       "<div>\n",
       "<style scoped>\n",
       "    .dataframe tbody tr th:only-of-type {\n",
       "        vertical-align: middle;\n",
       "    }\n",
       "\n",
       "    .dataframe tbody tr th {\n",
       "        vertical-align: top;\n",
       "    }\n",
       "\n",
       "    .dataframe thead th {\n",
       "        text-align: right;\n",
       "    }\n",
       "</style>\n",
       "<table border=\"1\" class=\"dataframe\">\n",
       "  <thead>\n",
       "    <tr style=\"text-align: right;\">\n",
       "      <th></th>\n",
       "      <th>ANO_CONCESSAO_BOLSA</th>\n",
       "      <th>CODIGO_EMEC_IES_BOLSA</th>\n",
       "      <th>NOME_IES_BOLSA</th>\n",
       "      <th>TIPO_BOLSA</th>\n",
       "      <th>MODALIDADE_ENSINO_BOLSA</th>\n",
       "      <th>NOME_CURSO_BOLSA</th>\n",
       "      <th>NOME_TURNO_CURSO_BOLSA</th>\n",
       "      <th>CPF_BENEFICIARIO_BOLSA</th>\n",
       "      <th>SEXO_BENEFICIARIO_BOLSA</th>\n",
       "      <th>RACA_BENEFICIARIO_BOLSA</th>\n",
       "      <th>DT_NASCIMENTO_BENEFICIARIO</th>\n",
       "      <th>BENEFICIARIO_DEFICIENTE_FISICO</th>\n",
       "      <th>REGIAO_BENEFICIARIO_BOLSA</th>\n",
       "      <th>SIGLA_UF_BENEFICIARIO_BOLSA</th>\n",
       "      <th>MUNICIPIO_BENEFICIARIO_BOLSA</th>\n",
       "      <th>birth_year</th>\n",
       "      <th>age</th>\n",
       "    </tr>\n",
       "  </thead>\n",
       "  <tbody>\n",
       "    <tr>\n",
       "      <th>0</th>\n",
       "      <td>2005</td>\n",
       "      <td>10</td>\n",
       "      <td>PONTIFICIA UNIVERSIDADE CATOLICA DO PARANA</td>\n",
       "      <td>BOLSA INTEGRAL</td>\n",
       "      <td>PRESENCIAL</td>\n",
       "      <td>Administracao</td>\n",
       "      <td>Noturno</td>\n",
       "      <td>***209879**</td>\n",
       "      <td>M</td>\n",
       "      <td>Parda</td>\n",
       "      <td>1985-02-13</td>\n",
       "      <td>nao</td>\n",
       "      <td>SUL</td>\n",
       "      <td>PR</td>\n",
       "      <td>sao jose dos pinhais</td>\n",
       "      <td>1985</td>\n",
       "      <td>20</td>\n",
       "    </tr>\n",
       "    <tr>\n",
       "      <th>1</th>\n",
       "      <td>2005</td>\n",
       "      <td>10</td>\n",
       "      <td>PONTIFICIA UNIVERSIDADE CATOLICA DO PARANA</td>\n",
       "      <td>BOLSA INTEGRAL</td>\n",
       "      <td>PRESENCIAL</td>\n",
       "      <td>Administracao</td>\n",
       "      <td>Noturno</td>\n",
       "      <td>***083259**</td>\n",
       "      <td>F</td>\n",
       "      <td>Branca</td>\n",
       "      <td>1987-07-20</td>\n",
       "      <td>nao</td>\n",
       "      <td>SUL</td>\n",
       "      <td>PR</td>\n",
       "      <td>sao jose dos pinhais</td>\n",
       "      <td>1987</td>\n",
       "      <td>18</td>\n",
       "    </tr>\n",
       "    <tr>\n",
       "      <th>2</th>\n",
       "      <td>2005</td>\n",
       "      <td>10</td>\n",
       "      <td>PONTIFICIA UNIVERSIDADE CATOLICA DO PARANA</td>\n",
       "      <td>BOLSA INTEGRAL</td>\n",
       "      <td>PRESENCIAL</td>\n",
       "      <td>Administracao</td>\n",
       "      <td>Noturno</td>\n",
       "      <td>***529669**</td>\n",
       "      <td>F</td>\n",
       "      <td>Amarela</td>\n",
       "      <td>1987-09-06</td>\n",
       "      <td>nao</td>\n",
       "      <td>SUL</td>\n",
       "      <td>PR</td>\n",
       "      <td>sao jose dos pinhais</td>\n",
       "      <td>1987</td>\n",
       "      <td>18</td>\n",
       "    </tr>\n",
       "    <tr>\n",
       "      <th>3</th>\n",
       "      <td>2005</td>\n",
       "      <td>10</td>\n",
       "      <td>PONTIFICIA UNIVERSIDADE CATOLICA DO PARANA</td>\n",
       "      <td>BOLSA INTEGRAL</td>\n",
       "      <td>PRESENCIAL</td>\n",
       "      <td>Administracao</td>\n",
       "      <td>Noturno</td>\n",
       "      <td>***869569**</td>\n",
       "      <td>F</td>\n",
       "      <td>Parda</td>\n",
       "      <td>1987-12-27</td>\n",
       "      <td>nao</td>\n",
       "      <td>SUL</td>\n",
       "      <td>PR</td>\n",
       "      <td>sao jose dos pinhais</td>\n",
       "      <td>1987</td>\n",
       "      <td>18</td>\n",
       "    </tr>\n",
       "    <tr>\n",
       "      <th>4</th>\n",
       "      <td>2005</td>\n",
       "      <td>10</td>\n",
       "      <td>PONTIFICIA UNIVERSIDADE CATOLICA DO PARANA</td>\n",
       "      <td>BOLSA INTEGRAL</td>\n",
       "      <td>PRESENCIAL</td>\n",
       "      <td>Administracao</td>\n",
       "      <td>Noturno</td>\n",
       "      <td>***866769**</td>\n",
       "      <td>M</td>\n",
       "      <td>Branca</td>\n",
       "      <td>1987-04-04</td>\n",
       "      <td>nao</td>\n",
       "      <td>SUL</td>\n",
       "      <td>PR</td>\n",
       "      <td>sao jose dos pinhais</td>\n",
       "      <td>1987</td>\n",
       "      <td>18</td>\n",
       "    </tr>\n",
       "  </tbody>\n",
       "</table>\n",
       "</div>"
      ],
      "text/plain": [
       "   ANO_CONCESSAO_BOLSA  CODIGO_EMEC_IES_BOLSA  \\\n",
       "0                 2005                     10   \n",
       "1                 2005                     10   \n",
       "2                 2005                     10   \n",
       "3                 2005                     10   \n",
       "4                 2005                     10   \n",
       "\n",
       "                               NOME_IES_BOLSA      TIPO_BOLSA  \\\n",
       "0  PONTIFICIA UNIVERSIDADE CATOLICA DO PARANA  BOLSA INTEGRAL   \n",
       "1  PONTIFICIA UNIVERSIDADE CATOLICA DO PARANA  BOLSA INTEGRAL   \n",
       "2  PONTIFICIA UNIVERSIDADE CATOLICA DO PARANA  BOLSA INTEGRAL   \n",
       "3  PONTIFICIA UNIVERSIDADE CATOLICA DO PARANA  BOLSA INTEGRAL   \n",
       "4  PONTIFICIA UNIVERSIDADE CATOLICA DO PARANA  BOLSA INTEGRAL   \n",
       "\n",
       "  MODALIDADE_ENSINO_BOLSA NOME_CURSO_BOLSA NOME_TURNO_CURSO_BOLSA  \\\n",
       "0              PRESENCIAL    Administracao                Noturno   \n",
       "1              PRESENCIAL    Administracao                Noturno   \n",
       "2              PRESENCIAL    Administracao                Noturno   \n",
       "3              PRESENCIAL    Administracao                Noturno   \n",
       "4              PRESENCIAL    Administracao                Noturno   \n",
       "\n",
       "  CPF_BENEFICIARIO_BOLSA SEXO_BENEFICIARIO_BOLSA RACA_BENEFICIARIO_BOLSA  \\\n",
       "0            ***209879**                       M                   Parda   \n",
       "1            ***083259**                       F                  Branca   \n",
       "2            ***529669**                       F                 Amarela   \n",
       "3            ***869569**                       F                   Parda   \n",
       "4            ***866769**                       M                  Branca   \n",
       "\n",
       "  DT_NASCIMENTO_BENEFICIARIO BENEFICIARIO_DEFICIENTE_FISICO  \\\n",
       "0                 1985-02-13                            nao   \n",
       "1                 1987-07-20                            nao   \n",
       "2                 1987-09-06                            nao   \n",
       "3                 1987-12-27                            nao   \n",
       "4                 1987-04-04                            nao   \n",
       "\n",
       "  REGIAO_BENEFICIARIO_BOLSA SIGLA_UF_BENEFICIARIO_BOLSA  \\\n",
       "0                       SUL                          PR   \n",
       "1                       SUL                          PR   \n",
       "2                       SUL                          PR   \n",
       "3                       SUL                          PR   \n",
       "4                       SUL                          PR   \n",
       "\n",
       "  MUNICIPIO_BENEFICIARIO_BOLSA  birth_year  age  \n",
       "0         sao jose dos pinhais        1985   20  \n",
       "1         sao jose dos pinhais        1987   18  \n",
       "2         sao jose dos pinhais        1987   18  \n",
       "3         sao jose dos pinhais        1987   18  \n",
       "4         sao jose dos pinhais        1987   18  "
      ]
     },
     "execution_count": 85,
     "metadata": {},
     "output_type": "execute_result"
    }
   ],
   "source": [
    "manag_student = prouni.loc[prouni.NOME_CURSO_BOLSA.isin(['Administracao'])]\n",
    "manag_student=manag_student.reset_index(drop=True)\n",
    "manag_student.head()"
   ]
  },
  {
   "cell_type": "code",
   "execution_count": 86,
   "id": "b146fb58",
   "metadata": {},
   "outputs": [
    {
     "data": {
      "text/plain": [
       "Noturno       81.600718\n",
       "Matutino      17.019120\n",
       "Vespertino     1.117095\n",
       "Integral       0.263068\n",
       "Name: NOME_TURNO_CURSO_BOLSA, dtype: float64"
      ]
     },
     "execution_count": 86,
     "metadata": {},
     "output_type": "execute_result"
    }
   ],
   "source": [
    "sum_shift=manag_student['NOME_TURNO_CURSO_BOLSA'].value_counts()\n",
    "sum_shift=sum_shift.drop(labels = ['A Distancia']) \n",
    "sum_shift=sum_shift/sum(sum_shift)*100\n",
    "sum_shift"
   ]
  },
  {
   "cell_type": "code",
   "execution_count": 87,
   "id": "e2fb87d8",
   "metadata": {},
   "outputs": [
    {
     "data": {
      "image/png": "[encoded data removed]",
      "text/plain": [
       "<Figure size 1500x500 with 5 Axes>"
      ]
     },
     "metadata": {},
     "output_type": "display_data"
    }
   ],
   "source": [
    "fig,(ax1, ax2,ax3,ax4,ax5)=plt.subplots(1,5,figsize=(15,5))\n",
    "\n",
    "#type\n",
    "\n",
    "ax1.bar(['Full','Partial 50%','Partial 25%'],manag_student['TIPO_BOLSA'].value_counts()/sum(manag_student['TIPO_BOLSA'].value_counts())*100)\n",
    "ax1.set_title('Type')\n",
    "ax1.set_ylabel('Percentage %')\n",
    "\n",
    "\n",
    "#presence or distance\n",
    "ax2.bar(['Presential','Distance'],manag_student['MODALIDADE_ENSINO_BOLSA'].value_counts()/sum(manag_student['MODALIDADE_ENSINO_BOLSA'].value_counts())*100)\n",
    "ax2.set_title('Modality')\n",
    "\n",
    "#shift\n",
    "ax3.bar(['Night','Morning','Afternoon','Full Time'],sum_shift)\n",
    "ax3.set_title('Shift')\n",
    "\n",
    "\n",
    "#gender\n",
    "ax4.bar(['Female','Male'],manag_student['SEXO_BENEFICIARIO_BOLSA'].value_counts()/sum(manag_student['SEXO_BENEFICIARIO_BOLSA'].value_counts())*100)\n",
    "ax4.set_title('Gender')\n",
    "\n",
    "#race\n",
    "ax5.bar(['White','Brown','Black','Yellow','Not Informed','Indigenous'],manag_student['RACA_BENEFICIARIO_BOLSA'].value_counts()/sum(manag_student['RACA_BENEFICIARIO_BOLSA'].value_counts())*100)\n",
    "ax5.set_title('Race')\n",
    "#ax4.set_ylabel('Percentage %')\n",
    "plt.show()\n"
   ]
  },
  {
   "cell_type": "markdown",
   "id": "4e7d4937",
   "metadata": {},
   "source": [
    "The Management fstudent:\n",
    "\n",
    "- Almost 70% with full scholarship;\n",
    "- Almost 80% presential classes;\n",
    "- Around 80% are on the night classes - the most difference with the general profile, which are 70% of night classes.\n",
    "- Prevalescece of woman;\n",
    "- Around 45% are white, followed by approximatelly 40% of brown people."
   ]
  },
  {
   "cell_type": "markdown",
   "id": "9653c637",
   "metadata": {},
   "source": [
    "## Conclusion"
   ]
  },
  {
   "cell_type": "markdown",
   "id": "c38f913b",
   "metadata": {},
   "source": [
    "- the evolution of the benefit over the years;<br>\n",
    "From the beggining of the program in 2005, 2.692.540 scholarships were granted. In the first 4 years, less than 150.000 scholarships a year, and after 2009 the number increased reaching a maximum of 252.650 scholarships in 2015, when the numbers started decreasing again, closing 2019 with 225.555 scholarships granted.<br>\n",
    "\n",
    "\n",
    "- if there are any universities which grants more scholarships;<br>\n",
    "Yes. 4% of the scholarships comes from 10 universities. The other 76% is divided between 2.137 universities.<br>\n",
    "\n",
    "\n",
    "- what type of grand is mostly rewarded;<br>\n",
    "Almost 70% of the grands are full scholarships, while 30% are partial ones of 50%. Partials of 25% were only given in the year of 2008.<br>\n",
    "\n",
    "\n",
    "- if there are more presence or distance, and when in presence, what period of the day is mostly used for the studies;<br>\n",
    "There are more presential students. 81.4% of them are taking presential courses while 18.6% distance courses. From the presential courses, 70% are night classes while 22% are morning classes.<br>\n",
    "\n",
    "\n",
    "- are there differences between genders and how much;<br>\n",
    "54% of the scholarship holders are woman while 46% are men.<br>\n",
    "\n",
    "\n",
    "- what race mosts receives it;<br>\n",
    "43% of the students consider themselves white, 41% brown and 13% black.<br>\n",
    "\n",
    "\n",
    "- what is the average age of the student;<br>\n",
    "Students enter the program with ages varying from 17 to 51 years old. Almost 16% of them start university with 18 years old, and 77% of them start between 18 and 27 years old.<br>\n",
    "\n",
    "\n",
    "- how many of the students are physically disabled;<br>\n",
    "Only 0.7% of the students are physically disabled.<br>\n",
    "\n",
    "\n",
    "- which region/state is most helped by the program;<br>\n",
    "Southeast receives almost 48% of the scholarships, followed by South and Northeast with 18% each, Center-West with 9% and North with 6.6%. As Southeast concentrates 42% of Brazilian population, the region which receives most grants per person is the South, which has 14.3% of the population but receives 18% of the scholarships. The Northeast region is the one with less help, having 27% of the population.\n",
    "The states of São Paulo and Minas Gerais are the ones who most receives scholarships, followed by Rio Grande do Sul and Paraná.\n",
    "The city of São Paulo receives more than any other city, followed by Brasilia, which alone receives 29% of the Center-West area.<br>\n",
    "\n",
    "\n",
    "- Which courses are most looked for;<br>\n",
    "The courses most looked for are Management, Law, Teaching, Accounting and Nursing. The top 30 most looked courses represent more 74% of all courses listed.<br>\n",
    "\n",
    "\n",
    "- can someone be contemplated more than once;<br>\n",
    "Yes. As our database is limited, we cannot find how many times the same person can be contemplated, but it was possible to see that you can at least change the scholarship from partial to full.<br>\n",
    "\n",
    "\n",
    "- what is the profile of the students who take the most listed course.<br>\n",
    "    - The profile of the student of Management follows the general profile: \n",
    "    - Almost 70% have full scholarship; \n",
    "    - Almost 80% go to the universty instead of taking online classes; \n",
    "    - Around 80% are on the night classes; \n",
    "    - Prevalescece of woman; \n",
    "    - Around 45% are white, followed by approximatelly 40% of brown people."
   ]
  },
  {
   "cell_type": "code",
   "execution_count": null,
   "id": "3881aa29",
   "metadata": {},
   "outputs": [],
   "source": []
  }
 ],
 "metadata": {
  "kernelspec": {
   "display_name": "Python 3 (ipykernel)",
   "language": "python",
   "name": "python3"
  },
  "language_info": {
   "codemirror_mode": {
    "name": "ipython",
    "version": 3
   },
   "file_extension": ".py",
   "mimetype": "text/x-python",
   "name": "python",
   "nbconvert_exporter": "python",
   "pygments_lexer": "ipython3",
   "version": "3.9.13"
  }
 },
 "nbformat": 4,
 "nbformat_minor": 5
}
